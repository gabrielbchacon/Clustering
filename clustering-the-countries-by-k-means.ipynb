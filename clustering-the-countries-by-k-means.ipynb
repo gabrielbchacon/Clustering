{
 "cells": [
  {
   "cell_type": "code",
   "execution_count": 1,
   "id": "f38b56db",
   "metadata": {
    "_cell_guid": "b1076dfc-b9ad-4769-8c92-a6c4dae69d19",
    "_uuid": "8f2839f25d086af736a60e9eeb907d3b93b6e0e5",
    "execution": {
     "iopub.execute_input": "2022-04-25T11:46:20.939895Z",
     "iopub.status.busy": "2022-04-25T11:46:20.939545Z",
     "iopub.status.idle": "2022-04-25T11:46:23.882518Z",
     "shell.execute_reply": "2022-04-25T11:46:23.881276Z"
    },
    "papermill": {
     "duration": 2.971323,
     "end_time": "2022-04-25T11:46:23.885118",
     "exception": false,
     "start_time": "2022-04-25T11:46:20.913795",
     "status": "completed"
    },
    "tags": []
   },
   "outputs": [
    {
     "name": "stdout",
     "output_type": "stream",
     "text": [
      "/kaggle/input/unsupervised-learning-on-country-data/Country-data.csv\n",
      "/kaggle/input/unsupervised-learning-on-country-data/data-dictionary.csv\n"
     ]
    }
   ],
   "source": [
    "#importing pandas and NumPY <3\n",
    "import numpy as np # linear algebra\n",
    "import pandas as pd # data processing, CSV file I/O (e.g. pd.read_csv)\n",
    "\n",
    "#importing Sklearn tools\n",
    "from sklearn.preprocessing import Normalizer\n",
    "from sklearn.cluster import KMeans\n",
    "from sklearn import metrics\n",
    "\n",
    "#importing data viz tools\n",
    "import matplotlib.pyplot as plt\n",
    "import seaborn as sns\n",
    "import plotly.express as px\n",
    "\n",
    "\n",
    "import os\n",
    "for dirname, _, filenames in os.walk('/kaggle/input'):\n",
    "    for filename in filenames:\n",
    "        print(os.path.join(dirname, filename))\n",
    "\n",
    "        "
   ]
  },
  {
   "cell_type": "markdown",
   "id": "afe1c241",
   "metadata": {
    "papermill": {
     "duration": 0.022302,
     "end_time": "2022-04-25T11:46:23.931111",
     "exception": false,
     "start_time": "2022-04-25T11:46:23.908809",
     "status": "completed"
    },
    "tags": []
   },
   "source": [
    "# DATA VIEW AND CLEANING"
   ]
  },
  {
   "cell_type": "code",
   "execution_count": 2,
   "id": "b8946941",
   "metadata": {
    "execution": {
     "iopub.execute_input": "2022-04-25T11:46:23.978828Z",
     "iopub.status.busy": "2022-04-25T11:46:23.978498Z",
     "iopub.status.idle": "2022-04-25T11:46:24.015179Z",
     "shell.execute_reply": "2022-04-25T11:46:24.014567Z"
    },
    "papermill": {
     "duration": 0.063,
     "end_time": "2022-04-25T11:46:24.017600",
     "exception": false,
     "start_time": "2022-04-25T11:46:23.954600",
     "status": "completed"
    },
    "tags": []
   },
   "outputs": [
    {
     "name": "stdout",
     "output_type": "stream",
     "text": [
      "<class 'pandas.core.frame.DataFrame'>\n",
      "RangeIndex: 167 entries, 0 to 166\n",
      "Data columns (total 10 columns):\n",
      " #   Column      Non-Null Count  Dtype  \n",
      "---  ------      --------------  -----  \n",
      " 0   country     167 non-null    object \n",
      " 1   child_mort  167 non-null    float64\n",
      " 2   exports     167 non-null    float64\n",
      " 3   health      167 non-null    float64\n",
      " 4   imports     167 non-null    float64\n",
      " 5   income      167 non-null    int64  \n",
      " 6   inflation   167 non-null    float64\n",
      " 7   life_expec  167 non-null    float64\n",
      " 8   total_fer   167 non-null    float64\n",
      " 9   gdpp        167 non-null    int64  \n",
      "dtypes: float64(7), int64(2), object(1)\n",
      "memory usage: 13.2+ KB\n"
     ]
    }
   ],
   "source": [
    "df = pd.read_csv('/kaggle/input/unsupervised-learning-on-country-data/Country-data.csv')\n",
    "df.info()"
   ]
  },
  {
   "cell_type": "code",
   "execution_count": 3,
   "id": "d919ae5a",
   "metadata": {
    "execution": {
     "iopub.execute_input": "2022-04-25T11:46:24.066830Z",
     "iopub.status.busy": "2022-04-25T11:46:24.066541Z",
     "iopub.status.idle": "2022-04-25T11:46:24.099161Z",
     "shell.execute_reply": "2022-04-25T11:46:24.098461Z"
    },
    "papermill": {
     "duration": 0.060721,
     "end_time": "2022-04-25T11:46:24.101409",
     "exception": false,
     "start_time": "2022-04-25T11:46:24.040688",
     "status": "completed"
    },
    "tags": []
   },
   "outputs": [
    {
     "data": {
      "text/html": [
       "<div>\n",
       "<style scoped>\n",
       "    .dataframe tbody tr th:only-of-type {\n",
       "        vertical-align: middle;\n",
       "    }\n",
       "\n",
       "    .dataframe tbody tr th {\n",
       "        vertical-align: top;\n",
       "    }\n",
       "\n",
       "    .dataframe thead th {\n",
       "        text-align: right;\n",
       "    }\n",
       "</style>\n",
       "<table border=\"1\" class=\"dataframe\">\n",
       "  <thead>\n",
       "    <tr style=\"text-align: right;\">\n",
       "      <th></th>\n",
       "      <th>child_mort</th>\n",
       "      <th>exports</th>\n",
       "      <th>health</th>\n",
       "      <th>imports</th>\n",
       "      <th>income</th>\n",
       "      <th>inflation</th>\n",
       "      <th>life_expec</th>\n",
       "      <th>total_fer</th>\n",
       "      <th>gdpp</th>\n",
       "    </tr>\n",
       "  </thead>\n",
       "  <tbody>\n",
       "    <tr>\n",
       "      <th>0</th>\n",
       "      <td>90.2</td>\n",
       "      <td>10.0</td>\n",
       "      <td>7.58</td>\n",
       "      <td>44.9</td>\n",
       "      <td>1610</td>\n",
       "      <td>9.44</td>\n",
       "      <td>56.2</td>\n",
       "      <td>5.82</td>\n",
       "      <td>553</td>\n",
       "    </tr>\n",
       "    <tr>\n",
       "      <th>1</th>\n",
       "      <td>16.6</td>\n",
       "      <td>28.0</td>\n",
       "      <td>6.55</td>\n",
       "      <td>48.6</td>\n",
       "      <td>9930</td>\n",
       "      <td>4.49</td>\n",
       "      <td>76.3</td>\n",
       "      <td>1.65</td>\n",
       "      <td>4090</td>\n",
       "    </tr>\n",
       "    <tr>\n",
       "      <th>2</th>\n",
       "      <td>27.3</td>\n",
       "      <td>38.4</td>\n",
       "      <td>4.17</td>\n",
       "      <td>31.4</td>\n",
       "      <td>12900</td>\n",
       "      <td>16.10</td>\n",
       "      <td>76.5</td>\n",
       "      <td>2.89</td>\n",
       "      <td>4460</td>\n",
       "    </tr>\n",
       "    <tr>\n",
       "      <th>3</th>\n",
       "      <td>119.0</td>\n",
       "      <td>62.3</td>\n",
       "      <td>2.85</td>\n",
       "      <td>42.9</td>\n",
       "      <td>5900</td>\n",
       "      <td>22.40</td>\n",
       "      <td>60.1</td>\n",
       "      <td>6.16</td>\n",
       "      <td>3530</td>\n",
       "    </tr>\n",
       "    <tr>\n",
       "      <th>4</th>\n",
       "      <td>10.3</td>\n",
       "      <td>45.5</td>\n",
       "      <td>6.03</td>\n",
       "      <td>58.9</td>\n",
       "      <td>19100</td>\n",
       "      <td>1.44</td>\n",
       "      <td>76.8</td>\n",
       "      <td>2.13</td>\n",
       "      <td>12200</td>\n",
       "    </tr>\n",
       "    <tr>\n",
       "      <th>...</th>\n",
       "      <td>...</td>\n",
       "      <td>...</td>\n",
       "      <td>...</td>\n",
       "      <td>...</td>\n",
       "      <td>...</td>\n",
       "      <td>...</td>\n",
       "      <td>...</td>\n",
       "      <td>...</td>\n",
       "      <td>...</td>\n",
       "    </tr>\n",
       "    <tr>\n",
       "      <th>162</th>\n",
       "      <td>29.2</td>\n",
       "      <td>46.6</td>\n",
       "      <td>5.25</td>\n",
       "      <td>52.7</td>\n",
       "      <td>2950</td>\n",
       "      <td>2.62</td>\n",
       "      <td>63.0</td>\n",
       "      <td>3.50</td>\n",
       "      <td>2970</td>\n",
       "    </tr>\n",
       "    <tr>\n",
       "      <th>163</th>\n",
       "      <td>17.1</td>\n",
       "      <td>28.5</td>\n",
       "      <td>4.91</td>\n",
       "      <td>17.6</td>\n",
       "      <td>16500</td>\n",
       "      <td>45.90</td>\n",
       "      <td>75.4</td>\n",
       "      <td>2.47</td>\n",
       "      <td>13500</td>\n",
       "    </tr>\n",
       "    <tr>\n",
       "      <th>164</th>\n",
       "      <td>23.3</td>\n",
       "      <td>72.0</td>\n",
       "      <td>6.84</td>\n",
       "      <td>80.2</td>\n",
       "      <td>4490</td>\n",
       "      <td>12.10</td>\n",
       "      <td>73.1</td>\n",
       "      <td>1.95</td>\n",
       "      <td>1310</td>\n",
       "    </tr>\n",
       "    <tr>\n",
       "      <th>165</th>\n",
       "      <td>56.3</td>\n",
       "      <td>30.0</td>\n",
       "      <td>5.18</td>\n",
       "      <td>34.4</td>\n",
       "      <td>4480</td>\n",
       "      <td>23.60</td>\n",
       "      <td>67.5</td>\n",
       "      <td>4.67</td>\n",
       "      <td>1310</td>\n",
       "    </tr>\n",
       "    <tr>\n",
       "      <th>166</th>\n",
       "      <td>83.1</td>\n",
       "      <td>37.0</td>\n",
       "      <td>5.89</td>\n",
       "      <td>30.9</td>\n",
       "      <td>3280</td>\n",
       "      <td>14.00</td>\n",
       "      <td>52.0</td>\n",
       "      <td>5.40</td>\n",
       "      <td>1460</td>\n",
       "    </tr>\n",
       "  </tbody>\n",
       "</table>\n",
       "<p>167 rows × 9 columns</p>\n",
       "</div>"
      ],
      "text/plain": [
       "     child_mort  exports  health  imports  income  inflation  life_expec  \\\n",
       "0          90.2     10.0    7.58     44.9    1610       9.44        56.2   \n",
       "1          16.6     28.0    6.55     48.6    9930       4.49        76.3   \n",
       "2          27.3     38.4    4.17     31.4   12900      16.10        76.5   \n",
       "3         119.0     62.3    2.85     42.9    5900      22.40        60.1   \n",
       "4          10.3     45.5    6.03     58.9   19100       1.44        76.8   \n",
       "..          ...      ...     ...      ...     ...        ...         ...   \n",
       "162        29.2     46.6    5.25     52.7    2950       2.62        63.0   \n",
       "163        17.1     28.5    4.91     17.6   16500      45.90        75.4   \n",
       "164        23.3     72.0    6.84     80.2    4490      12.10        73.1   \n",
       "165        56.3     30.0    5.18     34.4    4480      23.60        67.5   \n",
       "166        83.1     37.0    5.89     30.9    3280      14.00        52.0   \n",
       "\n",
       "     total_fer   gdpp  \n",
       "0         5.82    553  \n",
       "1         1.65   4090  \n",
       "2         2.89   4460  \n",
       "3         6.16   3530  \n",
       "4         2.13  12200  \n",
       "..         ...    ...  \n",
       "162       3.50   2970  \n",
       "163       2.47  13500  \n",
       "164       1.95   1310  \n",
       "165       4.67   1310  \n",
       "166       5.40   1460  \n",
       "\n",
       "[167 rows x 9 columns]"
      ]
     },
     "execution_count": 3,
     "metadata": {},
     "output_type": "execute_result"
    }
   ],
   "source": [
    "#considering this dataset looks beautiful and clean (without null values), let's just prepare our data to apply Kmeans\n",
    "\n",
    "#creating a copy from the dataset and drop the feature that will not be relevant for the K-means\n",
    "dataframe = df.copy()\n",
    "dataframe.drop(columns=['country'], inplace=True)\n",
    "dataframe\n"
   ]
  },
  {
   "cell_type": "markdown",
   "id": "fdd25b4f",
   "metadata": {
    "papermill": {
     "duration": 0.023569,
     "end_time": "2022-04-25T11:46:24.149635",
     "exception": false,
     "start_time": "2022-04-25T11:46:24.126066",
     "status": "completed"
    },
    "tags": []
   },
   "source": [
    "# DATA PREPROCESSING "
   ]
  },
  {
   "cell_type": "code",
   "execution_count": 4,
   "id": "30bd1ac6",
   "metadata": {
    "execution": {
     "iopub.execute_input": "2022-04-25T11:46:24.199846Z",
     "iopub.status.busy": "2022-04-25T11:46:24.199264Z",
     "iopub.status.idle": "2022-04-25T11:46:24.206679Z",
     "shell.execute_reply": "2022-04-25T11:46:24.205386Z"
    },
    "papermill": {
     "duration": 0.035371,
     "end_time": "2022-04-25T11:46:24.209662",
     "exception": false,
     "start_time": "2022-04-25T11:46:24.174291",
     "status": "completed"
    },
    "tags": []
   },
   "outputs": [
    {
     "name": "stdout",
     "output_type": "stream",
     "text": [
      "[[5.28625544e-02 5.86059362e-03 4.44232996e-03 ... 3.29365361e-02\n",
      "  3.41086549e-03 3.24090827e-01]\n",
      " [1.54565929e-03 2.60713615e-03 6.09883634e-04 ... 7.10444600e-03\n",
      "  1.53634809e-04 3.80828101e-01]\n",
      " [2.00006203e-03 2.81327406e-03 3.05503980e-04 ... 5.60456942e-03\n",
      "  2.11728178e-04 3.26750061e-01]\n",
      " ...\n",
      " [4.97959888e-03 1.53876017e-02 1.46182216e-03 ... 1.56226900e-02\n",
      "  4.16747546e-04 2.79968864e-01]\n",
      " [1.20589885e-02 6.42574875e-03 1.10951262e-03 ... 1.44579347e-02\n",
      "  1.00027489e-03 2.80591029e-01]\n",
      " [2.31349866e-02 1.03007762e-02 1.63977221e-03 ... 1.44767666e-02\n",
      "  1.50335653e-03 4.06463062e-01]]\n"
     ]
    }
   ],
   "source": [
    "# Let's normalize all the features first\n",
    "\n",
    "values = Normalizer().fit_transform(dataframe.values) \n",
    "print(values)"
   ]
  },
  {
   "cell_type": "markdown",
   "id": "761b18f8",
   "metadata": {
    "papermill": {
     "duration": 0.023797,
     "end_time": "2022-04-25T11:46:24.258156",
     "exception": false,
     "start_time": "2022-04-25T11:46:24.234359",
     "status": "completed"
    },
    "tags": []
   },
   "source": [
    "# Applying K-Means"
   ]
  },
  {
   "cell_type": "code",
   "execution_count": 5,
   "id": "92e5a808",
   "metadata": {
    "execution": {
     "iopub.execute_input": "2022-04-25T11:46:24.308281Z",
     "iopub.status.busy": "2022-04-25T11:46:24.308003Z",
     "iopub.status.idle": "2022-04-25T11:46:24.314097Z",
     "shell.execute_reply": "2022-04-25T11:46:24.313102Z"
    },
    "papermill": {
     "duration": 0.033368,
     "end_time": "2022-04-25T11:46:24.316360",
     "exception": false,
     "start_time": "2022-04-25T11:46:24.282992",
     "status": "completed"
    },
    "tags": []
   },
   "outputs": [],
   "source": [
    "def clustering_algorithm(n_clusters, dataset):\n",
    "    kmeans = KMeans(n_clusters=n_clusters, n_init=10, max_iter=300)\n",
    "    labels = kmeans.fit_predict(dataset)\n",
    "    s = metrics.silhouette_score(dataset, labels, metric='euclidean')\n",
    "    dbs = metrics.davies_bouldin_score(dataset, labels)\n",
    "    calinski = metrics.calinski_harabasz_score(dataset, labels)\n",
    "    return s, dbs, calinski\n"
   ]
  },
  {
   "cell_type": "code",
   "execution_count": 6,
   "id": "73b3c7c6",
   "metadata": {
    "execution": {
     "iopub.execute_input": "2022-04-25T11:46:24.369020Z",
     "iopub.status.busy": "2022-04-25T11:46:24.368670Z",
     "iopub.status.idle": "2022-04-25T11:46:25.361009Z",
     "shell.execute_reply": "2022-04-25T11:46:25.360029Z"
    },
    "papermill": {
     "duration": 1.02231,
     "end_time": "2022-04-25T11:46:25.364718",
     "exception": false,
     "start_time": "2022-04-25T11:46:24.342408",
     "status": "completed"
    },
    "tags": []
   },
   "outputs": [
    {
     "name": "stdout",
     "output_type": "stream",
     "text": [
      "3 0.5198837827909313 0.600866931760727 458.3126427646605\n",
      "4 0.4668632199420871 0.7198105851721268 439.95619985014906\n",
      "5 0.49356364961886356 0.7149150273654393 415.51152737101586\n",
      "6 0.47222025926012295 0.7357727247657255 443.93848139853344\n",
      "7 0.47034321173528354 0.6986717401677555 457.1115533912653\n",
      "8 0.42272520618294895 0.6918296876560636 464.81457412991244\n",
      "9 0.42617324762132835 0.6338191681169065 467.16640445432273\n",
      "10 0.4334709237858513 0.6626565588532441 485.3757251606794\n"
     ]
    }
   ],
   "source": [
    "#first lest check which n based on the main score (Silhoette, Davies - Bouldin and Calinski)\n",
    "\n",
    "for i in range(3, 11):\n",
    "    s, dbs, calinski = clustering_algorithm(i, values)\n",
    "    print(i, s, dbs, calinski)"
   ]
  },
  {
   "cell_type": "code",
   "execution_count": 7,
   "id": "38d8aa56",
   "metadata": {
    "execution": {
     "iopub.execute_input": "2022-04-25T11:46:25.472917Z",
     "iopub.status.busy": "2022-04-25T11:46:25.472613Z",
     "iopub.status.idle": "2022-04-25T11:46:25.476394Z",
     "shell.execute_reply": "2022-04-25T11:46:25.475543Z"
    },
    "papermill": {
     "duration": 0.05431,
     "end_time": "2022-04-25T11:46:25.478555",
     "exception": false,
     "start_time": "2022-04-25T11:46:25.424245",
     "status": "completed"
    },
    "tags": []
   },
   "outputs": [],
   "source": [
    "# Considering Silhoette as the main metric, 3 clusters show the best score in comparison with all the others N. \n",
    "# Also it is align with the commons sense in terms of the country's economic segmentation (developing developed and underdeveloped) link: https://en.wikipedia.org/wiki/Developing_country. \n",
    "# So let's check if K-means were able to separate all those countries by itself, but first let's run some more tests"
   ]
  },
  {
   "cell_type": "code",
   "execution_count": 8,
   "id": "f9eabbe6",
   "metadata": {
    "execution": {
     "iopub.execute_input": "2022-04-25T11:46:25.533002Z",
     "iopub.status.busy": "2022-04-25T11:46:25.532438Z",
     "iopub.status.idle": "2022-04-25T11:46:25.629042Z",
     "shell.execute_reply": "2022-04-25T11:46:25.628220Z"
    },
    "papermill": {
     "duration": 0.127395,
     "end_time": "2022-04-25T11:46:25.632397",
     "exception": false,
     "start_time": "2022-04-25T11:46:25.505002",
     "status": "completed"
    },
    "tags": []
   },
   "outputs": [
    {
     "name": "stdout",
     "output_type": "stream",
     "text": [
      "0.09509950613252639 2.5017553706741507 17.435057888282174\n",
      "0.5198837827909313 0.600866931760727 458.3126427646605\n"
     ]
    }
   ],
   "source": [
    "#First, let's compare with a random sample to understand how far this model looks good in comparison with a random world. \n",
    "\n",
    "random_data = np.random.rand(167,9)\n",
    "s_random, dbs_random, calinski_random = clustering_algorithm(3, random_data)\n",
    "s, dbs, calinski = clustering_algorithm(3, values)\n",
    "\n",
    "print(s_random, dbs_random, calinski_random)\n",
    "print(s, dbs, calinski)\n",
    "\n",
    "#It's way more accurate, which is good!"
   ]
  },
  {
   "cell_type": "code",
   "execution_count": 9,
   "id": "f1561aea",
   "metadata": {
    "execution": {
     "iopub.execute_input": "2022-04-25T11:46:25.744624Z",
     "iopub.status.busy": "2022-04-25T11:46:25.744277Z",
     "iopub.status.idle": "2022-04-25T11:46:25.821436Z",
     "shell.execute_reply": "2022-04-25T11:46:25.820611Z"
    },
    "papermill": {
     "duration": 0.129518,
     "end_time": "2022-04-25T11:46:25.823967",
     "exception": false,
     "start_time": "2022-04-25T11:46:25.694449",
     "status": "completed"
    },
    "tags": []
   },
   "outputs": [
    {
     "name": "stdout",
     "output_type": "stream",
     "text": [
      "0.5099002406186719 0.6176771695644532 163.35312834956085\n",
      "0.5355580436538645 0.5880283946904726 188.30786716669212\n",
      "0.5657004742226224 0.5356671502718752 142.91946826594048\n"
     ]
    }
   ],
   "source": [
    "# Then let's test the stabilization (how consistent) this segmentation is if we split the sample into 3 parts. \n",
    "\n",
    "set1, set2, set3 = np.array_split(values, 3)\n",
    "s1, dbs1, calinski1 = clustering_algorithm(3, set1)\n",
    "s2, dbs2, calinski2 = clustering_algorithm(3, set2)\n",
    "s3, dbs3, calinski3 = clustering_algorithm(3, set3)\n",
    "print(s1, dbs1, calinski1)\n",
    "print(s2, dbs2, calinski2)\n",
    "print(s3, dbs3, calinski3)\n",
    "\n",
    "#It looks fluctuates around in the same range for all metrics. It's also very good!"
   ]
  },
  {
   "cell_type": "markdown",
   "id": "1c44c53b",
   "metadata": {
    "papermill": {
     "duration": 0.026101,
     "end_time": "2022-04-25T11:46:25.877609",
     "exception": false,
     "start_time": "2022-04-25T11:46:25.851508",
     "status": "completed"
    },
    "tags": []
   },
   "source": [
    "# Data Insights"
   ]
  },
  {
   "cell_type": "code",
   "execution_count": 10,
   "id": "791d31a9",
   "metadata": {
    "execution": {
     "iopub.execute_input": "2022-04-25T11:46:25.935688Z",
     "iopub.status.busy": "2022-04-25T11:46:25.935321Z",
     "iopub.status.idle": "2022-04-25T11:46:25.989424Z",
     "shell.execute_reply": "2022-04-25T11:46:25.988367Z"
    },
    "papermill": {
     "duration": 0.086289,
     "end_time": "2022-04-25T11:46:25.992025",
     "exception": false,
     "start_time": "2022-04-25T11:46:25.905736",
     "status": "completed"
    },
    "tags": []
   },
   "outputs": [],
   "source": [
    "kmeans = KMeans(n_clusters=3, n_init=10, max_iter=300)\n",
    "y_pred = kmeans.fit_predict(values)\n",
    "labels = kmeans.labels_\n",
    "\n",
    "df['labels'] = labels\n"
   ]
  },
  {
   "cell_type": "code",
   "execution_count": 11,
   "id": "e38d8c0a",
   "metadata": {
    "execution": {
     "iopub.execute_input": "2022-04-25T11:46:26.050802Z",
     "iopub.status.busy": "2022-04-25T11:46:26.050417Z",
     "iopub.status.idle": "2022-04-25T11:46:26.348048Z",
     "shell.execute_reply": "2022-04-25T11:46:26.347066Z"
    },
    "papermill": {
     "duration": 0.328758,
     "end_time": "2022-04-25T11:46:26.350270",
     "exception": false,
     "start_time": "2022-04-25T11:46:26.021512",
     "status": "completed"
    },
    "tags": []
   },
   "outputs": [
    {
     "data": {
      "text/plain": [
       "<seaborn.axisgrid.FacetGrid at 0x7f7984398650>"
      ]
     },
     "execution_count": 11,
     "metadata": {},
     "output_type": "execute_result"
    },
    {
     "data": {
      "image/png": "[encoded data removed]",
      "text/plain": [
       "<Figure size 360x360 with 1 Axes>"
      ]
     },
     "metadata": {
      "needs_background": "light"
     },
     "output_type": "display_data"
    }
   ],
   "source": [
    "sns.catplot(x='labels', kind='count', data=df)"
   ]
  },
  {
   "cell_type": "code",
   "execution_count": 12,
   "id": "b924e8f3",
   "metadata": {
    "execution": {
     "iopub.execute_input": "2022-04-25T11:46:26.409794Z",
     "iopub.status.busy": "2022-04-25T11:46:26.407845Z",
     "iopub.status.idle": "2022-04-25T11:46:26.415166Z",
     "shell.execute_reply": "2022-04-25T11:46:26.414341Z"
    },
    "papermill": {
     "duration": 0.040489,
     "end_time": "2022-04-25T11:46:26.418534",
     "exception": false,
     "start_time": "2022-04-25T11:46:26.378045",
     "status": "completed"
    },
    "tags": []
   },
   "outputs": [
    {
     "name": "stdout",
     "output_type": "stream",
     "text": [
      "[[2.65698003e-02 7.83591318e-03 2.09647839e-03 1.38388435e-02\n",
      "  9.28546308e-01 2.75256412e-03 1.91114548e-02 1.44277188e-03\n",
      "  3.62757939e-01]\n",
      " [1.89973424e-03 1.41159823e-03 5.18643396e-04 2.90914866e-03\n",
      "  6.78742436e-01 3.45565877e-04 3.63893463e-03 1.78818699e-04\n",
      "  7.29344202e-01]\n",
      " [8.42918330e-03 5.13419276e-03 8.04677579e-04 6.63167707e-03\n",
      "  8.58474169e-01 1.28772230e-03 8.40689071e-03 5.51309664e-04\n",
      "  5.08823371e-01]]\n"
     ]
    }
   ],
   "source": [
    "#It is important to get the features that the centroids have the most significant variance. \n",
    "# So, we can see how each feature is important for the segmentation's composition\n",
    "centroids = kmeans.cluster_centers_\n",
    "print(centroids)"
   ]
  },
  {
   "cell_type": "code",
   "execution_count": 13,
   "id": "30a15160",
   "metadata": {
    "execution": {
     "iopub.execute_input": "2022-04-25T11:46:26.477834Z",
     "iopub.status.busy": "2022-04-25T11:46:26.477243Z",
     "iopub.status.idle": "2022-04-25T11:46:26.486824Z",
     "shell.execute_reply": "2022-04-25T11:46:26.485545Z"
    },
    "papermill": {
     "duration": 0.04208,
     "end_time": "2022-04-25T11:46:26.489734",
     "exception": false,
     "start_time": "2022-04-25T11:46:26.447654",
     "status": "completed"
    },
    "tags": []
   },
   "outputs": [
    {
     "name": "stdout",
     "output_type": "stream",
     "text": [
      "child_mort \n",
      "0.0001\n",
      "exports \n",
      "0.0000\n",
      "health \n",
      "0.0000\n",
      "imports \n",
      "0.0000\n",
      "income \n",
      "0.0111\n",
      "inflation \n",
      "0.0000\n",
      "life_expec \n",
      "0.0000\n",
      "total_fer \n",
      "0.0000\n",
      "gdpp \n",
      "0.0227\n"
     ]
    }
   ],
   "source": [
    "max = len(centroids[0])\n",
    "for i in range(max):\n",
    "    print(dataframe.columns.values[i],\"\\n{:.4f}\".format(centroids[:, i].var()))\n",
    "    \n",
    "#So the most significant features is Net income per person and The GDP per capita, wich is a good coincidence because allow us to use 2d chats :)"
   ]
  },
  {
   "cell_type": "code",
   "execution_count": 14,
   "id": "04d04527",
   "metadata": {
    "execution": {
     "iopub.execute_input": "2022-04-25T11:46:26.548154Z",
     "iopub.status.busy": "2022-04-25T11:46:26.547856Z",
     "iopub.status.idle": "2022-04-25T11:46:26.555114Z",
     "shell.execute_reply": "2022-04-25T11:46:26.554171Z"
    },
    "papermill": {
     "duration": 0.039187,
     "end_time": "2022-04-25T11:46:26.557459",
     "exception": false,
     "start_time": "2022-04-25T11:46:26.518272",
     "status": "completed"
    },
    "tags": []
   },
   "outputs": [],
   "source": [
    "df_0 = df[df['labels'] == 0]\n",
    "df_1 = df[df['labels'] == 1]\n",
    "df_2 = df[df['labels'] == 2]"
   ]
  },
  {
   "cell_type": "code",
   "execution_count": 15,
   "id": "4a464ef2",
   "metadata": {
    "execution": {
     "iopub.execute_input": "2022-04-25T11:46:26.616585Z",
     "iopub.status.busy": "2022-04-25T11:46:26.616272Z",
     "iopub.status.idle": "2022-04-25T11:46:26.962764Z",
     "shell.execute_reply": "2022-04-25T11:46:26.961777Z"
    },
    "papermill": {
     "duration": 0.378449,
     "end_time": "2022-04-25T11:46:26.964962",
     "exception": false,
     "start_time": "2022-04-25T11:46:26.586513",
     "status": "completed"
    },
    "tags": []
   },
   "outputs": [
    {
     "data": {
      "text/plain": [
       "<function matplotlib.pyplot.show(close=None, block=None)>"
      ]
     },
     "execution_count": 15,
     "metadata": {},
     "output_type": "execute_result"
    },
    {
     "data": {
      "image/png": "[encoded data removed]",
      "text/plain": [
       "<Figure size 640x480 with 1 Axes>"
      ]
     },
     "metadata": {
      "needs_background": "light"
     },
     "output_type": "display_data"
    }
   ],
   "source": [
    "plt.figure(figsize=(8, 6), dpi=80)\n",
    "plt.scatter(df_0['income'], df_0['gdpp'], c='blue', s=10, label='Cluster A')\n",
    "plt.scatter(df_1['income'], df_1['gdpp'], c='red', s=10, label='Cluster B')\n",
    "plt.scatter(df_2['income'], df_2['gdpp'], c='green', s=10, label='Cluster C')\n",
    "\n",
    "plt.xlabel('Net income per person')\n",
    "plt.ylabel('GDP per capita')\n",
    "plt.legend(),\n",
    "plt.show\n"
   ]
  },
  {
   "cell_type": "markdown",
   "id": "8b79475e",
   "metadata": {
    "papermill": {
     "duration": 0.029711,
     "end_time": "2022-04-25T11:46:27.024393",
     "exception": false,
     "start_time": "2022-04-25T11:46:26.994682",
     "status": "completed"
    },
    "tags": []
   },
   "source": [
    "Is it possible to see all the tree groups:\n",
    "*     Cluster A: Lower net income per person and The GDP per capita. \n",
    "*     Cluster B: Highest et income per person and The GDP per capita\n",
    "*     Cluster C: Medium et income per person and The GDP per capita\n",
    "\n",
    "\n",
    "We can see in this chart the most significant change in the segmentation is the inclining between those two variables.\n",
    "\n",
    "\n",
    "Which, in my understanding, means that the most significant difference between those 3 groups is how those countries can, as the economic production grows, the population in general feels this growth in terms of Net income. "
   ]
  },
  {
   "cell_type": "code",
   "execution_count": 16,
   "id": "d94f8e04",
   "metadata": {
    "execution": {
     "iopub.execute_input": "2022-04-25T11:46:27.086081Z",
     "iopub.status.busy": "2022-04-25T11:46:27.085659Z",
     "iopub.status.idle": "2022-04-25T11:46:28.218017Z",
     "shell.execute_reply": "2022-04-25T11:46:28.217048Z"
    },
    "papermill": {
     "duration": 1.165677,
     "end_time": "2022-04-25T11:46:28.220105",
     "exception": false,
     "start_time": "2022-04-25T11:46:27.054428",
     "status": "completed"
    },
    "tags": []
   },
   "outputs": [
    {
     "data": {
      "text/html": [
       "        <script type=\"text/javascript\">\n",
       "        window.PlotlyConfig = {MathJaxConfig: 'local'};\n",
       "        if (window.MathJax) {MathJax.Hub.Config({SVG: {font: \"STIX-Web\"}});}\n",
       "        if (typeof require !== 'undefined') {\n",
       "        require.undef(\"plotly\");\n",
       "        requirejs.config({\n",
       "            paths: {\n",
       "                'plotly': ['https://cdn.plot.ly/plotly-2.11.1.min']\n",
       "            }\n",
       "        });\n",
       "        require(['plotly'], function(Plotly) {\n",
       "            window._Plotly = Plotly;\n",
       "        });\n",
       "        }\n",
       "        </script>\n",
       "        "
      ]
     },
     "metadata": {},
     "output_type": "display_data"
    },
    {
     "data": {
      "text/html": [
       "<div>                            <div id=\"96d750ae-fd2c-4665-ae14-bf2dc2c71d8f\" class=\"plotly-graph-div\" style=\"height:525px; width:100%;\"></div>            <script type=\"text/javascript\">                require([\"plotly\"], function(Plotly) {                    window.PLOTLYENV=window.PLOTLYENV || {};                                    if (document.getElementById(\"96d750ae-fd2c-4665-ae14-bf2dc2c71d8f\")) {                    Plotly.newPlot(                        \"96d750ae-fd2c-4665-ae14-bf2dc2c71d8f\",                        [{\"colorscale\":[[0.0,\"#636efa\"],[1.0,\"#636efa\"]],\"geo\":\"geo\",\"hovertemplate\":\"labels=Cluster A<br>country=%{location}<extra></extra>\",\"locationmode\":\"country names\",\"locations\":[\"Afghanistan\",\"Albania\",\"Algeria\",\"Armenia\",\"Azerbaijan\",\"Bangladesh\",\"Belarus\",\"Benin\",\"Bhutan\",\"Bolivia\",\"Bosnia and Herzegovina\",\"Botswana\",\"Brunei\",\"Bulgaria\",\"Burkina Faso\",\"Burundi\",\"Cambodia\",\"Central African Republic\",\"Chad\",\"China\",\"Cote d'Ivoire\",\"Egypt\",\"El Salvador\",\"Eritrea\",\"Gambia\",\"Georgia\",\"Ghana\",\"Guatemala\",\"Guinea-Bissau\",\"Haiti\",\"India\",\"Indonesia\",\"Iran\",\"Iraq\",\"Jordan\",\"Kazakhstan\",\"Kenya\",\"Kyrgyz Republic\",\"Lao\",\"Lesotho\",\"Liberia\",\"Libya\",\"Macedonia, FYR\",\"Madagascar\",\"Malawi\",\"Malaysia\",\"Mali\",\"Mauritania\",\"Moldova\",\"Mongolia\",\"Montenegro\",\"Morocco\",\"Mozambique\",\"Myanmar\",\"Nepal\",\"Niger\",\"Nigeria\",\"Oman\",\"Pakistan\",\"Paraguay\",\"Philippines\",\"Romania\",\"Russia\",\"Rwanda\",\"Saudi Arabia\",\"Senegal\",\"Serbia\",\"Sierra Leone\",\"Sri Lanka\",\"Sudan\",\"Tajikistan\",\"Tanzania\",\"Thailand\",\"Togo\",\"Tunisia\",\"Turkmenistan\",\"Uganda\",\"Ukraine\",\"Uzbekistan\",\"Vietnam\",\"Yemen\",\"Zambia\"],\"name\":\"Cluster A\",\"showlegend\":true,\"showscale\":false,\"z\":[1,1,1,1,1,1,1,1,1,1,1,1,1,1,1,1,1,1,1,1,1,1,1,1,1,1,1,1,1,1,1,1,1,1,1,1,1,1,1,1,1,1,1,1,1,1,1,1,1,1,1,1,1,1,1,1,1,1,1,1,1,1,1,1,1,1,1,1,1,1,1,1,1,1,1,1,1,1,1,1,1,1],\"type\":\"choropleth\"},{\"colorscale\":[[0.0,\"#EF553B\"],[1.0,\"#EF553B\"]],\"geo\":\"geo\",\"hovertemplate\":\"labels=Cluster C<br>country=%{location}<extra></extra>\",\"locationmode\":\"country names\",\"locations\":[\"Angola\",\"Antigua and Barbuda\",\"Argentina\",\"Bahrain\",\"Belize\",\"Brazil\",\"Cameroon\",\"Cape Verde\",\"Chile\",\"Colombia\",\"Comoros\",\"Congo, Dem. Rep.\",\"Congo, Rep.\",\"Costa Rica\",\"Croatia\",\"Czech Republic\",\"Dominican Republic\",\"Ecuador\",\"Equatorial Guinea\",\"Estonia\",\"Fiji\",\"Gabon\",\"Grenada\",\"Guinea\",\"Guyana\",\"Hungary\",\"Jamaica\",\"Kuwait\",\"Latvia\",\"Lebanon\",\"Lithuania\",\"Maldives\",\"Malta\",\"Mauritius\",\"Namibia\",\"Panama\",\"Peru\",\"Poland\",\"Qatar\",\"Samoa\",\"Seychelles\",\"Singapore\",\"Slovak Republic\",\"Solomon Islands\",\"South Africa\",\"South Korea\",\"St. Vincent and the Grenadines\",\"Suriname\",\"Tonga\",\"Turkey\",\"United Arab Emirates\",\"Uruguay\"],\"name\":\"Cluster C\",\"showlegend\":true,\"showscale\":false,\"z\":[1,1,1,1,1,1,1,1,1,1,1,1,1,1,1,1,1,1,1,1,1,1,1,1,1,1,1,1,1,1,1,1,1,1,1,1,1,1,1,1,1,1,1,1,1,1,1,1,1,1,1,1],\"type\":\"choropleth\"},{\"colorscale\":[[0.0,\"#00cc96\"],[1.0,\"#00cc96\"]],\"geo\":\"geo\",\"hovertemplate\":\"labels=Cluster B<br>country=%{location}<extra></extra>\",\"locationmode\":\"country names\",\"locations\":[\"Australia\",\"Austria\",\"Bahamas\",\"Barbados\",\"Belgium\",\"Canada\",\"Cyprus\",\"Denmark\",\"Finland\",\"France\",\"Germany\",\"Greece\",\"Iceland\",\"Ireland\",\"Israel\",\"Italy\",\"Japan\",\"Kiribati\",\"Luxembourg\",\"Micronesia, Fed. Sts.\",\"Netherlands\",\"New Zealand\",\"Norway\",\"Portugal\",\"Slovenia\",\"Spain\",\"Sweden\",\"Switzerland\",\"Timor-Leste\",\"United Kingdom\",\"United States\",\"Vanuatu\",\"Venezuela\"],\"name\":\"Cluster B\",\"showlegend\":true,\"showscale\":false,\"z\":[1,1,1,1,1,1,1,1,1,1,1,1,1,1,1,1,1,1,1,1,1,1,1,1,1,1,1,1,1,1,1,1,1],\"type\":\"choropleth\"}],                        {\"template\":{\"data\":{\"histogram2dcontour\":[{\"type\":\"histogram2dcontour\",\"colorbar\":{\"outlinewidth\":0,\"ticks\":\"\"},\"colorscale\":[[0.0,\"#0d0887\"],[0.1111111111111111,\"#46039f\"],[0.2222222222222222,\"#7201a8\"],[0.3333333333333333,\"#9c179e\"],[0.4444444444444444,\"#bd3786\"],[0.5555555555555556,\"#d8576b\"],[0.6666666666666666,\"#ed7953\"],[0.7777777777777778,\"#fb9f3a\"],[0.8888888888888888,\"#fdca26\"],[1.0,\"#f0f921\"]]}],\"choropleth\":[{\"type\":\"choropleth\",\"colorbar\":{\"outlinewidth\":0,\"ticks\":\"\"}}],\"histogram2d\":[{\"type\":\"histogram2d\",\"colorbar\":{\"outlinewidth\":0,\"ticks\":\"\"},\"colorscale\":[[0.0,\"#0d0887\"],[0.1111111111111111,\"#46039f\"],[0.2222222222222222,\"#7201a8\"],[0.3333333333333333,\"#9c179e\"],[0.4444444444444444,\"#bd3786\"],[0.5555555555555556,\"#d8576b\"],[0.6666666666666666,\"#ed7953\"],[0.7777777777777778,\"#fb9f3a\"],[0.8888888888888888,\"#fdca26\"],[1.0,\"#f0f921\"]]}],\"heatmap\":[{\"type\":\"heatmap\",\"colorbar\":{\"outlinewidth\":0,\"ticks\":\"\"},\"colorscale\":[[0.0,\"#0d0887\"],[0.1111111111111111,\"#46039f\"],[0.2222222222222222,\"#7201a8\"],[0.3333333333333333,\"#9c179e\"],[0.4444444444444444,\"#bd3786\"],[0.5555555555555556,\"#d8576b\"],[0.6666666666666666,\"#ed7953\"],[0.7777777777777778,\"#fb9f3a\"],[0.8888888888888888,\"#fdca26\"],[1.0,\"#f0f921\"]]}],\"heatmapgl\":[{\"type\":\"heatmapgl\",\"colorbar\":{\"outlinewidth\":0,\"ticks\":\"\"},\"colorscale\":[[0.0,\"#0d0887\"],[0.1111111111111111,\"#46039f\"],[0.2222222222222222,\"#7201a8\"],[0.3333333333333333,\"#9c179e\"],[0.4444444444444444,\"#bd3786\"],[0.5555555555555556,\"#d8576b\"],[0.6666666666666666,\"#ed7953\"],[0.7777777777777778,\"#fb9f3a\"],[0.8888888888888888,\"#fdca26\"],[1.0,\"#f0f921\"]]}],\"contourcarpet\":[{\"type\":\"contourcarpet\",\"colorbar\":{\"outlinewidth\":0,\"ticks\":\"\"}}],\"contour\":[{\"type\":\"contour\",\"colorbar\":{\"outlinewidth\":0,\"ticks\":\"\"},\"colorscale\":[[0.0,\"#0d0887\"],[0.1111111111111111,\"#46039f\"],[0.2222222222222222,\"#7201a8\"],[0.3333333333333333,\"#9c179e\"],[0.4444444444444444,\"#bd3786\"],[0.5555555555555556,\"#d8576b\"],[0.6666666666666666,\"#ed7953\"],[0.7777777777777778,\"#fb9f3a\"],[0.8888888888888888,\"#fdca26\"],[1.0,\"#f0f921\"]]}],\"surface\":[{\"type\":\"surface\",\"colorbar\":{\"outlinewidth\":0,\"ticks\":\"\"},\"colorscale\":[[0.0,\"#0d0887\"],[0.1111111111111111,\"#46039f\"],[0.2222222222222222,\"#7201a8\"],[0.3333333333333333,\"#9c179e\"],[0.4444444444444444,\"#bd3786\"],[0.5555555555555556,\"#d8576b\"],[0.6666666666666666,\"#ed7953\"],[0.7777777777777778,\"#fb9f3a\"],[0.8888888888888888,\"#fdca26\"],[1.0,\"#f0f921\"]]}],\"mesh3d\":[{\"type\":\"mesh3d\",\"colorbar\":{\"outlinewidth\":0,\"ticks\":\"\"}}],\"scatter\":[{\"fillpattern\":{\"fillmode\":\"overlay\",\"size\":10,\"solidity\":0.2},\"type\":\"scatter\"}],\"parcoords\":[{\"type\":\"parcoords\",\"line\":{\"colorbar\":{\"outlinewidth\":0,\"ticks\":\"\"}}}],\"scatterpolargl\":[{\"type\":\"scatterpolargl\",\"marker\":{\"colorbar\":{\"outlinewidth\":0,\"ticks\":\"\"}}}],\"bar\":[{\"error_x\":{\"color\":\"#2a3f5f\"},\"error_y\":{\"color\":\"#2a3f5f\"},\"marker\":{\"line\":{\"color\":\"#E5ECF6\",\"width\":0.5},\"pattern\":{\"fillmode\":\"overlay\",\"size\":10,\"solidity\":0.2}},\"type\":\"bar\"}],\"scattergeo\":[{\"type\":\"scattergeo\",\"marker\":{\"colorbar\":{\"outlinewidth\":0,\"ticks\":\"\"}}}],\"scatterpolar\":[{\"type\":\"scatterpolar\",\"marker\":{\"colorbar\":{\"outlinewidth\":0,\"ticks\":\"\"}}}],\"histogram\":[{\"marker\":{\"pattern\":{\"fillmode\":\"overlay\",\"size\":10,\"solidity\":0.2}},\"type\":\"histogram\"}],\"scattergl\":[{\"type\":\"scattergl\",\"marker\":{\"colorbar\":{\"outlinewidth\":0,\"ticks\":\"\"}}}],\"scatter3d\":[{\"type\":\"scatter3d\",\"line\":{\"colorbar\":{\"outlinewidth\":0,\"ticks\":\"\"}},\"marker\":{\"colorbar\":{\"outlinewidth\":0,\"ticks\":\"\"}}}],\"scattermapbox\":[{\"type\":\"scattermapbox\",\"marker\":{\"colorbar\":{\"outlinewidth\":0,\"ticks\":\"\"}}}],\"scatterternary\":[{\"type\":\"scatterternary\",\"marker\":{\"colorbar\":{\"outlinewidth\":0,\"ticks\":\"\"}}}],\"scattercarpet\":[{\"type\":\"scattercarpet\",\"marker\":{\"colorbar\":{\"outlinewidth\":0,\"ticks\":\"\"}}}],\"carpet\":[{\"aaxis\":{\"endlinecolor\":\"#2a3f5f\",\"gridcolor\":\"white\",\"linecolor\":\"white\",\"minorgridcolor\":\"white\",\"startlinecolor\":\"#2a3f5f\"},\"baxis\":{\"endlinecolor\":\"#2a3f5f\",\"gridcolor\":\"white\",\"linecolor\":\"white\",\"minorgridcolor\":\"white\",\"startlinecolor\":\"#2a3f5f\"},\"type\":\"carpet\"}],\"table\":[{\"cells\":{\"fill\":{\"color\":\"#EBF0F8\"},\"line\":{\"color\":\"white\"}},\"header\":{\"fill\":{\"color\":\"#C8D4E3\"},\"line\":{\"color\":\"white\"}},\"type\":\"table\"}],\"barpolar\":[{\"marker\":{\"line\":{\"color\":\"#E5ECF6\",\"width\":0.5},\"pattern\":{\"fillmode\":\"overlay\",\"size\":10,\"solidity\":0.2}},\"type\":\"barpolar\"}],\"pie\":[{\"automargin\":true,\"type\":\"pie\"}]},\"layout\":{\"autotypenumbers\":\"strict\",\"colorway\":[\"#636efa\",\"#EF553B\",\"#00cc96\",\"#ab63fa\",\"#FFA15A\",\"#19d3f3\",\"#FF6692\",\"#B6E880\",\"#FF97FF\",\"#FECB52\"],\"font\":{\"color\":\"#2a3f5f\"},\"hovermode\":\"closest\",\"hoverlabel\":{\"align\":\"left\"},\"paper_bgcolor\":\"white\",\"plot_bgcolor\":\"#E5ECF6\",\"polar\":{\"bgcolor\":\"#E5ECF6\",\"angularaxis\":{\"gridcolor\":\"white\",\"linecolor\":\"white\",\"ticks\":\"\"},\"radialaxis\":{\"gridcolor\":\"white\",\"linecolor\":\"white\",\"ticks\":\"\"}},\"ternary\":{\"bgcolor\":\"#E5ECF6\",\"aaxis\":{\"gridcolor\":\"white\",\"linecolor\":\"white\",\"ticks\":\"\"},\"baxis\":{\"gridcolor\":\"white\",\"linecolor\":\"white\",\"ticks\":\"\"},\"caxis\":{\"gridcolor\":\"white\",\"linecolor\":\"white\",\"ticks\":\"\"}},\"coloraxis\":{\"colorbar\":{\"outlinewidth\":0,\"ticks\":\"\"}},\"colorscale\":{\"sequential\":[[0.0,\"#0d0887\"],[0.1111111111111111,\"#46039f\"],[0.2222222222222222,\"#7201a8\"],[0.3333333333333333,\"#9c179e\"],[0.4444444444444444,\"#bd3786\"],[0.5555555555555556,\"#d8576b\"],[0.6666666666666666,\"#ed7953\"],[0.7777777777777778,\"#fb9f3a\"],[0.8888888888888888,\"#fdca26\"],[1.0,\"#f0f921\"]],\"sequentialminus\":[[0.0,\"#0d0887\"],[0.1111111111111111,\"#46039f\"],[0.2222222222222222,\"#7201a8\"],[0.3333333333333333,\"#9c179e\"],[0.4444444444444444,\"#bd3786\"],[0.5555555555555556,\"#d8576b\"],[0.6666666666666666,\"#ed7953\"],[0.7777777777777778,\"#fb9f3a\"],[0.8888888888888888,\"#fdca26\"],[1.0,\"#f0f921\"]],\"diverging\":[[0,\"#8e0152\"],[0.1,\"#c51b7d\"],[0.2,\"#de77ae\"],[0.3,\"#f1b6da\"],[0.4,\"#fde0ef\"],[0.5,\"#f7f7f7\"],[0.6,\"#e6f5d0\"],[0.7,\"#b8e186\"],[0.8,\"#7fbc41\"],[0.9,\"#4d9221\"],[1,\"#276419\"]]},\"xaxis\":{\"gridcolor\":\"white\",\"linecolor\":\"white\",\"ticks\":\"\",\"title\":{\"standoff\":15},\"zerolinecolor\":\"white\",\"automargin\":true,\"zerolinewidth\":2},\"yaxis\":{\"gridcolor\":\"white\",\"linecolor\":\"white\",\"ticks\":\"\",\"title\":{\"standoff\":15},\"zerolinecolor\":\"white\",\"automargin\":true,\"zerolinewidth\":2},\"scene\":{\"xaxis\":{\"backgroundcolor\":\"#E5ECF6\",\"gridcolor\":\"white\",\"linecolor\":\"white\",\"showbackground\":true,\"ticks\":\"\",\"zerolinecolor\":\"white\",\"gridwidth\":2},\"yaxis\":{\"backgroundcolor\":\"#E5ECF6\",\"gridcolor\":\"white\",\"linecolor\":\"white\",\"showbackground\":true,\"ticks\":\"\",\"zerolinecolor\":\"white\",\"gridwidth\":2},\"zaxis\":{\"backgroundcolor\":\"#E5ECF6\",\"gridcolor\":\"white\",\"linecolor\":\"white\",\"showbackground\":true,\"ticks\":\"\",\"zerolinecolor\":\"white\",\"gridwidth\":2}},\"shapedefaults\":{\"line\":{\"color\":\"#2a3f5f\"}},\"annotationdefaults\":{\"arrowcolor\":\"#2a3f5f\",\"arrowhead\":0,\"arrowwidth\":1},\"geo\":{\"bgcolor\":\"white\",\"landcolor\":\"#E5ECF6\",\"subunitcolor\":\"white\",\"showland\":true,\"showlakes\":true,\"lakecolor\":\"white\"},\"title\":{\"x\":0.05},\"mapbox\":{\"style\":\"light\"}}},\"geo\":{\"domain\":{\"x\":[0.0,1.0],\"y\":[0.0,1.0]},\"center\":{}},\"legend\":{\"title\":{\"text\":\"labels\"},\"tracegroupgap\":0},\"title\":{\"text\":\"Coutries by labels\"}},                        {\"responsive\": true}                    ).then(function(){\n",
       "                            \n",
       "var gd = document.getElementById('96d750ae-fd2c-4665-ae14-bf2dc2c71d8f');\n",
       "var x = new MutationObserver(function (mutations, observer) {{\n",
       "        var display = window.getComputedStyle(gd).display;\n",
       "        if (!display || display === 'none') {{\n",
       "            console.log([gd, 'removed!']);\n",
       "            Plotly.purge(gd);\n",
       "            observer.disconnect();\n",
       "        }}\n",
       "}});\n",
       "\n",
       "// Listen for the removal of the full notebook cells\n",
       "var notebookContainer = gd.closest('#notebook-container');\n",
       "if (notebookContainer) {{\n",
       "    x.observe(notebookContainer, {childList: true});\n",
       "}}\n",
       "\n",
       "// Listen for the clearing of the current output cell\n",
       "var outputEl = gd.closest('.output');\n",
       "if (outputEl) {{\n",
       "    x.observe(outputEl, {childList: true});\n",
       "}}\n",
       "\n",
       "                        })                };                });            </script>        </div>"
      ]
     },
     "metadata": {},
     "output_type": "display_data"
    }
   ],
   "source": [
    "clusters_name = {0: 'Cluster A', 1: 'Cluster B', 2: 'Cluster C'}\n",
    "df['labels'] = df['labels'].map(clusters_name)\n",
    "\n",
    "fig = px.choropleth(df,\n",
    "                    locationmode='country names',\n",
    "                    locations='country',\n",
    "                    color='labels',\n",
    "                    title='Coutries by labels'\n",
    "                   )\n",
    "fig.show()"
   ]
  },
  {
   "cell_type": "code",
   "execution_count": 17,
   "id": "4b18f844",
   "metadata": {
    "execution": {
     "iopub.execute_input": "2022-04-25T11:46:28.283753Z",
     "iopub.status.busy": "2022-04-25T11:46:28.283434Z",
     "iopub.status.idle": "2022-04-25T11:46:28.303558Z",
     "shell.execute_reply": "2022-04-25T11:46:28.301653Z"
    },
    "papermill": {
     "duration": 0.054398,
     "end_time": "2022-04-25T11:46:28.305694",
     "exception": false,
     "start_time": "2022-04-25T11:46:28.251296",
     "status": "completed"
    },
    "tags": []
   },
   "outputs": [
    {
     "name": "stdout",
     "output_type": "stream",
     "text": [
      "           child_mort    exports    health    imports        income  \\\n",
      "labels                                                                \n",
      "Cluster A   55.420732  33.628037  6.010732  43.103243   8538.829268   \n",
      "Cluster B   10.545455  42.875758  9.866667  45.257576  34696.060606   \n",
      "Cluster C   28.819231  51.784615  6.148846  53.898077  19577.096154   \n",
      "\n",
      "           inflation  life_expec  total_fer          gdpp  n_clients  \n",
      "labels                                                                \n",
      "Cluster A  10.554524   66.456098   3.466585   3494.060976         82  \n",
      "Cluster B   3.503455   78.403030   2.103333  38552.121212         33  \n",
      "Cluster C   6.124635   72.040385   2.666154  11659.250000         52  \n"
     ]
    },
    {
     "name": "stderr",
     "output_type": "stream",
     "text": [
      "/opt/conda/lib/python3.7/site-packages/ipykernel_launcher.py:1: FutureWarning:\n",
      "\n",
      "Indexing with multiple keys (implicitly converted to a tuple of keys) will be deprecated, use a list instead.\n",
      "\n"
     ]
    }
   ],
   "source": [
    "description = df.groupby(\"labels\")['child_mort', 'exports', 'health', 'imports', 'income', 'inflation', 'life_expec', 'total_fer', 'gdpp', 'labels']\n",
    "n_clients = description.size()\n",
    "description = description.mean()\n",
    "description['n_clients'] = n_clients\n",
    "print(description)"
   ]
  },
  {
   "cell_type": "markdown",
   "id": "d92f8ef9",
   "metadata": {
    "papermill": {
     "duration": 0.031441,
     "end_time": "2022-04-25T11:46:28.368720",
     "exception": false,
     "start_time": "2022-04-25T11:46:28.337279",
     "status": "completed"
    },
    "tags": []
   },
   "source": [
    "Cluster's description:\n",
    "\n",
    "Cluster A:\n",
    "* Highest Death of children under 5 years of age per 1000 live births\n",
    "* Lowest Exports of goods and services per capita.\n",
    "* Lowest Total health spending per capita.\n",
    "* Highest The measurement of the annual growth rate of the Total GDP\n",
    "* Lowest life expectation\n",
    "* Lowest The GDP per capita. \n",
    "\n",
    "Cluster B:\n",
    "* Lowest Death of children under 5 years of age per 1000 live births\n",
    "* Highest Total health spending per capita.\n",
    "* Highest Net income per person\n",
    "* Lowest The measurement of the annual growth rate of the Total GDP\n",
    "* Highest life expectation\n",
    "* Highest The GDP per capita. \n",
    "\n",
    "\n",
    "Cluster C:\n",
    "* Highest Exports of goods and services per capita.\n",
    "* Highest Imports of goods and services per capita.\n",
    "\n",
    "\n"
   ]
  },
  {
   "cell_type": "markdown",
   "id": "51ba98a7",
   "metadata": {
    "papermill": {
     "duration": 0.034009,
     "end_time": "2022-04-25T11:46:28.435234",
     "exception": false,
     "start_time": "2022-04-25T11:46:28.401225",
     "status": "completed"
    },
    "tags": []
   },
   "source": [
    "# Conclusion\n",
    "\n",
    "Clearly, we can see that K-means were able to separate all those countries into a logic based on the features. Cluster A with countries with the worst indices of health, mortality, and net income. Cluster B going for the opposite side with countries with the best metrics. Cluster B with the ordinary countries with average indices. \n",
    "\n",
    "Of course with only a single observation of those metrics and not considering more complex contexts like political influence and economic insertion into the global value chain, K-mean hasn't been able to actually put all the BRICS, for example, into the Cluster C. \n",
    "\n",
    "China, India and Russia, for example, were tagged in the same bunch of all the underdeveloped countries. Which we know isn't a good comparison especially due to the economic size and political influence, even though some metrics stay similar to all the other countries of the same cluster.\n",
    "\n",
    "As we could see, the significant difference between the clusters is how they are able to, from the size of GPD per capita, actually improve the Net income per person. Which, in my point of view, it impacts all the other metrics and that's why some BRICS isn't in the group C. Because, even though their economic size and political influence, those countries wasn't able to improve their population's quality of life (considering only this observation, of course)\n"
   ]
  }
 ],
 "metadata": {
  "kernelspec": {
   "display_name": "Python 3",
   "language": "python",
   "name": "python3"
  },
  "language_info": {
   "codemirror_mode": {
    "name": "ipython",
    "version": 3
   },
   "file_extension": ".py",
   "mimetype": "text/x-python",
   "name": "python",
   "nbconvert_exporter": "python",
   "pygments_lexer": "ipython3",
   "version": "3.7.12"
  },
  "papermill": {
   "default_parameters": {},
   "duration": 18.661701,
   "end_time": "2022-04-25T11:46:29.392202",
   "environment_variables": {},
   "exception": null,
   "input_path": "__notebook__.ipynb",
   "output_path": "__notebook__.ipynb",
   "parameters": {},
   "start_time": "2022-04-25T11:46:10.730501",
   "version": "2.3.4"
  }
 },
 "nbformat": 4,
 "nbformat_minor": 5
}
