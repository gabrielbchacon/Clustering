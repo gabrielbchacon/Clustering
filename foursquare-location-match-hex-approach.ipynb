{
 "cells": [
  {
   "cell_type": "markdown",
   "id": "024037cb",
   "metadata": {
    "papermill": {
     "duration": 0.04097,
     "end_time": "2022-05-17T11:07:49.992765",
     "exception": false,
     "start_time": "2022-05-17T11:07:49.951795",
     "status": "completed"
    },
    "tags": []
   },
   "source": [
    "# Installing h3 Lib"
   ]
  },
  {
   "cell_type": "code",
   "execution_count": 1,
   "id": "7fb82ce9",
   "metadata": {
    "_kg_hide-input": false,
    "_kg_hide-output": false,
    "execution": {
     "iopub.execute_input": "2022-05-17T11:07:50.072093Z",
     "iopub.status.busy": "2022-05-17T11:07:50.071377Z",
     "iopub.status.idle": "2022-05-17T11:08:21.644537Z",
     "shell.execute_reply": "2022-05-17T11:08:21.643786Z"
    },
    "papermill": {
     "duration": 31.615993,
     "end_time": "2022-05-17T11:08:21.646773",
     "exception": false,
     "start_time": "2022-05-17T11:07:50.030780",
     "status": "completed"
    },
    "tags": []
   },
   "outputs": [
    {
     "name": "stdout",
     "output_type": "stream",
     "text": [
      "Processing /kaggle/input/h3lib/h3-3.7.4-cp37-cp37m-manylinux_2_17_x86_64.manylinux2014_x86_64.whl\r\n",
      "Installing collected packages: h3\r\n",
      "Successfully installed h3-3.7.4\r\n",
      "\u001b[33mWARNING: Running pip as the 'root' user can result in broken permissions and conflicting behaviour with the system package manager. It is recommended to use a virtual environment instead: https://pip.pypa.io/warnings/venv\u001b[0m\u001b[33m\r\n",
      "\u001b[0m"
     ]
    }
   ],
   "source": [
    "!pip install ../input/h3lib/h3-3.7.4-cp37-cp37m-manylinux_2_17_x86_64.manylinux2014_x86_64.whl"
   ]
  },
  {
   "cell_type": "markdown",
   "id": "4ba9c33f",
   "metadata": {
    "papermill": {
     "duration": 0.038696,
     "end_time": "2022-05-17T11:08:21.725094",
     "exception": false,
     "start_time": "2022-05-17T11:08:21.686398",
     "status": "completed"
    },
    "tags": []
   },
   "source": [
    "# Limporting lib"
   ]
  },
  {
   "cell_type": "code",
   "execution_count": 2,
   "id": "bf745706",
   "metadata": {
    "_cell_guid": "b1076dfc-b9ad-4769-8c92-a6c4dae69d19",
    "_kg_hide-output": true,
    "_uuid": "8f2839f25d086af736a60e9eeb907d3b93b6e0e5",
    "execution": {
     "iopub.execute_input": "2022-05-17T11:08:21.808040Z",
     "iopub.status.busy": "2022-05-17T11:08:21.807602Z",
     "iopub.status.idle": "2022-05-17T11:08:21.951447Z",
     "shell.execute_reply": "2022-05-17T11:08:21.950023Z"
    },
    "papermill": {
     "duration": 0.188235,
     "end_time": "2022-05-17T11:08:21.955241",
     "exception": false,
     "start_time": "2022-05-17T11:08:21.767006",
     "status": "completed"
    },
    "tags": []
   },
   "outputs": [
    {
     "name": "stdout",
     "output_type": "stream",
     "text": [
      "/kaggle/input/h3lib/h3-3.7.4-cp37-cp37m-manylinux_2_17_x86_64.manylinux2014_x86_64.whl\n",
      "/kaggle/input/foursquare-location-matching/sample_submission.csv\n",
      "/kaggle/input/foursquare-location-matching/pairs.csv\n",
      "/kaggle/input/foursquare-location-matching/train.csv\n",
      "/kaggle/input/foursquare-location-matching/test.csv\n"
     ]
    }
   ],
   "source": [
    "import difflib\n",
    "from h3 import h3\n",
    "import numpy as np # linear algebra\n",
    "import pandas as pd # data processing, CSV file I/O (e.g. pd.read_csv)\n",
    "from unidecode import unidecode\n",
    "from tqdm.notebook import tqdm\n",
    "\n",
    "tqdm.pandas()\n",
    "import os\n",
    "for dirname, _, filenames in os.walk('/kaggle/input'):\n",
    "    for filename in filenames:\n",
    "        print(os.path.join(dirname, filename))\n",
    "\n"
   ]
  },
  {
   "cell_type": "markdown",
   "id": "325d0e57",
   "metadata": {
    "papermill": {
     "duration": 0.042166,
     "end_time": "2022-05-17T11:08:22.050582",
     "exception": false,
     "start_time": "2022-05-17T11:08:22.008416",
     "status": "completed"
    },
    "tags": []
   },
   "source": [
    "# Data importing (train and test sets)"
   ]
  },
  {
   "cell_type": "code",
   "execution_count": 3,
   "id": "a4530c05",
   "metadata": {
    "execution": {
     "iopub.execute_input": "2022-05-17T11:08:22.132130Z",
     "iopub.status.busy": "2022-05-17T11:08:22.131401Z",
     "iopub.status.idle": "2022-05-17T11:08:32.315295Z",
     "shell.execute_reply": "2022-05-17T11:08:32.314606Z"
    },
    "papermill": {
     "duration": 10.226917,
     "end_time": "2022-05-17T11:08:32.317534",
     "exception": false,
     "start_time": "2022-05-17T11:08:22.090617",
     "status": "completed"
    },
    "tags": []
   },
   "outputs": [],
   "source": [
    "df_train = pd.read_csv('/kaggle/input/foursquare-location-matching/train.csv')\n",
    "training_set_ = df_train.copy()\n",
    "\n",
    "df_test = pd.read_csv('/kaggle/input/foursquare-location-matching/test.csv')\n",
    "test_set_ = df_test.copy()"
   ]
  },
  {
   "cell_type": "markdown",
   "id": "2427be4d",
   "metadata": {
    "papermill": {
     "duration": 0.038966,
     "end_time": "2022-05-17T11:08:32.396109",
     "exception": false,
     "start_time": "2022-05-17T11:08:32.357143",
     "status": "completed"
    },
    "tags": []
   },
   "source": [
    "# Data first check"
   ]
  },
  {
   "cell_type": "code",
   "execution_count": 4,
   "id": "b8ff7eb9",
   "metadata": {
    "execution": {
     "iopub.execute_input": "2022-05-17T11:08:32.475834Z",
     "iopub.status.busy": "2022-05-17T11:08:32.475561Z",
     "iopub.status.idle": "2022-05-17T11:08:33.671093Z",
     "shell.execute_reply": "2022-05-17T11:08:33.670243Z"
    },
    "papermill": {
     "duration": 1.238316,
     "end_time": "2022-05-17T11:08:33.673533",
     "exception": false,
     "start_time": "2022-05-17T11:08:32.435217",
     "status": "completed"
    },
    "tags": []
   },
   "outputs": [
    {
     "name": "stdout",
     "output_type": "stream",
     "text": [
      "<class 'pandas.core.frame.DataFrame'>\n",
      "RangeIndex: 1138812 entries, 0 to 1138811\n",
      "Data columns (total 13 columns):\n",
      " #   Column             Non-Null Count    Dtype  \n",
      "---  ------             --------------    -----  \n",
      " 0   id                 1138812 non-null  object \n",
      " 1   name               1138811 non-null  object \n",
      " 2   latitude           1138812 non-null  float64\n",
      " 3   longitude          1138812 non-null  float64\n",
      " 4   address            742191 non-null   object \n",
      " 5   city               839623 non-null   object \n",
      " 6   state              718226 non-null   object \n",
      " 7   zip                543386 non-null   object \n",
      " 8   country            1138801 non-null  object \n",
      " 9   url                267724 non-null   object \n",
      " 10  phone              342855 non-null   object \n",
      " 11  categories         1040505 non-null  object \n",
      " 12  point_of_interest  1138812 non-null  object \n",
      "dtypes: float64(2), object(11)\n",
      "memory usage: 112.9+ MB\n"
     ]
    }
   ],
   "source": [
    "training_set_.info()"
   ]
  },
  {
   "cell_type": "code",
   "execution_count": 5,
   "id": "0ab0674e",
   "metadata": {
    "execution": {
     "iopub.execute_input": "2022-05-17T11:08:33.755225Z",
     "iopub.status.busy": "2022-05-17T11:08:33.754346Z",
     "iopub.status.idle": "2022-05-17T11:08:34.903676Z",
     "shell.execute_reply": "2022-05-17T11:08:34.902736Z"
    },
    "papermill": {
     "duration": 1.192589,
     "end_time": "2022-05-17T11:08:34.905633",
     "exception": false,
     "start_time": "2022-05-17T11:08:33.713044",
     "status": "completed"
    },
    "tags": []
   },
   "outputs": [
    {
     "data": {
      "text/plain": [
       "id                        0\n",
       "name                      1\n",
       "latitude                  0\n",
       "longitude                 0\n",
       "address              396621\n",
       "city                 299189\n",
       "state                420586\n",
       "zip                  595426\n",
       "country                  11\n",
       "url                  871088\n",
       "phone                795957\n",
       "categories            98307\n",
       "point_of_interest         0\n",
       "dtype: int64"
      ]
     },
     "execution_count": 5,
     "metadata": {},
     "output_type": "execute_result"
    }
   ],
   "source": [
    "missing = training_set_.isna().sum()\n",
    "missing"
   ]
  },
  {
   "cell_type": "code",
   "execution_count": 6,
   "id": "365185a1",
   "metadata": {
    "_kg_hide-output": true,
    "execution": {
     "iopub.execute_input": "2022-05-17T11:08:34.988777Z",
     "iopub.status.busy": "2022-05-17T11:08:34.988516Z",
     "iopub.status.idle": "2022-05-17T11:08:46.270196Z",
     "shell.execute_reply": "2022-05-17T11:08:46.269337Z"
    },
    "papermill": {
     "duration": 11.325828,
     "end_time": "2022-05-17T11:08:46.272824",
     "exception": false,
     "start_time": "2022-05-17T11:08:34.946996",
     "status": "completed"
    },
    "tags": []
   },
   "outputs": [
    {
     "name": "stderr",
     "output_type": "stream",
     "text": [
      "/opt/conda/lib/python3.7/site-packages/ipykernel_launcher.py:4: FutureWarning: The default value of regex will change from True to False in a future version.\n",
      "  after removing the cwd from sys.path.\n",
      "/opt/conda/lib/python3.7/site-packages/ipykernel_launcher.py:9: FutureWarning: The default value of regex will change from True to False in a future version.\n",
      "  if __name__ == '__main__':\n",
      "/opt/conda/lib/python3.7/site-packages/ipykernel_launcher.py:17: FutureWarning: The default value of regex will change from True to False in a future version.\n",
      "/opt/conda/lib/python3.7/site-packages/ipykernel_launcher.py:22: FutureWarning: The default value of regex will change from True to False in a future version.\n"
     ]
    }
   ],
   "source": [
    "# normalizing name to avoid mismatch due to accents or punctuations\n",
    "training_set_['name'] = training_set_['name'].astype(str)\n",
    "training_set_['name'] = training_set_['name'].apply(unidecode)\n",
    "training_set_['name'] = training_set_['name'].str.replace('[^\\w\\s]','')\n",
    "training_set_['name'] = training_set_['name'].str.lower()\n",
    "\n",
    "test_set_['name'] = test_set_['name'].astype(str)\n",
    "test_set_['name'] = test_set_['name'].apply(unidecode)\n",
    "test_set_['name'] = test_set_['name'].str.replace('[^\\w\\s]','')\n",
    "test_set_['name'] = test_set_['name'].str.lower()\n",
    "\n",
    "\n",
    "\n",
    "# normalizing categories to avoid mismatch due to accents or punctuations\n",
    "training_set_['categories'] = training_set_['categories'].astype(str)\n",
    "training_set_['categories'] = training_set_['categories'].apply(unidecode)\n",
    "training_set_['categories'] = training_set_['categories'].str.replace('[^\\w\\s]','')\n",
    "training_set_['categories'] = training_set_['categories'].str.lower()\n",
    "\n",
    "test_set_['categories'] = test_set_['categories'].astype(str)\n",
    "test_set_['categories'] = test_set_['categories'].apply(unidecode)\n",
    "test_set_['categories'] = test_set_['categories'].str.replace('[^\\w\\s]','')\n",
    "test_set_['categories'] = test_set_['categories'].str.lower()"
   ]
  },
  {
   "cell_type": "markdown",
   "id": "c384e245",
   "metadata": {
    "papermill": {
     "duration": 0.064144,
     "end_time": "2022-05-17T11:08:46.404472",
     "exception": false,
     "start_time": "2022-05-17T11:08:46.340328",
     "status": "completed"
    },
    "tags": []
   },
   "source": [
    "# Data Exploration"
   ]
  },
  {
   "cell_type": "code",
   "execution_count": 7,
   "id": "322f15b0",
   "metadata": {
    "execution": {
     "iopub.execute_input": "2022-05-17T11:08:46.494269Z",
     "iopub.status.busy": "2022-05-17T11:08:46.493898Z",
     "iopub.status.idle": "2022-05-17T11:08:56.789470Z",
     "shell.execute_reply": "2022-05-17T11:08:56.788827Z"
    },
    "papermill": {
     "duration": 10.343461,
     "end_time": "2022-05-17T11:08:56.791995",
     "exception": false,
     "start_time": "2022-05-17T11:08:46.448534",
     "status": "completed"
    },
    "tags": []
   },
   "outputs": [
    {
     "data": {
      "image/png": "[encoded data removed]",
      "text/plain": [
       "<PIL.Image.Image image mode=RGB size=400x200 at 0x7FE50325DA90>"
      ]
     },
     "execution_count": 7,
     "metadata": {},
     "output_type": "execute_result"
    }
   ],
   "source": [
    "# Import the wordcloud library\n",
    "from wordcloud import WordCloud # Join the different processed titles together.\n",
    "\n",
    "long_string = ','.join(list(training_set_['categories'].values))# Create a WordCloud object\n",
    "wordcloud = WordCloud(background_color=\"white\", max_words=5000, contour_width=3, contour_color= 'steelblue')# Generate a word cloud\n",
    "wordcloud.generate(long_string)# Visualize the word cloud\n",
    "wordcloud.to_image()"
   ]
  },
  {
   "cell_type": "markdown",
   "id": "fffd0c1b",
   "metadata": {
    "papermill": {
     "duration": 0.042967,
     "end_time": "2022-05-17T11:08:56.878137",
     "exception": false,
     "start_time": "2022-05-17T11:08:56.835170",
     "status": "completed"
    },
    "tags": []
   },
   "source": [
    "# Feature Engineer"
   ]
  },
  {
   "cell_type": "code",
   "execution_count": 8,
   "id": "20ee9521",
   "metadata": {
    "execution": {
     "iopub.execute_input": "2022-05-17T11:08:56.968173Z",
     "iopub.status.busy": "2022-05-17T11:08:56.967852Z",
     "iopub.status.idle": "2022-05-17T11:08:57.162067Z",
     "shell.execute_reply": "2022-05-17T11:08:57.161257Z"
    },
    "papermill": {
     "duration": 0.239648,
     "end_time": "2022-05-17T11:08:57.164024",
     "exception": false,
     "start_time": "2022-05-17T11:08:56.924376",
     "status": "completed"
    },
    "tags": []
   },
   "outputs": [
    {
     "data": {
      "text/html": [
       "<div>\n",
       "<style scoped>\n",
       "    .dataframe tbody tr th:only-of-type {\n",
       "        vertical-align: middle;\n",
       "    }\n",
       "\n",
       "    .dataframe tbody tr th {\n",
       "        vertical-align: top;\n",
       "    }\n",
       "\n",
       "    .dataframe thead th {\n",
       "        text-align: right;\n",
       "    }\n",
       "</style>\n",
       "<table border=\"1\" class=\"dataframe\">\n",
       "  <thead>\n",
       "    <tr style=\"text-align: right;\">\n",
       "      <th></th>\n",
       "      <th>id</th>\n",
       "      <th>name</th>\n",
       "      <th>latitude</th>\n",
       "      <th>longitude</th>\n",
       "      <th>address</th>\n",
       "      <th>city</th>\n",
       "      <th>state</th>\n",
       "      <th>zip</th>\n",
       "      <th>country</th>\n",
       "      <th>url</th>\n",
       "      <th>phone</th>\n",
       "      <th>categories</th>\n",
       "      <th>point_of_interest</th>\n",
       "    </tr>\n",
       "  </thead>\n",
       "  <tbody>\n",
       "    <tr>\n",
       "      <th>1</th>\n",
       "      <td>E_000002eae2a589</td>\n",
       "      <td>carioca manero</td>\n",
       "      <td>-22.907225</td>\n",
       "      <td>-43.178244</td>\n",
       "      <td>NaN</td>\n",
       "      <td>NaN</td>\n",
       "      <td>NaN</td>\n",
       "      <td>NaN</td>\n",
       "      <td>BR</td>\n",
       "      <td>NaN</td>\n",
       "      <td>NaN</td>\n",
       "      <td>brazilian restaurants</td>\n",
       "      <td>P_d82910d8382a83</td>\n",
       "    </tr>\n",
       "    <tr>\n",
       "      <th>1032766</th>\n",
       "      <td>E_e80db432029aea</td>\n",
       "      <td>carioca manero</td>\n",
       "      <td>-22.907025</td>\n",
       "      <td>-43.178067</td>\n",
       "      <td>Shopping Avenida Central</td>\n",
       "      <td>Rio de Janeiro</td>\n",
       "      <td>RJ</td>\n",
       "      <td>20040-901</td>\n",
       "      <td>BR</td>\n",
       "      <td>NaN</td>\n",
       "      <td>NaN</td>\n",
       "      <td>bars snack places</td>\n",
       "      <td>P_d82910d8382a83</td>\n",
       "    </tr>\n",
       "  </tbody>\n",
       "</table>\n",
       "</div>"
      ],
      "text/plain": [
       "                       id            name   latitude  longitude  \\\n",
       "1        E_000002eae2a589  carioca manero -22.907225 -43.178244   \n",
       "1032766  E_e80db432029aea  carioca manero -22.907025 -43.178067   \n",
       "\n",
       "                          address            city state        zip country  \\\n",
       "1                             NaN             NaN   NaN        NaN      BR   \n",
       "1032766  Shopping Avenida Central  Rio de Janeiro    RJ  20040-901      BR   \n",
       "\n",
       "         url phone             categories point_of_interest  \n",
       "1        NaN   NaN  brazilian restaurants  P_d82910d8382a83  \n",
       "1032766  NaN   NaN      bars snack places  P_d82910d8382a83  "
      ]
     },
     "execution_count": 8,
     "metadata": {},
     "output_type": "execute_result"
    }
   ],
   "source": [
    "training_set_[training_set_['name'] == 'carioca manero']"
   ]
  },
  {
   "cell_type": "markdown",
   "id": "74d3e6b3",
   "metadata": {
    "papermill": {
     "duration": 0.042984,
     "end_time": "2022-05-17T11:08:57.250918",
     "exception": false,
     "start_time": "2022-05-17T11:08:57.207934",
     "status": "completed"
    },
    "tags": []
   },
   "source": [
    "## As we can see above, we have some duplicated entries that have different categories. As humans, we can see both of them are food places. So I need a way to reduce the number of categories to help the filter step. \n",
    "## So, considering the number of categories available, it was unviable to classify all of them by myself. After some research, I found the LDA method that allows to cluster of words into categories. (check: https://towardsdatascience.com/topic-modelling-in-python-with-nltk-and-gensim-4ef03213cd21).\n",
    "\n"
   ]
  },
  {
   "cell_type": "code",
   "execution_count": 9,
   "id": "fdec9eb8",
   "metadata": {
    "execution": {
     "iopub.execute_input": "2022-05-17T11:08:57.339549Z",
     "iopub.status.busy": "2022-05-17T11:08:57.339245Z",
     "iopub.status.idle": "2022-05-17T11:09:00.573703Z",
     "shell.execute_reply": "2022-05-17T11:09:00.572847Z"
    },
    "papermill": {
     "duration": 3.281554,
     "end_time": "2022-05-17T11:09:00.576058",
     "exception": false,
     "start_time": "2022-05-17T11:08:57.294504",
     "status": "completed"
    },
    "tags": []
   },
   "outputs": [],
   "source": [
    "import re\n",
    "import unidecode\n",
    "\n",
    "def tokenization(text):\n",
    "    tokens = re.split(' ',text)\n",
    "    return tokens\n",
    "\n",
    "training_set_['category_tokenied']= training_set_['categories'].apply(lambda x: tokenization(x))\n",
    "test_set_['category_tokenied']= test_set_['categories'].apply(lambda x: tokenization(x))\n",
    "\n",
    "data = training_set_.category_tokenied.values.tolist()"
   ]
  },
  {
   "cell_type": "code",
   "execution_count": 10,
   "id": "d5a0dd92",
   "metadata": {
    "execution": {
     "iopub.execute_input": "2022-05-17T11:09:00.665045Z",
     "iopub.status.busy": "2022-05-17T11:09:00.664753Z",
     "iopub.status.idle": "2022-05-17T11:09:19.391777Z",
     "shell.execute_reply": "2022-05-17T11:09:19.390984Z"
    },
    "papermill": {
     "duration": 18.774278,
     "end_time": "2022-05-17T11:09:19.394100",
     "exception": false,
     "start_time": "2022-05-17T11:09:00.619822",
     "status": "completed"
    },
    "tags": []
   },
   "outputs": [
    {
     "data": {
      "text/plain": [
       "<gensim.corpora.dictionary.Dictionary at 0x7fe503241fd0>"
      ]
     },
     "execution_count": 10,
     "metadata": {},
     "output_type": "execute_result"
    }
   ],
   "source": [
    "import gensim.corpora as corpora # Create Dictionary\n",
    "\n",
    "id2word = corpora.Dictionary(data) # Create Corpus\n",
    "\n",
    "texts = data # Term Document Frequency\n",
    "\n",
    "corpus = [id2word.doc2bow(text) for text in texts]# View\n",
    "\n",
    "id2word"
   ]
  },
  {
   "cell_type": "code",
   "execution_count": 11,
   "id": "b97c42b9",
   "metadata": {
    "execution": {
     "iopub.execute_input": "2022-05-17T11:09:19.484439Z",
     "iopub.status.busy": "2022-05-17T11:09:19.484030Z",
     "iopub.status.idle": "2022-05-17T11:09:21.756161Z",
     "shell.execute_reply": "2022-05-17T11:09:21.755220Z"
    },
    "papermill": {
     "duration": 2.320667,
     "end_time": "2022-05-17T11:09:21.758992",
     "exception": false,
     "start_time": "2022-05-17T11:09:19.438325",
     "status": "completed"
    },
    "tags": []
   },
   "outputs": [],
   "source": [
    "import pickle\n",
    "pickle.dump(corpus, open('corpus.pkl', 'wb'))\n",
    "id2word.save('dictionary.gensim')"
   ]
  },
  {
   "cell_type": "code",
   "execution_count": 12,
   "id": "3f82057f",
   "metadata": {
    "execution": {
     "iopub.execute_input": "2022-05-17T11:09:21.851413Z",
     "iopub.status.busy": "2022-05-17T11:09:21.851064Z",
     "iopub.status.idle": "2022-05-17T11:11:13.358229Z",
     "shell.execute_reply": "2022-05-17T11:11:13.357268Z"
    },
    "papermill": {
     "duration": 111.555035,
     "end_time": "2022-05-17T11:11:13.360437",
     "exception": false,
     "start_time": "2022-05-17T11:09:21.805402",
     "status": "completed"
    },
    "tags": []
   },
   "outputs": [
    {
     "name": "stdout",
     "output_type": "stream",
     "text": [
      "[(0,\n",
      "  '0.182*\"nan\" + 0.094*\"offices\" + 0.062*\"cafes\" + 0.040*\"hotels\" + 0.038*\"\" + '\n",
      "  '0.035*\"salons\" + 0.031*\"college\" + 0.028*\"barbershops\" + 0.027*\"shopping\" + '\n",
      "  '0.026*\"malls\"'),\n",
      " (1,\n",
      "  '0.094*\"buildings\" + 0.089*\"stores\" + 0.088*\"\" + 0.062*\"college\" + '\n",
      "  '0.048*\"food\" + 0.037*\"apartments\" + 0.037*\"condos\" + 0.037*\"residential\" + '\n",
      "  '0.032*\"classrooms\" + 0.025*\"fast\"'),\n",
      " (2,\n",
      "  '0.206*\"restaurants\" + 0.086*\"stores\" + 0.035*\"banks\" + 0.030*\"places\" + '\n",
      "  '0.029*\"bars\" + 0.027*\"centers\" + 0.026*\"convenience\" + 0.017*\"hospitals\" + '\n",
      "  '0.016*\"pizza\" + 0.016*\"spaces\"'),\n",
      " (3,\n",
      "  '0.186*\"shops\" + 0.060*\"stations\" + 0.044*\"coffee\" + 0.037*\"schools\" + '\n",
      "  '0.025*\"gas\" + 0.022*\"automotive\" + 0.020*\"other\" + 0.020*\"general\" + '\n",
      "  '0.020*\"universities\" + 0.019*\"bus\"')]\n",
      "0.4516903589315179\n"
     ]
    }
   ],
   "source": [
    "import gensim\n",
    "from gensim.utils import simple_preprocess\n",
    "from pprint import pprint# number of topics\n",
    "\n",
    "num_topics = 4 # from 3, 4, 5, 10 ,15 - 4 clusters was the one that was the best coherence\n",
    "\n",
    "lda_model = gensim.models.LdaMulticore(corpus=corpus,\n",
    "                                       id2word=id2word,\n",
    "                                       num_topics=num_topics)# Print the Keyword in the 10 topics\n",
    "pprint(lda_model.print_topics())\n",
    "doc_lda = lda_model[corpus]\n",
    "\n",
    "from gensim.models.coherencemodel import CoherenceModel\n",
    "coherence_model_lda = CoherenceModel(model=lda_model, texts=training_set_['category_tokenied'].tolist(), dictionary=lda_model.id2word, coherence='c_v')\n",
    "with np.errstate(invalid='ignore'):\n",
    "    lda_score = coherence_model_lda.get_coherence()\n",
    "\n",
    "print(lda_score)"
   ]
  },
  {
   "cell_type": "code",
   "execution_count": 13,
   "id": "12578f5e",
   "metadata": {
    "execution": {
     "iopub.execute_input": "2022-05-17T11:11:13.453054Z",
     "iopub.status.busy": "2022-05-17T11:11:13.452272Z",
     "iopub.status.idle": "2022-05-17T11:11:13.458313Z",
     "shell.execute_reply": "2022-05-17T11:11:13.457244Z"
    },
    "papermill": {
     "duration": 0.054852,
     "end_time": "2022-05-17T11:11:13.460351",
     "exception": false,
     "start_time": "2022-05-17T11:11:13.405499",
     "status": "completed"
    },
    "tags": []
   },
   "outputs": [
    {
     "name": "stdout",
     "output_type": "stream",
     "text": [
      "0.4516903589315179\n"
     ]
    }
   ],
   "source": [
    "print(lda_score)"
   ]
  },
  {
   "cell_type": "code",
   "execution_count": 14,
   "id": "cd3ab851",
   "metadata": {
    "execution": {
     "iopub.execute_input": "2022-05-17T11:11:13.556343Z",
     "iopub.status.busy": "2022-05-17T11:11:13.555758Z",
     "iopub.status.idle": "2022-05-17T11:12:57.974910Z",
     "shell.execute_reply": "2022-05-17T11:12:57.974218Z"
    },
    "papermill": {
     "duration": 104.469326,
     "end_time": "2022-05-17T11:12:57.976809",
     "exception": false,
     "start_time": "2022-05-17T11:11:13.507483",
     "status": "completed"
    },
    "tags": []
   },
   "outputs": [
    {
     "name": "stderr",
     "output_type": "stream",
     "text": [
      "/opt/conda/lib/python3.7/site-packages/past/types/oldstr.py:36: DeprecationWarning: invalid escape sequence \\d\n",
      "  \"\"\"\n",
      "/opt/conda/lib/python3.7/site-packages/pyLDAvis/_prepare.py:248: FutureWarning: In a future version of pandas all arguments of DataFrame.drop except for the argument 'labels' will be keyword-only\n",
      "  by='saliency', ascending=False).head(R).drop('saliency', 1)\n"
     ]
    },
    {
     "data": {
      "text/html": [
       "\n",
       "<link rel=\"stylesheet\" type=\"text/css\" href=\"https://cdn.jsdelivr.net/gh/bmabey/pyLDAvis@3.2.2/pyLDAvis/js/ldavis.v1.0.0.css\">\n",
       "\n",
       "\n",
       "<div id=\"ldavis_el191406195418165289240116210\"></div>\n",
       "<script type=\"text/javascript\">\n",
       "\n",
       "var ldavis_el191406195418165289240116210_data = {\"mdsDat\": {\"x\": [-0.17080579443685873, -0.11433774877516553, 0.42273896837379643, -0.13759542516177198], \"y\": [-0.07440775432838503, -0.27928649963546637, 0.007182222037274776, 0.34651203192657665], \"topics\": [1, 2, 3, 4], \"cluster\": [1, 1, 1, 1], \"Freq\": [29.675699689372788, 26.511721167536077, 23.062245043241944, 20.750334099849187]}, \"tinfo\": {\"Term\": [\"restaurants\", \"shops\", \"nan\", \"buildings\", \"offices\", \"stores\", \"\", \"cafes\", \"stations\", \"college\", \"food\", \"coffee\", \"apartments\", \"residential\", \"condos\", \"hotels\", \"banks\", \"schools\", \"classrooms\", \"salons\", \"convenience\", \"barbershops\", \"fast\", \"bars\", \"shopping\", \"malls\", \"joints\", \"gas\", \"gyms\", \"places\", \"buildings\", \"apartments\", \"residential\", \"condos\", \"classrooms\", \"joints\", \"clothing\", \"home\", \"pharmacies\", \"department\", \"academic\", \"mobile\", \"phone\", \"beaches\", \"grocery\", \"burger\", \"furniture\", \"government\", \"gardens\", \"boutiques\", \"ice\", \"cream\", \"chicken\", \"fried\", \"video\", \"trucks\", \"goods\", \"factories\", \"sporting\", \"bbq\", \"food\", \"fast\", \"\", \"college\", \"parks\", \"stores\", \"high\", \"banks\", \"convenience\", \"hospitals\", \"pizza\", \"spaces\", \"medical\", \"doctors\", \"asian\", \"american\", \"chinese\", \"developments\", \"housing\", \"business\", \"italian\", \"japanese\", \"sandwich\", \"event\", \"shoe\", \"seafood\", \"indonesian\", \"thai\", \"coworking\", \"plazas\", \"art\", \"music\", \"sites\", \"historic\", \"steakhouses\", \"student\", \"womens\", \"restaurants\", \"places\", \"centers\", \"bars\", \"stores\", \"electronics\", \"services\", \"stations\", \"coffee\", \"gas\", \"automotive\", \"general\", \"other\", \"bus\", \"universities\", \"auto\", \"miscellaneous\", \"stops\", \"cosmetics\", \"entertainment\", \"outdoors\", \"great\", \"churches\", \"dessert\", \"metro\", \"financial\", \"legal\", \"train\", \"libraries\", \"pools\", \"resorts\", \"fields\", \"bookstores\", \"dealerships\", \"airport\", \"travel\", \"spas\", \"shops\", \"schools\", \"colleges\", \"studios\", \"or\", \"services\", \"places\", \"nan\", \"hotels\", \"salons\", \"barbershops\", \"shopping\", \"malls\", \"gyms\", \"bakeries\", \"cafes\", \"theaters\", \"spots\", \"dentists\", \"auditoriums\", \"parking\", \"breakfast\", \"fitness\", \"movie\", \"cafeterias\", \"post\", \"nightclubs\", \"lounges\", \"residence\", \"lakes\", \"supermarkets\", \"nail\", \"multiplexes\", \"mosques\", \"beauty\", \"cocktail\", \"atms\", \"offices\", \"diners\", \"health\", \"\", \"college\", \"bars\", \"centers\", \"or\", \"houses\", \"rooms\"], \"Freq\": [142873.0, 112949.0, 97854.0, 72631.0, 50970.0, 128045.0, 88562.0, 33436.0, 35767.0, 64160.0, 36770.0, 26262.0, 28879.0, 28879.0, 28879.0, 21537.0, 24407.0, 22164.0, 24928.0, 18917.0, 18156.0, 14994.0, 19330.0, 30205.0, 14435.0, 14044.0, 18163.0, 14724.0, 13569.0, 27990.0, 72630.28525779852, 28878.897732927635, 28878.897732927635, 28878.897732927635, 24927.39444278493, 18162.947628547063, 13627.83790623898, 9501.488124500596, 10260.086761447477, 9248.306080649207, 8127.852075188276, 8058.543562463853, 8058.543562463853, 8012.545570475633, 11940.842420729145, 6860.990054530362, 6769.497965413255, 6289.726893021786, 5160.82224058234, 5840.518264107026, 5508.193861985838, 5508.136796969718, 4602.006430577583, 4601.959773646164, 4548.595011086253, 4870.886378454853, 4334.96512469772, 4253.655013614271, 4178.751617013687, 5095.910964194482, 36762.3198867999, 19278.476097647967, 68039.23172132144, 47522.38734993301, 12090.20346078552, 68978.26204345441, 5567.187962771266, 24406.989555401142, 18155.670183257207, 11895.874526727928, 10991.799087381214, 10891.711213701692, 10538.174228666116, 10505.474034259858, 10527.186096350872, 9440.351756664784, 8166.283105175766, 7910.774240041094, 7910.774240041094, 7473.9717726318495, 7039.438112466919, 7933.7226674139165, 6076.625061941503, 6000.939370870209, 7375.972509804429, 5885.048081213048, 5186.275649915573, 5174.949569206391, 5136.603648689635, 4703.014576730152, 4174.563647099499, 4091.65503053461, 3951.2333046092845, 3810.339605215384, 3782.8638236467277, 3712.129365117365, 4808.71066232464, 142143.84937907892, 20476.77413994845, 18429.171113076372, 20230.993956188428, 59066.75624142162, 6419.921633499279, 9294.377929800716, 35766.626451308686, 26261.744710187704, 14723.836404672693, 13083.033797714377, 12123.597328788552, 12266.396744628146, 11345.567829006193, 12114.92192539335, 9727.709968218876, 9659.072086572847, 7069.986861697387, 6825.933126678495, 6481.822737802417, 6433.8954851336, 6225.674647008618, 6196.184300050627, 5921.544636009175, 5580.363423009396, 5406.998717931553, 5406.998717931553, 5322.84418113886, 5302.782868619468, 5024.767763094967, 5249.91155085988, 4893.960061940726, 4589.081719301966, 4819.6244841605285, 4407.6621989383075, 4329.162963047142, 4759.40484535381, 111131.16776629971, 22050.441051714984, 5421.845974668092, 5292.214741219643, 7559.963068963435, 8465.116905148328, 7513.37238178683, 97853.67995030442, 21536.442141574356, 18916.457316012617, 14993.927436996431, 14434.546330107447, 14044.065390112411, 13568.452269263431, 10654.419718567458, 33434.27474000929, 6942.471729226073, 6932.8867298288005, 6354.903285784184, 6140.6639687329425, 5581.045457816367, 5500.475148435524, 5397.048302030416, 4518.063152297071, 4496.8378268788765, 4438.291885647571, 4177.177820928645, 4365.716520781529, 3932.334715546829, 3599.901569854168, 11107.291240071494, 3321.669068629871, 2964.3970873781213, 2708.1580867606626, 2587.198476102242, 2558.365932620228, 3852.9674874643715, 50415.13134514558, 5350.807719244046, 3868.737037449338, 20509.76056818093, 16637.50613659764, 9973.090235831143, 8332.604815346309, 5597.645670942271, 4329.900133024847, 4264.426812536006], \"Total\": [142873.0, 112949.0, 97854.0, 72631.0, 50970.0, 128045.0, 88562.0, 33436.0, 35767.0, 64160.0, 36770.0, 26262.0, 28879.0, 28879.0, 28879.0, 21537.0, 24407.0, 22164.0, 24928.0, 18917.0, 18156.0, 14994.0, 19330.0, 30205.0, 14435.0, 14044.0, 18163.0, 14724.0, 13569.0, 27990.0, 72631.1550015508, 28879.649962480424, 28879.64997225994, 28879.64998383497, 24928.154023263083, 18163.84217654162, 13628.593095724102, 9502.243976482854, 10260.955441297594, 9249.0893734504, 8128.611034077517, 8059.306050335725, 8059.306070985444, 8013.333142610121, 11942.089330058958, 6861.75153629581, 6770.251011815954, 6290.488921443908, 5161.582679487137, 5841.421483493072, 5509.088014673204, 5509.037058514624, 4602.761503373722, 4602.714853935214, 4549.34811144266, 4871.709585612374, 4335.735078442386, 4254.420720123598, 4179.51631798804, 5096.985308504948, 36770.93407990215, 19330.454802246953, 88562.9632233775, 64160.829345510676, 14194.028047192305, 128045.58929738938, 6133.088732686186, 24407.76709291677, 18156.472746648564, 11896.638684086196, 10992.560594821043, 10892.488137813507, 10538.952910821876, 10506.27608328912, 10527.995356246674, 9441.168546227345, 8167.044786408636, 7911.572001543925, 7911.5722940803, 7474.778897752735, 7040.222670930644, 7934.632720286215, 6077.403066192791, 6001.708973687873, 7376.919014626184, 5885.810216249446, 5187.038985614401, 5175.7123584903065, 5137.374453281888, 4703.8316296351695, 4175.328995432288, 4092.4234712093926, 3952.0005202996585, 3811.1070821467774, 3783.6278015387834, 3712.9059222189358, 4809.729977985485, 142873.70816805938, 27990.703404420972, 26762.35592601955, 30205.51316467901, 128045.58929738938, 9678.14157678882, 23092.99474840418, 35767.37123950485, 26262.49971890524, 14724.582157635434, 13083.780387137198, 12124.354780595382, 12267.18648625682, 11346.31207683517, 12115.81547308803, 9728.493541533602, 9660.026542185014, 7070.731063146958, 6826.683491160649, 6482.577898061072, 6434.6457325179945, 6226.42338621236, 6196.929812899207, 5922.329300876665, 5581.1057559234905, 5407.744223049728, 5407.744246022203, 5323.586542557241, 5303.55855149496, 5025.517726068938, 5250.714883496733, 4894.708983330123, 4589.840372524873, 4820.421820447798, 4408.423091043223, 4329.912327693783, 4760.234310865809, 112949.6678806925, 22164.645058591468, 5424.154715050894, 5349.3856644074585, 13158.105201128634, 23092.99474840418, 27990.703404420972, 97854.44139306042, 21537.208711586703, 18917.22406676902, 14994.680732924502, 14435.300596145787, 14044.818839976922, 13569.209879736041, 10655.191644315559, 33436.70841185208, 6943.227869445659, 6933.64644417334, 6355.654832221533, 6141.422644440981, 5581.800419198498, 5501.233564100734, 5397.801784798098, 4518.8149229867195, 4497.595182779648, 4439.044659343972, 4177.9448224818825, 4366.527721217101, 3933.0880694693437, 3600.6667292117645, 11109.800068657223, 3322.454414065487, 2965.154832311662, 2708.9126921505795, 2587.9516862332193, 2559.135824267055, 3854.2313142132157, 50970.69693532713, 5363.774862273591, 3874.8676272153616, 88562.9632233775, 64160.829345510676, 30205.51316467901, 26762.35592601955, 13158.105201128634, 8107.113332582136, 8369.602994570854], \"Category\": [\"Default\", \"Default\", \"Default\", \"Default\", \"Default\", \"Default\", \"Default\", \"Default\", \"Default\", \"Default\", \"Default\", \"Default\", \"Default\", \"Default\", \"Default\", \"Default\", \"Default\", \"Default\", \"Default\", \"Default\", \"Default\", \"Default\", \"Default\", \"Default\", \"Default\", \"Default\", \"Default\", \"Default\", \"Default\", \"Default\", \"Topic1\", \"Topic1\", \"Topic1\", \"Topic1\", \"Topic1\", \"Topic1\", \"Topic1\", \"Topic1\", \"Topic1\", \"Topic1\", \"Topic1\", \"Topic1\", \"Topic1\", \"Topic1\", \"Topic1\", \"Topic1\", \"Topic1\", \"Topic1\", \"Topic1\", \"Topic1\", \"Topic1\", \"Topic1\", \"Topic1\", \"Topic1\", \"Topic1\", \"Topic1\", \"Topic1\", \"Topic1\", \"Topic1\", \"Topic1\", \"Topic1\", \"Topic1\", \"Topic1\", \"Topic1\", \"Topic1\", \"Topic1\", \"Topic1\", \"Topic2\", \"Topic2\", \"Topic2\", \"Topic2\", \"Topic2\", \"Topic2\", \"Topic2\", \"Topic2\", \"Topic2\", \"Topic2\", \"Topic2\", \"Topic2\", \"Topic2\", \"Topic2\", \"Topic2\", \"Topic2\", \"Topic2\", \"Topic2\", \"Topic2\", \"Topic2\", \"Topic2\", \"Topic2\", \"Topic2\", \"Topic2\", \"Topic2\", \"Topic2\", \"Topic2\", \"Topic2\", \"Topic2\", \"Topic2\", \"Topic2\", \"Topic2\", \"Topic2\", \"Topic2\", \"Topic2\", \"Topic2\", \"Topic2\", \"Topic3\", \"Topic3\", \"Topic3\", \"Topic3\", \"Topic3\", \"Topic3\", \"Topic3\", \"Topic3\", \"Topic3\", \"Topic3\", \"Topic3\", \"Topic3\", \"Topic3\", \"Topic3\", \"Topic3\", \"Topic3\", \"Topic3\", \"Topic3\", \"Topic3\", \"Topic3\", \"Topic3\", \"Topic3\", \"Topic3\", \"Topic3\", \"Topic3\", \"Topic3\", \"Topic3\", \"Topic3\", \"Topic3\", \"Topic3\", \"Topic3\", \"Topic3\", \"Topic3\", \"Topic3\", \"Topic3\", \"Topic3\", \"Topic3\", \"Topic4\", \"Topic4\", \"Topic4\", \"Topic4\", \"Topic4\", \"Topic4\", \"Topic4\", \"Topic4\", \"Topic4\", \"Topic4\", \"Topic4\", \"Topic4\", \"Topic4\", \"Topic4\", \"Topic4\", \"Topic4\", \"Topic4\", \"Topic4\", \"Topic4\", \"Topic4\", \"Topic4\", \"Topic4\", \"Topic4\", \"Topic4\", \"Topic4\", \"Topic4\", \"Topic4\", \"Topic4\", \"Topic4\", \"Topic4\", \"Topic4\", \"Topic4\", \"Topic4\", \"Topic4\", \"Topic4\", \"Topic4\", \"Topic4\", \"Topic4\", \"Topic4\", \"Topic4\"], \"logprob\": [30.0, 29.0, 28.0, 27.0, 26.0, 25.0, 24.0, 23.0, 22.0, 21.0, 20.0, 19.0, 18.0, 17.0, 16.0, 15.0, 14.0, 13.0, 12.0, 11.0, 10.0, 9.0, 8.0, 7.0, 6.0, 5.0, 4.0, 3.0, 2.0, 1.0, -2.362, -3.2842, -3.2842, -3.2842, -3.4314, -3.748, -4.0352, -4.3959, -4.3191, -4.4229, -4.552, -4.5606, -4.5606, -4.5663, -4.1674, -4.7215, -4.7349, -4.8084, -5.0062, -4.8825, -4.9411, -4.9411, -5.1208, -5.1209, -5.1325, -5.0641, -5.1806, -5.1996, -5.2173, -5.0189, -3.0429, -3.6883, -2.4273, -2.7861, -4.1549, -2.4135, -4.9304, -3.3397, -3.6356, -4.0584, -4.1374, -4.1466, -4.1796, -4.1827, -4.1806, -4.2896, -4.4346, -4.4664, -4.4664, -4.5232, -4.5831, -4.4635, -4.7301, -4.7427, -4.5364, -4.7622, -4.8886, -4.8908, -4.8982, -4.9864, -5.1056, -5.1256, -5.1606, -5.1969, -5.2041, -5.223, -4.9642, -1.5778, -3.5153, -3.6207, -3.5274, -2.4559, -4.6752, -4.3052, -2.8182, -3.1271, -3.7057, -3.8239, -3.9001, -3.8883, -3.9664, -3.9008, -4.1202, -4.1273, -4.4393, -4.4745, -4.5262, -4.5336, -4.5665, -4.5713, -4.6166, -4.676, -4.7075, -4.7075, -4.7232, -4.727, -4.7808, -4.737, -4.8072, -4.8715, -4.8225, -4.9119, -4.9298, -4.8351, -1.6845, -3.3019, -4.7048, -4.729, -4.3723, -4.2593, -4.3785, -1.7061, -3.2198, -3.3495, -3.5819, -3.6199, -3.6474, -3.6818, -3.9236, -2.78, -4.3519, -4.3533, -4.4403, -4.4746, -4.5702, -4.5847, -4.6037, -4.7815, -4.7862, -4.7993, -4.8599, -4.8158, -4.9203, -5.0087, -3.882, -5.0891, -5.2029, -5.2933, -5.339, -5.3502, -4.9407, -2.3693, -4.6123, -4.9366, -3.2687, -3.4779, -3.9897, -4.1694, -4.5672, -4.824, -4.8393], \"loglift\": [30.0, 29.0, 28.0, 27.0, 26.0, 25.0, 24.0, 23.0, 22.0, 21.0, 20.0, 19.0, 18.0, 17.0, 16.0, 15.0, 14.0, 13.0, 12.0, 11.0, 10.0, 9.0, 8.0, 7.0, 6.0, 5.0, 4.0, 3.0, 2.0, 1.0, 1.2148, 1.2148, 1.2148, 1.2148, 1.2148, 1.2148, 1.2148, 1.2148, 1.2148, 1.2148, 1.2147, 1.2147, 1.2147, 1.2147, 1.2147, 1.2147, 1.2147, 1.2147, 1.2147, 1.2147, 1.2147, 1.2147, 1.2147, 1.2147, 1.2147, 1.2147, 1.2147, 1.2147, 1.2147, 1.2146, 1.2146, 1.2121, 0.9512, 0.9146, 1.0544, 0.5962, 1.118, 1.3276, 1.3275, 1.3275, 1.3275, 1.3275, 1.3275, 1.3275, 1.3275, 1.3275, 1.3275, 1.3275, 1.3275, 1.3275, 1.3275, 1.3275, 1.3275, 1.3275, 1.3275, 1.3275, 1.3274, 1.3274, 1.3274, 1.3274, 1.3274, 1.3274, 1.3274, 1.3274, 1.3274, 1.3274, 1.3274, 1.3225, 1.015, 0.9545, 0.9268, 0.5539, 0.9171, 0.4175, 1.467, 1.4669, 1.4669, 1.4669, 1.4669, 1.4669, 1.4669, 1.4669, 1.4669, 1.4669, 1.4669, 1.4669, 1.4669, 1.4669, 1.4669, 1.4669, 1.4668, 1.4668, 1.4668, 1.4668, 1.4668, 1.4668, 1.4668, 1.4668, 1.4668, 1.4668, 1.4668, 1.4668, 1.4668, 1.4668, 1.4507, 1.4618, 1.4665, 1.4562, 0.9128, 0.4634, 0.1518, 1.5726, 1.5726, 1.5726, 1.5726, 1.5726, 1.5726, 1.5726, 1.5725, 1.5725, 1.5725, 1.5725, 1.5725, 1.5725, 1.5725, 1.5725, 1.5725, 1.5724, 1.5724, 1.5724, 1.5724, 1.5724, 1.5724, 1.5724, 1.5724, 1.5724, 1.5724, 1.5723, 1.5723, 1.5723, 1.5723, 1.5616, 1.5702, 1.571, 0.1098, 0.2229, 0.4645, 0.4058, 0.7179, 0.9454, 0.8983]}, \"token.table\": {\"Topic\": [1, 3, 4, 1, 3, 2, 1, 2, 2, 3, 4, 4, 3, 3, 4, 2, 4, 1, 2, 4, 1, 2, 1, 4, 3, 1, 4, 1, 1, 3, 2, 3, 4, 4, 2, 4, 1, 2, 3, 1, 1, 4, 3, 1, 3, 4, 3, 4, 1, 2, 3, 2, 1, 3, 4, 1, 3, 2, 2, 4, 2, 1, 2, 3, 2, 1, 1, 2, 3, 3, 4, 1, 2, 1, 1, 1, 3, 3, 1, 1, 3, 1, 4, 4, 1, 4, 1, 3, 2, 1, 2, 4, 2, 4, 2, 1, 2, 2, 2, 1, 4, 3, 3, 4, 4, 2, 3, 3, 1, 4, 4, 4, 2, 4, 4, 4, 2, 4, 3, 4, 3, 3, 4, 1, 3, 1, 1, 2, 2, 3, 2, 3, 4, 4, 1, 3, 1, 2, 3, 4, 4, 2, 1, 3, 2, 1, 2, 3, 4, 2, 4, 1, 3, 2, 2, 3, 1, 4, 3, 2, 3, 1, 2, 2, 2, 3, 1, 2, 4, 2, 4, 3, 3, 1, 3, 1, 1, 2], \"Freq\": [0.7682556852618962, 0.00015807962482791558, 0.2315866503728963, 0.9999248292143694, 0.9999040266701981, 0.9998762286446192, 0.9999774941011658, 0.999921204908009, 0.9999054562418587, 0.0002594551075106231, 0.9996805292384308, 0.9999311813458461, 0.9999492684523564, 0.9999403546135668, 0.9998881630330699, 0.9999685717700497, 0.9999546017059898, 3.310653901319431e-05, 0.669778390775934, 0.3301715135785869, 0.9998066879841101, 0.00019619440502042978, 0.9999584264619737, 0.9996322627511627, 0.9998169059364453, 0.9999278457316831, 0.9997757659102526, 0.9999840977119148, 0.9998904745687985, 0.9999724953065757, 0.9998957965495181, 5.981450014054236e-05, 0.9999189988494466, 0.9998676664405176, 0.6886165048751373, 0.3113701956223625, 0.9998345551093265, 0.9998720728934443, 0.9998499558769778, 0.9999537060280514, 0.9999564815150077, 0.9995561688221921, 0.9999809721500014, 0.7406699770679492, 1.5585833446991903e-05, 0.2593170968910513, 0.9996027556063408, 0.00036872104596323893, 0.9999774933617501, 0.9999739626382745, 0.9998998794712639, 0.999927111935232, 0.9998117532150159, 0.9999124930424119, 0.9998969685675482, 0.9998822183021036, 0.9999443967297434, 0.9999277006461152, 0.00223723036632329, 0.9976183075163271, 0.9998785408570074, 0.3366348770732692, 0.6633504944169393, 0.9999108536649833, 0.9998818713651426, 0.9999011098922098, 0.9972864165492445, 0.0026383238533048796, 0.9998551531189008, 0.9998623782821392, 0.9998514608668373, 0.9997570341867645, 0.00021756314328638584, 0.9998446886331438, 0.9998152192859953, 0.9998871122437982, 0.9999604635548092, 0.9999707381875735, 0.9998304604803829, 0.9999222760821911, 0.999932001698873, 0.9999087822885216, 8.373744094200834e-05, 0.9999108363901241, 0.001548439992597075, 0.9984857218930139, 0.9076992430144983, 0.09212323914194208, 0.9997095116660554, 0.9998690860300017, 0.9999463139040231, 0.999943877983313, 0.4658871592210758, 0.5340988613786758, 0.9999276636730314, 0.9998025054836106, 0.9997996958154194, 0.9998263306449535, 0.9999202584028121, 0.9999536344495049, 0.999814831734813, 0.9998623740346541, 0.999894683637498, 0.9998791439672907, 0.999941698074838, 0.999909582021104, 0.999801875117253, 0.999893732985046, 0.9999620252247758, 0.999663078048538, 0.9998196600213534, 0.9996105322059146, 0.9998965231207445, 0.9998632294054771, 0.9999954892894575, 0.9997738547247444, 0.01088860920823189, 0.9890977175369564, 0.5745508098956028, 0.4254411949465059, 0.9999032796755679, 0.9998996475416306, 0.9998566019673966, 0.8517666697433011, 0.14816090210671315, 0.9999068857375846, 0.9999620226626525, 0.9999490023442484, 0.7315643234876968, 0.26841054658216856, 0.9998232016575742, 0.9998969805506301, 0.9997646657278446, 0.9997233549185461, 0.9999774937625434, 0.9998638502541854, 0.0051024083391360735, 0.9948926350592018, 0.4904653186851046, 0.5094626355355143, 0.9999352935311915, 0.9999336778903093, 0.005143326216081736, 0.9948275707421252, 0.9998623441430019, 0.12246137977385659, 0.40245971132186104, 0.36656137899069874, 0.10851775732435806, 0.9998754202636138, 0.9999791763154646, 0.016095664857734098, 0.9838984220598723, 0.999746831941312, 0.9999551858301491, 0.9997407037584282, 0.9998764646555349, 0.9999067670700339, 0.9999896207215687, 0.9998340741817872, 0.999896607134336, 0.5386987586100815, 0.4612966391432295, 0.9997560072250917, 0.010655429160633117, 0.9892724757556222, 0.00018002124139410625, 9.001062069705312e-05, 0.9997479640821689, 0.9998623651314127, 0.999823155819059, 0.9998898219175076, 0.9997892964973107, 0.9998543456665665, 0.9999326935038056, 0.9999234810275818, 0.00020791187958099088, 0.9998482289049851], \"Term\": [\"\", \"\", \"\", \"academic\", \"airport\", \"american\", \"apartments\", \"art\", \"asian\", \"atms\", \"atms\", \"auditoriums\", \"auto\", \"automotive\", \"bakeries\", \"banks\", \"barbershops\", \"bars\", \"bars\", \"bars\", \"bbq\", \"bbq\", \"beaches\", \"beauty\", \"bookstores\", \"boutiques\", \"breakfast\", \"buildings\", \"burger\", \"bus\", \"business\", \"cafes\", \"cafes\", \"cafeterias\", \"centers\", \"centers\", \"chicken\", \"chinese\", \"churches\", \"classrooms\", \"clothing\", \"cocktail\", \"coffee\", \"college\", \"college\", \"college\", \"colleges\", \"colleges\", \"condos\", \"convenience\", \"cosmetics\", \"coworking\", \"cream\", \"dealerships\", \"dentists\", \"department\", \"dessert\", \"developments\", \"diners\", \"diners\", \"doctors\", \"electronics\", \"electronics\", \"entertainment\", \"event\", \"factories\", \"fast\", \"fast\", \"fields\", \"financial\", \"fitness\", \"food\", \"food\", \"fried\", \"furniture\", \"gardens\", \"gas\", \"general\", \"goods\", \"government\", \"great\", \"grocery\", \"grocery\", \"gyms\", \"health\", \"health\", \"high\", \"high\", \"historic\", \"home\", \"hospitals\", \"hotels\", \"houses\", \"houses\", \"housing\", \"ice\", \"indonesian\", \"italian\", \"japanese\", \"joints\", \"lakes\", \"legal\", \"libraries\", \"lounges\", \"malls\", \"medical\", \"metro\", \"miscellaneous\", \"mobile\", \"mosques\", \"movie\", \"multiplexes\", \"music\", \"nail\", \"nan\", \"nightclubs\", \"offices\", \"offices\", \"or\", \"or\", \"other\", \"outdoors\", \"parking\", \"parks\", \"parks\", \"pharmacies\", \"phone\", \"pizza\", \"places\", \"places\", \"plazas\", \"pools\", \"post\", \"residence\", \"residential\", \"resorts\", \"restaurants\", \"restaurants\", \"rooms\", \"rooms\", \"salons\", \"sandwich\", \"schools\", \"schools\", \"seafood\", \"services\", \"services\", \"services\", \"services\", \"shoe\", \"shopping\", \"shops\", \"shops\", \"sites\", \"spaces\", \"spas\", \"sporting\", \"spots\", \"stations\", \"steakhouses\", \"stops\", \"stores\", \"stores\", \"student\", \"studios\", \"studios\", \"supermarkets\", \"supermarkets\", \"supermarkets\", \"thai\", \"theaters\", \"train\", \"travel\", \"trucks\", \"universities\", \"video\", \"womens\", \"womens\"]}, \"R\": 30, \"lambda.step\": 0.01, \"plot.opts\": {\"xlab\": \"PC1\", \"ylab\": \"PC2\"}, \"topic.order\": [2, 3, 4, 1]};\n",
       "\n",
       "function LDAvis_load_lib(url, callback){\n",
       "  var s = document.createElement('script');\n",
       "  s.src = url;\n",
       "  s.async = true;\n",
       "  s.onreadystatechange = s.onload = callback;\n",
       "  s.onerror = function(){console.warn(\"failed to load library \" + url);};\n",
       "  document.getElementsByTagName(\"head\")[0].appendChild(s);\n",
       "}\n",
       "\n",
       "if(typeof(LDAvis) !== \"undefined\"){\n",
       "   // already loaded: just create the visualization\n",
       "   !function(LDAvis){\n",
       "       new LDAvis(\"#\" + \"ldavis_el191406195418165289240116210\", ldavis_el191406195418165289240116210_data);\n",
       "   }(LDAvis);\n",
       "}else if(typeof define === \"function\" && define.amd){\n",
       "   // require.js is available: use it to load d3/LDAvis\n",
       "   require.config({paths: {d3: \"https://d3js.org/d3.v5\"}});\n",
       "   require([\"d3\"], function(d3){\n",
       "      window.d3 = d3;\n",
       "      LDAvis_load_lib(\"https://cdn.jsdelivr.net/gh/bmabey/pyLDAvis@3.2.2/pyLDAvis/js/ldavis.v3.0.0.js\", function(){\n",
       "        new LDAvis(\"#\" + \"ldavis_el191406195418165289240116210\", ldavis_el191406195418165289240116210_data);\n",
       "      });\n",
       "    });\n",
       "}else{\n",
       "    // require.js not available: dynamically load d3 & LDAvis\n",
       "    LDAvis_load_lib(\"https://d3js.org/d3.v5.js\", function(){\n",
       "         LDAvis_load_lib(\"https://cdn.jsdelivr.net/gh/bmabey/pyLDAvis@3.2.2/pyLDAvis/js/ldavis.v3.0.0.js\", function(){\n",
       "                 new LDAvis(\"#\" + \"ldavis_el191406195418165289240116210\", ldavis_el191406195418165289240116210_data);\n",
       "            })\n",
       "         });\n",
       "}\n",
       "</script>"
      ],
      "text/plain": [
       "PreparedData(topic_coordinates=              x         y  topics  cluster       Freq\n",
       "topic                                                \n",
       "1     -0.170806 -0.074408       1        1  29.675700\n",
       "2     -0.114338 -0.279286       2        1  26.511721\n",
       "3      0.422739  0.007182       3        1  23.062245\n",
       "0     -0.137595  0.346512       4        1  20.750334, topic_info=            Term           Freq          Total Category  logprob  loglift\n",
       "2    restaurants  142873.000000  142873.000000  Default  30.0000  30.0000\n",
       "8          shops  112949.000000  112949.000000  Default  29.0000  29.0000\n",
       "31           nan   97854.000000   97854.000000  Default  28.0000  28.0000\n",
       "11     buildings   72631.000000   72631.000000  Default  27.0000  27.0000\n",
       "23       offices   50970.000000   50970.000000  Default  26.0000  26.0000\n",
       "..           ...            ...            ...      ...      ...      ...\n",
       "0           bars    9973.090236   30205.513165   Topic4  -3.9897   0.4645\n",
       "44       centers    8332.604815   26762.355926   Topic4  -4.1694   0.4058\n",
       "161           or    5597.645671   13158.105201   Topic4  -4.5672   0.7179\n",
       "226       houses    4329.900133    8107.113333   Topic4  -4.8240   0.9454\n",
       "51         rooms    4264.426813    8369.602995   Topic4  -4.8393   0.8983\n",
       "\n",
       "[181 rows x 6 columns], token_table=      Topic      Freq          Term\n",
       "term                               \n",
       "3         1  0.768256              \n",
       "3         3  0.000158              \n",
       "3         4  0.231587              \n",
       "230       1  0.999925      academic\n",
       "368       3  0.999904       airport\n",
       "...     ...       ...           ...\n",
       "249       1  0.999854        trucks\n",
       "167       3  0.999933  universities\n",
       "255       1  0.999923         video\n",
       "110       1  0.000208        womens\n",
       "110       2  0.999848        womens\n",
       "\n",
       "[178 rows x 3 columns], R=30, lambda_step=0.01, plot_opts={'xlab': 'PC1', 'ylab': 'PC2'}, topic_order=[2, 3, 4, 1])"
      ]
     },
     "execution_count": 14,
     "metadata": {},
     "output_type": "execute_result"
    }
   ],
   "source": [
    "import pyLDAvis.gensim\n",
    "pyLDAvis.enable_notebook()\n",
    "vis = pyLDAvis.gensim.prepare(lda_model, corpus, dictionary=lda_model.id2word)\n",
    "vis"
   ]
  },
  {
   "cell_type": "markdown",
   "id": "6c227651",
   "metadata": {
    "papermill": {
     "duration": 0.052837,
     "end_time": "2022-05-17T11:12:58.081839",
     "exception": false,
     "start_time": "2022-05-17T11:12:58.029002",
     "status": "completed"
    },
    "tags": []
   },
   "source": [
    "## Let's check how to get the cluster from this model"
   ]
  },
  {
   "cell_type": "code",
   "execution_count": 15,
   "id": "fdcd6ac0",
   "metadata": {
    "execution": {
     "iopub.execute_input": "2022-05-17T11:12:58.183244Z",
     "iopub.status.busy": "2022-05-17T11:12:58.182912Z",
     "iopub.status.idle": "2022-05-17T11:13:09.868698Z",
     "shell.execute_reply": "2022-05-17T11:13:09.867830Z"
    },
    "papermill": {
     "duration": 11.739089,
     "end_time": "2022-05-17T11:13:09.870772",
     "exception": false,
     "start_time": "2022-05-17T11:12:58.131683",
     "status": "completed"
    },
    "tags": []
   },
   "outputs": [
    {
     "name": "stdout",
     "output_type": "stream",
     "text": [
      "[(189, 1), (368, 1)]\n",
      "[(0, 0.08427587), (1, 0.08406967), (2, 0.08643633), (3, 0.74521816)]\n"
     ]
    }
   ],
   "source": [
    "dictionary = corpora.Dictionary(data)\n",
    "new_doc = 'airport services'\n",
    "\n",
    "def prepare_text_for_lda(text):\n",
    "    tokens = tokenization(text)\n",
    "    tokens = [token for token in tokens if len(token) > 4]\n",
    "    return tokens\n",
    "\n",
    "new_doc = prepare_text_for_lda(new_doc)\n",
    "new_doc_bow = dictionary.doc2bow(new_doc)\n",
    "\n",
    "\n",
    "print(new_doc_bow)\n",
    "print(lda_model.get_document_topics(new_doc_bow))"
   ]
  },
  {
   "cell_type": "markdown",
   "id": "f18cb9db",
   "metadata": {
    "papermill": {
     "duration": 0.047247,
     "end_time": "2022-05-17T11:13:09.967716",
     "exception": false,
     "start_time": "2022-05-17T11:13:09.920469",
     "status": "completed"
    },
    "tags": []
   },
   "source": [
    "## So get_document_topics returns a list of tuples with the percent of similarity with each cluster. Let's use it to apply for all the row by definig a function and them apply it. "
   ]
  },
  {
   "cell_type": "code",
   "execution_count": 16,
   "id": "2d9af850",
   "metadata": {
    "execution": {
     "iopub.execute_input": "2022-05-17T11:13:10.065707Z",
     "iopub.status.busy": "2022-05-17T11:13:10.065402Z",
     "iopub.status.idle": "2022-05-17T11:13:10.071016Z",
     "shell.execute_reply": "2022-05-17T11:13:10.070247Z"
    },
    "papermill": {
     "duration": 0.056956,
     "end_time": "2022-05-17T11:13:10.072908",
     "exception": false,
     "start_time": "2022-05-17T11:13:10.015952",
     "status": "completed"
    },
    "tags": []
   },
   "outputs": [],
   "source": [
    "def get_lda_cluster(category):\n",
    "    new_doc = prepare_text_for_lda(category)\n",
    "    new_doc_bow = dictionary.doc2bow(new_doc)\n",
    "    clusters = lda_model.get_document_topics(new_doc_bow)\n",
    "    \n",
    "    scores = []\n",
    "    for i in clusters:\n",
    "        scores.append(i[1])\n",
    "\n",
    "    max_index = scores.index(max(scores))\n",
    "    return clusters[max_index][0]\n",
    "    "
   ]
  },
  {
   "cell_type": "code",
   "execution_count": 17,
   "id": "3aa000b1",
   "metadata": {
    "execution": {
     "iopub.execute_input": "2022-05-17T11:13:10.168963Z",
     "iopub.status.busy": "2022-05-17T11:13:10.168651Z",
     "iopub.status.idle": "2022-05-17T11:17:06.920553Z",
     "shell.execute_reply": "2022-05-17T11:17:06.919723Z"
    },
    "papermill": {
     "duration": 236.803178,
     "end_time": "2022-05-17T11:17:06.922942",
     "exception": false,
     "start_time": "2022-05-17T11:13:10.119764",
     "status": "completed"
    },
    "tags": []
   },
   "outputs": [
    {
     "data": {
      "application/vnd.jupyter.widget-view+json": {
       "model_id": "e2c64153b5cf40b99b1b288c5b2d5c2d",
       "version_major": 2,
       "version_minor": 0
      },
      "text/plain": [
       "  0%|          | 0/1138812 [00:00<?, ?it/s]"
      ]
     },
     "metadata": {},
     "output_type": "display_data"
    }
   ],
   "source": [
    "training_set_['category_cluster'] = training_set_.progress_apply(lambda x: get_lda_cluster(x['categories']),axis=1)"
   ]
  },
  {
   "cell_type": "code",
   "execution_count": 18,
   "id": "8ebd5b00",
   "metadata": {
    "execution": {
     "iopub.execute_input": "2022-05-17T11:17:07.021583Z",
     "iopub.status.busy": "2022-05-17T11:17:07.021303Z",
     "iopub.status.idle": "2022-05-17T11:17:07.057737Z",
     "shell.execute_reply": "2022-05-17T11:17:07.056955Z"
    },
    "papermill": {
     "duration": 0.091211,
     "end_time": "2022-05-17T11:17:07.062610",
     "exception": false,
     "start_time": "2022-05-17T11:17:06.971399",
     "status": "completed"
    },
    "tags": []
   },
   "outputs": [
    {
     "data": {
      "application/vnd.jupyter.widget-view+json": {
       "model_id": "95f1dece4ea4474d8a22b8edc7e5378a",
       "version_major": 2,
       "version_minor": 0
      },
      "text/plain": [
       "  0%|          | 0/5 [00:00<?, ?it/s]"
      ]
     },
     "metadata": {},
     "output_type": "display_data"
    }
   ],
   "source": [
    "test_set_['category_cluster'] = test_set_.progress_apply(lambda x: get_lda_cluster(x['categories']),axis=1)\n"
   ]
  },
  {
   "cell_type": "markdown",
   "id": "6f3018cf",
   "metadata": {
    "papermill": {
     "duration": 0.048683,
     "end_time": "2022-05-17T11:17:07.160517",
     "exception": false,
     "start_time": "2022-05-17T11:17:07.111834",
     "status": "completed"
    },
    "tags": []
   },
   "source": [
    "### My approach was using the h3 lib created by Uber (check documentation here: https://github.com/uber/h3) to cluster POIs into hex using the method h3.geo_to_h3 first. It will help us to check in a certain hex all the places.  \n",
    "### It allows to search new POIs according the hex_cell id which combined to others features to solve eventually conflits, can solve this bussiness problem. "
   ]
  },
  {
   "cell_type": "code",
   "execution_count": 19,
   "id": "31ca55a0",
   "metadata": {
    "execution": {
     "iopub.execute_input": "2022-05-17T11:17:07.261870Z",
     "iopub.status.busy": "2022-05-17T11:17:07.261580Z",
     "iopub.status.idle": "2022-05-17T11:17:07.267472Z",
     "shell.execute_reply": "2022-05-17T11:17:07.266653Z"
    },
    "papermill": {
     "duration": 0.059961,
     "end_time": "2022-05-17T11:17:07.269435",
     "exception": false,
     "start_time": "2022-05-17T11:17:07.209474",
     "status": "completed"
    },
    "tags": []
   },
   "outputs": [],
   "source": [
    "training_set_.rename(columns = {'longitude': 'lng', 'latitude': 'lat'}, inplace = True)\n",
    "test_set_.rename(columns = {'longitude': 'lng', 'latitude': 'lat'}, inplace = True)"
   ]
  },
  {
   "cell_type": "markdown",
   "id": "a54a3119",
   "metadata": {
    "papermill": {
     "duration": 0.048537,
     "end_time": "2022-05-17T11:17:07.366668",
     "exception": false,
     "start_time": "2022-05-17T11:17:07.318131",
     "status": "completed"
    },
    "tags": []
   },
   "source": [
    "## Creating the Hex_cell ids"
   ]
  },
  {
   "cell_type": "code",
   "execution_count": 20,
   "id": "d111dfdf",
   "metadata": {
    "execution": {
     "iopub.execute_input": "2022-05-17T11:17:07.465132Z",
     "iopub.status.busy": "2022-05-17T11:17:07.464791Z",
     "iopub.status.idle": "2022-05-17T11:17:07.469525Z",
     "shell.execute_reply": "2022-05-17T11:17:07.468653Z"
    },
    "papermill": {
     "duration": 0.056262,
     "end_time": "2022-05-17T11:17:07.471415",
     "exception": false,
     "start_time": "2022-05-17T11:17:07.415153",
     "status": "completed"
    },
    "tags": []
   },
   "outputs": [],
   "source": [
    "H3_res = 9\n",
    "def geo_to_h3(row):\n",
    "  return h3.geo_to_h3(lat=row.lat,lng=row.lng,resolution = H3_res)"
   ]
  },
  {
   "cell_type": "code",
   "execution_count": 21,
   "id": "46ad41bb",
   "metadata": {
    "execution": {
     "iopub.execute_input": "2022-05-17T11:17:07.570628Z",
     "iopub.status.busy": "2022-05-17T11:17:07.570352Z",
     "iopub.status.idle": "2022-05-17T11:17:43.815706Z",
     "shell.execute_reply": "2022-05-17T11:17:43.814892Z"
    },
    "papermill": {
     "duration": 36.34866,
     "end_time": "2022-05-17T11:17:43.868805",
     "exception": false,
     "start_time": "2022-05-17T11:17:07.520145",
     "status": "completed"
    },
    "tags": []
   },
   "outputs": [
    {
     "data": {
      "application/vnd.jupyter.widget-view+json": {
       "model_id": "81ce3aba192d4c919491bba84726329d",
       "version_major": 2,
       "version_minor": 0
      },
      "text/plain": [
       "  0%|          | 0/5 [00:00<?, ?it/s]"
      ]
     },
     "metadata": {},
     "output_type": "display_data"
    }
   ],
   "source": [
    "training_set_['h3_cell'] = training_set_.apply(geo_to_h3,axis=1)\n",
    "test_set_['h3_cell'] = test_set_.progress_apply(geo_to_h3,axis=1)"
   ]
  },
  {
   "cell_type": "markdown",
   "id": "4545c096",
   "metadata": {
    "papermill": {
     "duration": 0.050241,
     "end_time": "2022-05-17T11:17:43.969252",
     "exception": false,
     "start_time": "2022-05-17T11:17:43.919011",
     "status": "completed"
    },
    "tags": []
   },
   "source": [
    "# Defining the search engine "
   ]
  },
  {
   "cell_type": "markdown",
   "id": "90ad12a8",
   "metadata": {
    "papermill": {
     "duration": 0.051657,
     "end_time": "2022-05-17T11:17:44.072686",
     "exception": false,
     "start_time": "2022-05-17T11:17:44.021029",
     "status": "completed"
    },
    "tags": []
   },
   "source": [
    "### Here I'm going to use all the features that I created to build a engine search. First i'm going to use the hex id to filter all the places of a certain area, than I will filter all of them by the category cluster. Than, to solve eventually conflits, I'm using the difflib.get_close_matches to get the most similar name str. "
   ]
  },
  {
   "cell_type": "code",
   "execution_count": 22,
   "id": "7c3eb884",
   "metadata": {
    "execution": {
     "iopub.execute_input": "2022-05-17T11:17:44.174542Z",
     "iopub.status.busy": "2022-05-17T11:17:44.174261Z",
     "iopub.status.idle": "2022-05-17T11:17:44.180780Z",
     "shell.execute_reply": "2022-05-17T11:17:44.180109Z"
    },
    "papermill": {
     "duration": 0.06034,
     "end_time": "2022-05-17T11:17:44.182840",
     "exception": false,
     "start_time": "2022-05-17T11:17:44.122500",
     "status": "completed"
    },
    "tags": []
   },
   "outputs": [],
   "source": [
    "def search_engine(id, name, h3_cell, cluster):\n",
    "    first_step = training_set_[training_set_['h3_cell'] == h3_cell]\n",
    "    second_step = first_step[training_set_['category_cluster'] == cluster]\n",
    "    \n",
    "    kw = difflib.get_close_matches(name, second_step['name'], n=3)\n",
    "    \n",
    "    result = second_step[second_step['name'].isin(kw)]\n",
    "    if result['id'].empty:\n",
    "        return id\n",
    "    else:\n",
    "        sep = ' '\n",
    "        match_formated = id\n",
    "        for match in result['id']:\n",
    "            match_formated += sep \n",
    "            match_formated += match\n",
    "        return match_formated"
   ]
  },
  {
   "cell_type": "code",
   "execution_count": 23,
   "id": "d90c105d",
   "metadata": {
    "execution": {
     "iopub.execute_input": "2022-05-17T11:17:44.285119Z",
     "iopub.status.busy": "2022-05-17T11:17:44.284147Z",
     "iopub.status.idle": "2022-05-17T11:17:45.926341Z",
     "shell.execute_reply": "2022-05-17T11:17:45.925520Z"
    },
    "papermill": {
     "duration": 1.69605,
     "end_time": "2022-05-17T11:17:45.928894",
     "exception": false,
     "start_time": "2022-05-17T11:17:44.232844",
     "status": "completed"
    },
    "tags": []
   },
   "outputs": [
    {
     "name": "stderr",
     "output_type": "stream",
     "text": [
      "/opt/conda/lib/python3.7/site-packages/ipykernel_launcher.py:3: UserWarning: Boolean Series key will be reindexed to match DataFrame index.\n",
      "  This is separate from the ipykernel package so we can avoid doing imports until\n"
     ]
    }
   ],
   "source": [
    "test_set_['matches'] = test_set_.apply(lambda x: search_engine(x['id'], x['name'], x['h3_cell'], x['category_cluster']),axis=1)"
   ]
  },
  {
   "cell_type": "code",
   "execution_count": 24,
   "id": "94321267",
   "metadata": {
    "execution": {
     "iopub.execute_input": "2022-05-17T11:17:46.032365Z",
     "iopub.status.busy": "2022-05-17T11:17:46.032038Z",
     "iopub.status.idle": "2022-05-17T11:17:46.053955Z",
     "shell.execute_reply": "2022-05-17T11:17:46.053314Z"
    },
    "papermill": {
     "duration": 0.07547,
     "end_time": "2022-05-17T11:17:46.055678",
     "exception": false,
     "start_time": "2022-05-17T11:17:45.980208",
     "status": "completed"
    },
    "tags": []
   },
   "outputs": [
    {
     "data": {
      "text/html": [
       "<div>\n",
       "<style scoped>\n",
       "    .dataframe tbody tr th:only-of-type {\n",
       "        vertical-align: middle;\n",
       "    }\n",
       "\n",
       "    .dataframe tbody tr th {\n",
       "        vertical-align: top;\n",
       "    }\n",
       "\n",
       "    .dataframe thead th {\n",
       "        text-align: right;\n",
       "    }\n",
       "</style>\n",
       "<table border=\"1\" class=\"dataframe\">\n",
       "  <thead>\n",
       "    <tr style=\"text-align: right;\">\n",
       "      <th></th>\n",
       "      <th>id</th>\n",
       "      <th>name</th>\n",
       "      <th>lat</th>\n",
       "      <th>lng</th>\n",
       "      <th>address</th>\n",
       "      <th>city</th>\n",
       "      <th>state</th>\n",
       "      <th>zip</th>\n",
       "      <th>country</th>\n",
       "      <th>url</th>\n",
       "      <th>phone</th>\n",
       "      <th>categories</th>\n",
       "      <th>category_tokenied</th>\n",
       "      <th>category_cluster</th>\n",
       "      <th>h3_cell</th>\n",
       "      <th>matches</th>\n",
       "    </tr>\n",
       "  </thead>\n",
       "  <tbody>\n",
       "    <tr>\n",
       "      <th>0</th>\n",
       "      <td>E_00001118ad0191</td>\n",
       "      <td>jamu petani bagan serai</td>\n",
       "      <td>5.012169</td>\n",
       "      <td>100.535805</td>\n",
       "      <td>NaN</td>\n",
       "      <td>NaN</td>\n",
       "      <td>NaN</td>\n",
       "      <td>NaN</td>\n",
       "      <td>MY</td>\n",
       "      <td>NaN</td>\n",
       "      <td>NaN</td>\n",
       "      <td>cafes</td>\n",
       "      <td>[cafes]</td>\n",
       "      <td>0</td>\n",
       "      <td>8965032cc53ffff</td>\n",
       "      <td>E_00001118ad0191 E_5be051889de601</td>\n",
       "    </tr>\n",
       "    <tr>\n",
       "      <th>1</th>\n",
       "      <td>E_000020eb6fed40</td>\n",
       "      <td>johnnys bar</td>\n",
       "      <td>40.434209</td>\n",
       "      <td>-80.564160</td>\n",
       "      <td>497 N 12th St</td>\n",
       "      <td>Weirton</td>\n",
       "      <td>WV</td>\n",
       "      <td>26062.0</td>\n",
       "      <td>US</td>\n",
       "      <td>NaN</td>\n",
       "      <td>NaN</td>\n",
       "      <td>bars</td>\n",
       "      <td>[bars]</td>\n",
       "      <td>0</td>\n",
       "      <td>892a86a3457ffff</td>\n",
       "      <td>E_000020eb6fed40</td>\n",
       "    </tr>\n",
       "    <tr>\n",
       "      <th>2</th>\n",
       "      <td>E_00002f98667edf</td>\n",
       "      <td>qiwi</td>\n",
       "      <td>47.215134</td>\n",
       "      <td>39.686088</td>\n",
       "      <td>Межевая улица, 60</td>\n",
       "      <td>Ростов-на-Дону</td>\n",
       "      <td>NaN</td>\n",
       "      <td>NaN</td>\n",
       "      <td>RU</td>\n",
       "      <td>https://qiwi.com</td>\n",
       "      <td>7.800301e+10</td>\n",
       "      <td>atms</td>\n",
       "      <td>[atms]</td>\n",
       "      <td>0</td>\n",
       "      <td>892d440ee4bffff</td>\n",
       "      <td>E_00002f98667edf</td>\n",
       "    </tr>\n",
       "    <tr>\n",
       "      <th>3</th>\n",
       "      <td>E_001b6bad66eb98</td>\n",
       "      <td>gelora sriwijaya jaka baring sport city</td>\n",
       "      <td>-3.014675</td>\n",
       "      <td>104.794374</td>\n",
       "      <td>NaN</td>\n",
       "      <td>NaN</td>\n",
       "      <td>NaN</td>\n",
       "      <td>NaN</td>\n",
       "      <td>ID</td>\n",
       "      <td>NaN</td>\n",
       "      <td>NaN</td>\n",
       "      <td>stadiums</td>\n",
       "      <td>[stadiums]</td>\n",
       "      <td>3</td>\n",
       "      <td>898cab70a37ffff</td>\n",
       "      <td>E_001b6bad66eb98 E_161706a74b5308</td>\n",
       "    </tr>\n",
       "    <tr>\n",
       "      <th>4</th>\n",
       "      <td>E_0283d9f61e569d</td>\n",
       "      <td>stadion gelora sriwijaya</td>\n",
       "      <td>-3.021727</td>\n",
       "      <td>104.788628</td>\n",
       "      <td>Jalan Gubernur Hasan Bastari</td>\n",
       "      <td>Palembang</td>\n",
       "      <td>South Sumatra</td>\n",
       "      <td>11480.0</td>\n",
       "      <td>ID</td>\n",
       "      <td>NaN</td>\n",
       "      <td>NaN</td>\n",
       "      <td>soccer stadiums</td>\n",
       "      <td>[soccer, stadiums]</td>\n",
       "      <td>3</td>\n",
       "      <td>898cab70bd7ffff</td>\n",
       "      <td>E_0283d9f61e569d E_6e477dd29c2dc2</td>\n",
       "    </tr>\n",
       "  </tbody>\n",
       "</table>\n",
       "</div>"
      ],
      "text/plain": [
       "                 id                                     name        lat  \\\n",
       "0  E_00001118ad0191                  jamu petani bagan serai   5.012169   \n",
       "1  E_000020eb6fed40                              johnnys bar  40.434209   \n",
       "2  E_00002f98667edf                                     qiwi  47.215134   \n",
       "3  E_001b6bad66eb98  gelora sriwijaya jaka baring sport city  -3.014675   \n",
       "4  E_0283d9f61e569d                 stadion gelora sriwijaya  -3.021727   \n",
       "\n",
       "          lng                       address            city          state  \\\n",
       "0  100.535805                           NaN             NaN            NaN   \n",
       "1  -80.564160                 497 N 12th St         Weirton             WV   \n",
       "2   39.686088             Межевая улица, 60  Ростов-на-Дону            NaN   \n",
       "3  104.794374                           NaN             NaN            NaN   \n",
       "4  104.788628  Jalan Gubernur Hasan Bastari       Palembang  South Sumatra   \n",
       "\n",
       "       zip country               url         phone       categories  \\\n",
       "0      NaN      MY               NaN           NaN            cafes   \n",
       "1  26062.0      US               NaN           NaN             bars   \n",
       "2      NaN      RU  https://qiwi.com  7.800301e+10             atms   \n",
       "3      NaN      ID               NaN           NaN         stadiums   \n",
       "4  11480.0      ID               NaN           NaN  soccer stadiums   \n",
       "\n",
       "    category_tokenied  category_cluster          h3_cell  \\\n",
       "0             [cafes]                 0  8965032cc53ffff   \n",
       "1              [bars]                 0  892a86a3457ffff   \n",
       "2              [atms]                 0  892d440ee4bffff   \n",
       "3          [stadiums]                 3  898cab70a37ffff   \n",
       "4  [soccer, stadiums]                 3  898cab70bd7ffff   \n",
       "\n",
       "                             matches  \n",
       "0  E_00001118ad0191 E_5be051889de601  \n",
       "1                   E_000020eb6fed40  \n",
       "2                   E_00002f98667edf  \n",
       "3  E_001b6bad66eb98 E_161706a74b5308  \n",
       "4  E_0283d9f61e569d E_6e477dd29c2dc2  "
      ]
     },
     "execution_count": 24,
     "metadata": {},
     "output_type": "execute_result"
    }
   ],
   "source": [
    "test_set_"
   ]
  },
  {
   "cell_type": "code",
   "execution_count": 25,
   "id": "51db75aa",
   "metadata": {
    "execution": {
     "iopub.execute_input": "2022-05-17T11:17:46.159855Z",
     "iopub.status.busy": "2022-05-17T11:17:46.159306Z",
     "iopub.status.idle": "2022-05-17T11:17:46.357619Z",
     "shell.execute_reply": "2022-05-17T11:17:46.357009Z"
    },
    "papermill": {
     "duration": 0.252276,
     "end_time": "2022-05-17T11:17:46.359469",
     "exception": false,
     "start_time": "2022-05-17T11:17:46.107193",
     "status": "completed"
    },
    "tags": []
   },
   "outputs": [
    {
     "data": {
      "text/html": [
       "<div>\n",
       "<style scoped>\n",
       "    .dataframe tbody tr th:only-of-type {\n",
       "        vertical-align: middle;\n",
       "    }\n",
       "\n",
       "    .dataframe tbody tr th {\n",
       "        vertical-align: top;\n",
       "    }\n",
       "\n",
       "    .dataframe thead th {\n",
       "        text-align: right;\n",
       "    }\n",
       "</style>\n",
       "<table border=\"1\" class=\"dataframe\">\n",
       "  <thead>\n",
       "    <tr style=\"text-align: right;\">\n",
       "      <th></th>\n",
       "      <th>id</th>\n",
       "      <th>name</th>\n",
       "      <th>lat</th>\n",
       "      <th>lng</th>\n",
       "      <th>address</th>\n",
       "      <th>city</th>\n",
       "      <th>state</th>\n",
       "      <th>zip</th>\n",
       "      <th>country</th>\n",
       "      <th>url</th>\n",
       "      <th>phone</th>\n",
       "      <th>categories</th>\n",
       "      <th>point_of_interest</th>\n",
       "      <th>category_tokenied</th>\n",
       "      <th>category_cluster</th>\n",
       "      <th>h3_cell</th>\n",
       "    </tr>\n",
       "  </thead>\n",
       "  <tbody>\n",
       "    <tr>\n",
       "      <th>98575</th>\n",
       "      <td>E_161706a74b5308</td>\n",
       "      <td>gelora sriwijaya jaka baring sport city</td>\n",
       "      <td>-3.014675</td>\n",
       "      <td>104.794374</td>\n",
       "      <td>NaN</td>\n",
       "      <td>NaN</td>\n",
       "      <td>NaN</td>\n",
       "      <td>NaN</td>\n",
       "      <td>ID</td>\n",
       "      <td>NaN</td>\n",
       "      <td>NaN</td>\n",
       "      <td>stadiums</td>\n",
       "      <td>P_3a29d96ec6eb0c</td>\n",
       "      <td>[stadiums]</td>\n",
       "      <td>3</td>\n",
       "      <td>898cab70a37ffff</td>\n",
       "    </tr>\n",
       "  </tbody>\n",
       "</table>\n",
       "</div>"
      ],
      "text/plain": [
       "                     id                                     name       lat  \\\n",
       "98575  E_161706a74b5308  gelora sriwijaya jaka baring sport city -3.014675   \n",
       "\n",
       "              lng address city state  zip country  url phone categories  \\\n",
       "98575  104.794374     NaN  NaN   NaN  NaN      ID  NaN   NaN   stadiums   \n",
       "\n",
       "      point_of_interest category_tokenied  category_cluster          h3_cell  \n",
       "98575  P_3a29d96ec6eb0c        [stadiums]                 3  898cab70a37ffff  "
      ]
     },
     "execution_count": 25,
     "metadata": {},
     "output_type": "execute_result"
    }
   ],
   "source": [
    "training_set_[training_set_['id'] == 'E_161706a74b5308']"
   ]
  },
  {
   "cell_type": "code",
   "execution_count": 26,
   "id": "60cbaedc",
   "metadata": {
    "execution": {
     "iopub.execute_input": "2022-05-17T11:17:46.463392Z",
     "iopub.status.busy": "2022-05-17T11:17:46.463084Z",
     "iopub.status.idle": "2022-05-17T11:17:46.664935Z",
     "shell.execute_reply": "2022-05-17T11:17:46.663999Z"
    },
    "papermill": {
     "duration": 0.256568,
     "end_time": "2022-05-17T11:17:46.667133",
     "exception": false,
     "start_time": "2022-05-17T11:17:46.410565",
     "status": "completed"
    },
    "tags": []
   },
   "outputs": [
    {
     "data": {
      "text/html": [
       "<div>\n",
       "<style scoped>\n",
       "    .dataframe tbody tr th:only-of-type {\n",
       "        vertical-align: middle;\n",
       "    }\n",
       "\n",
       "    .dataframe tbody tr th {\n",
       "        vertical-align: top;\n",
       "    }\n",
       "\n",
       "    .dataframe thead th {\n",
       "        text-align: right;\n",
       "    }\n",
       "</style>\n",
       "<table border=\"1\" class=\"dataframe\">\n",
       "  <thead>\n",
       "    <tr style=\"text-align: right;\">\n",
       "      <th></th>\n",
       "      <th>id</th>\n",
       "      <th>name</th>\n",
       "      <th>lat</th>\n",
       "      <th>lng</th>\n",
       "      <th>address</th>\n",
       "      <th>city</th>\n",
       "      <th>state</th>\n",
       "      <th>zip</th>\n",
       "      <th>country</th>\n",
       "      <th>url</th>\n",
       "      <th>phone</th>\n",
       "      <th>categories</th>\n",
       "      <th>point_of_interest</th>\n",
       "      <th>category_tokenied</th>\n",
       "      <th>category_cluster</th>\n",
       "      <th>h3_cell</th>\n",
       "    </tr>\n",
       "  </thead>\n",
       "  <tbody>\n",
       "    <tr>\n",
       "      <th>490551</th>\n",
       "      <td>E_6e477dd29c2dc2</td>\n",
       "      <td>stadion gelora sriwijaya</td>\n",
       "      <td>-3.021727</td>\n",
       "      <td>104.788628</td>\n",
       "      <td>Jalan Gubernur Hasan Bastari</td>\n",
       "      <td>Palembang</td>\n",
       "      <td>South Sumatra</td>\n",
       "      <td>11480</td>\n",
       "      <td>ID</td>\n",
       "      <td>NaN</td>\n",
       "      <td>NaN</td>\n",
       "      <td>soccer stadiums</td>\n",
       "      <td>P_3a29d96ec6eb0c</td>\n",
       "      <td>[soccer, stadiums]</td>\n",
       "      <td>3</td>\n",
       "      <td>898cab70bd7ffff</td>\n",
       "    </tr>\n",
       "  </tbody>\n",
       "</table>\n",
       "</div>"
      ],
      "text/plain": [
       "                      id                      name       lat         lng  \\\n",
       "490551  E_6e477dd29c2dc2  stadion gelora sriwijaya -3.021727  104.788628   \n",
       "\n",
       "                             address       city          state    zip country  \\\n",
       "490551  Jalan Gubernur Hasan Bastari  Palembang  South Sumatra  11480      ID   \n",
       "\n",
       "        url phone       categories point_of_interest   category_tokenied  \\\n",
       "490551  NaN   NaN  soccer stadiums  P_3a29d96ec6eb0c  [soccer, stadiums]   \n",
       "\n",
       "        category_cluster          h3_cell  \n",
       "490551                 3  898cab70bd7ffff  "
      ]
     },
     "execution_count": 26,
     "metadata": {},
     "output_type": "execute_result"
    }
   ],
   "source": [
    "training_set_[training_set_['id'] == 'E_6e477dd29c2dc2']"
   ]
  },
  {
   "cell_type": "markdown",
   "id": "26a5815d",
   "metadata": {
    "papermill": {
     "duration": 0.051947,
     "end_time": "2022-05-17T11:17:46.772181",
     "exception": false,
     "start_time": "2022-05-17T11:17:46.720234",
     "status": "completed"
    },
    "tags": []
   },
   "source": [
    "## As we can see, it was enough to find a pretty good match for two of 5 rows of the sample"
   ]
  },
  {
   "cell_type": "code",
   "execution_count": 27,
   "id": "048a976e",
   "metadata": {
    "execution": {
     "iopub.execute_input": "2022-05-17T11:17:46.877162Z",
     "iopub.status.busy": "2022-05-17T11:17:46.876833Z",
     "iopub.status.idle": "2022-05-17T11:17:46.882444Z",
     "shell.execute_reply": "2022-05-17T11:17:46.881723Z"
    },
    "papermill": {
     "duration": 0.060341,
     "end_time": "2022-05-17T11:17:46.884194",
     "exception": false,
     "start_time": "2022-05-17T11:17:46.823853",
     "status": "completed"
    },
    "tags": []
   },
   "outputs": [],
   "source": [
    "submission_sample = test_set_[['id','matches']]\n"
   ]
  },
  {
   "cell_type": "code",
   "execution_count": 28,
   "id": "289da0ab",
   "metadata": {
    "execution": {
     "iopub.execute_input": "2022-05-17T11:17:46.994416Z",
     "iopub.status.busy": "2022-05-17T11:17:46.993835Z",
     "iopub.status.idle": "2022-05-17T11:17:47.002324Z",
     "shell.execute_reply": "2022-05-17T11:17:47.001515Z"
    },
    "papermill": {
     "duration": 0.064075,
     "end_time": "2022-05-17T11:17:47.004147",
     "exception": false,
     "start_time": "2022-05-17T11:17:46.940072",
     "status": "completed"
    },
    "tags": []
   },
   "outputs": [
    {
     "data": {
      "text/html": [
       "<div>\n",
       "<style scoped>\n",
       "    .dataframe tbody tr th:only-of-type {\n",
       "        vertical-align: middle;\n",
       "    }\n",
       "\n",
       "    .dataframe tbody tr th {\n",
       "        vertical-align: top;\n",
       "    }\n",
       "\n",
       "    .dataframe thead th {\n",
       "        text-align: right;\n",
       "    }\n",
       "</style>\n",
       "<table border=\"1\" class=\"dataframe\">\n",
       "  <thead>\n",
       "    <tr style=\"text-align: right;\">\n",
       "      <th></th>\n",
       "      <th>id</th>\n",
       "      <th>matches</th>\n",
       "    </tr>\n",
       "  </thead>\n",
       "  <tbody>\n",
       "    <tr>\n",
       "      <th>0</th>\n",
       "      <td>E_00001118ad0191</td>\n",
       "      <td>E_00001118ad0191 E_5be051889de601</td>\n",
       "    </tr>\n",
       "    <tr>\n",
       "      <th>1</th>\n",
       "      <td>E_000020eb6fed40</td>\n",
       "      <td>E_000020eb6fed40</td>\n",
       "    </tr>\n",
       "    <tr>\n",
       "      <th>2</th>\n",
       "      <td>E_00002f98667edf</td>\n",
       "      <td>E_00002f98667edf</td>\n",
       "    </tr>\n",
       "    <tr>\n",
       "      <th>3</th>\n",
       "      <td>E_001b6bad66eb98</td>\n",
       "      <td>E_001b6bad66eb98 E_161706a74b5308</td>\n",
       "    </tr>\n",
       "    <tr>\n",
       "      <th>4</th>\n",
       "      <td>E_0283d9f61e569d</td>\n",
       "      <td>E_0283d9f61e569d E_6e477dd29c2dc2</td>\n",
       "    </tr>\n",
       "  </tbody>\n",
       "</table>\n",
       "</div>"
      ],
      "text/plain": [
       "                 id                            matches\n",
       "0  E_00001118ad0191  E_00001118ad0191 E_5be051889de601\n",
       "1  E_000020eb6fed40                   E_000020eb6fed40\n",
       "2  E_00002f98667edf                   E_00002f98667edf\n",
       "3  E_001b6bad66eb98  E_001b6bad66eb98 E_161706a74b5308\n",
       "4  E_0283d9f61e569d  E_0283d9f61e569d E_6e477dd29c2dc2"
      ]
     },
     "execution_count": 28,
     "metadata": {},
     "output_type": "execute_result"
    }
   ],
   "source": [
    "submission_sample"
   ]
  },
  {
   "cell_type": "markdown",
   "id": "53063876",
   "metadata": {
    "papermill": {
     "duration": 0.052614,
     "end_time": "2022-05-17T11:17:47.109942",
     "exception": false,
     "start_time": "2022-05-17T11:17:47.057328",
     "status": "completed"
    },
    "tags": []
   },
   "source": [
    "# Sample Submittion"
   ]
  },
  {
   "cell_type": "code",
   "execution_count": 29,
   "id": "3c1ff84b",
   "metadata": {
    "execution": {
     "iopub.execute_input": "2022-05-17T11:17:47.218106Z",
     "iopub.status.busy": "2022-05-17T11:17:47.217591Z",
     "iopub.status.idle": "2022-05-17T11:17:47.230560Z",
     "shell.execute_reply": "2022-05-17T11:17:47.229834Z"
    },
    "papermill": {
     "duration": 0.068907,
     "end_time": "2022-05-17T11:17:47.232914",
     "exception": false,
     "start_time": "2022-05-17T11:17:47.164007",
     "status": "completed"
    },
    "tags": []
   },
   "outputs": [],
   "source": [
    "submission_sample.to_csv('/kaggle/working/submission.csv')"
   ]
  }
 ],
 "metadata": {
  "kernelspec": {
   "display_name": "Python 3",
   "language": "python",
   "name": "python3"
  },
  "language_info": {
   "codemirror_mode": {
    "name": "ipython",
    "version": 3
   },
   "file_extension": ".py",
   "mimetype": "text/x-python",
   "name": "python",
   "nbconvert_exporter": "python",
   "pygments_lexer": "ipython3",
   "version": "3.7.12"
  },
  "papermill": {
   "default_parameters": {},
   "duration": 609.815352,
   "end_time": "2022-05-17T11:17:50.009645",
   "environment_variables": {},
   "exception": null,
   "input_path": "__notebook__.ipynb",
   "output_path": "__notebook__.ipynb",
   "parameters": {},
   "start_time": "2022-05-17T11:07:40.194293",
   "version": "2.3.4"
  },
  "widgets": {
   "application/vnd.jupyter.widget-state+json": {
    "state": {
     "00687a06d63446dd9c4da8de12a57299": {
      "model_module": "@jupyter-widgets/controls",
      "model_module_version": "1.5.0",
      "model_name": "HTMLModel",
      "state": {
       "_dom_classes": [],
       "_model_module": "@jupyter-widgets/controls",
       "_model_module_version": "1.5.0",
       "_model_name": "HTMLModel",
       "_view_count": null,
       "_view_module": "@jupyter-widgets/controls",
       "_view_module_version": "1.5.0",
       "_view_name": "HTMLView",
       "description": "",
       "description_tooltip": null,
       "layout": "IPY_MODEL_20a4017937d64311be2ecb60bf1376b3",
       "placeholder": "​",
       "style": "IPY_MODEL_0d1b7fb5916c4adfbbf1f28b44c61171",
       "value": "100%"
      }
     },
     "0d1b7fb5916c4adfbbf1f28b44c61171": {
      "model_module": "@jupyter-widgets/controls",
      "model_module_version": "1.5.0",
      "model_name": "DescriptionStyleModel",
      "state": {
       "_model_module": "@jupyter-widgets/controls",
       "_model_module_version": "1.5.0",
       "_model_name": "DescriptionStyleModel",
       "_view_count": null,
       "_view_module": "@jupyter-widgets/base",
       "_view_module_version": "1.2.0",
       "_view_name": "StyleView",
       "description_width": ""
      }
     },
     "11e2f2b0453345abbe2b7a33698d4b21": {
      "model_module": "@jupyter-widgets/controls",
      "model_module_version": "1.5.0",
      "model_name": "HTMLModel",
      "state": {
       "_dom_classes": [],
       "_model_module": "@jupyter-widgets/controls",
       "_model_module_version": "1.5.0",
       "_model_name": "HTMLModel",
       "_view_count": null,
       "_view_module": "@jupyter-widgets/controls",
       "_view_module_version": "1.5.0",
       "_view_name": "HTMLView",
       "description": "",
       "description_tooltip": null,
       "layout": "IPY_MODEL_ba1d844cffcc41b0b9ea9347755ab099",
       "placeholder": "​",
       "style": "IPY_MODEL_eaaa60950ed54192b84f08758db4cdda",
       "value": " 5/5 [00:00&lt;00:00, 172.55it/s]"
      }
     },
     "20a4017937d64311be2ecb60bf1376b3": {
      "model_module": "@jupyter-widgets/base",
      "model_module_version": "1.2.0",
      "model_name": "LayoutModel",
      "state": {
       "_model_module": "@jupyter-widgets/base",
       "_model_module_version": "1.2.0",
       "_model_name": "LayoutModel",
       "_view_count": null,
       "_view_module": "@jupyter-widgets/base",
       "_view_module_version": "1.2.0",
       "_view_name": "LayoutView",
       "align_content": null,
       "align_items": null,
       "align_self": null,
       "border": null,
       "bottom": null,
       "display": null,
       "flex": null,
       "flex_flow": null,
       "grid_area": null,
       "grid_auto_columns": null,
       "grid_auto_flow": null,
       "grid_auto_rows": null,
       "grid_column": null,
       "grid_gap": null,
       "grid_row": null,
       "grid_template_areas": null,
       "grid_template_columns": null,
       "grid_template_rows": null,
       "height": null,
       "justify_content": null,
       "justify_items": null,
       "left": null,
       "margin": null,
       "max_height": null,
       "max_width": null,
       "min_height": null,
       "min_width": null,
       "object_fit": null,
       "object_position": null,
       "order": null,
       "overflow": null,
       "overflow_x": null,
       "overflow_y": null,
       "padding": null,
       "right": null,
       "top": null,
       "visibility": null,
       "width": null
      }
     },
     "2b9290386b1d42c1b49cd3ac78a74b06": {
      "model_module": "@jupyter-widgets/base",
      "model_module_version": "1.2.0",
      "model_name": "LayoutModel",
      "state": {
       "_model_module": "@jupyter-widgets/base",
       "_model_module_version": "1.2.0",
       "_model_name": "LayoutModel",
       "_view_count": null,
       "_view_module": "@jupyter-widgets/base",
       "_view_module_version": "1.2.0",
       "_view_name": "LayoutView",
       "align_content": null,
       "align_items": null,
       "align_self": null,
       "border": null,
       "bottom": null,
       "display": null,
       "flex": null,
       "flex_flow": null,
       "grid_area": null,
       "grid_auto_columns": null,
       "grid_auto_flow": null,
       "grid_auto_rows": null,
       "grid_column": null,
       "grid_gap": null,
       "grid_row": null,
       "grid_template_areas": null,
       "grid_template_columns": null,
       "grid_template_rows": null,
       "height": null,
       "justify_content": null,
       "justify_items": null,
       "left": null,
       "margin": null,
       "max_height": null,
       "max_width": null,
       "min_height": null,
       "min_width": null,
       "object_fit": null,
       "object_position": null,
       "order": null,
       "overflow": null,
       "overflow_x": null,
       "overflow_y": null,
       "padding": null,
       "right": null,
       "top": null,
       "visibility": null,
       "width": null
      }
     },
     "2baa092cf9994bdabca4a5e8d8151315": {
      "model_module": "@jupyter-widgets/controls",
      "model_module_version": "1.5.0",
      "model_name": "HTMLModel",
      "state": {
       "_dom_classes": [],
       "_model_module": "@jupyter-widgets/controls",
       "_model_module_version": "1.5.0",
       "_model_name": "HTMLModel",
       "_view_count": null,
       "_view_module": "@jupyter-widgets/controls",
       "_view_module_version": "1.5.0",
       "_view_name": "HTMLView",
       "description": "",
       "description_tooltip": null,
       "layout": "IPY_MODEL_e14795cff3be4752bff101742d0ef3c9",
       "placeholder": "​",
       "style": "IPY_MODEL_eccbc28007ea499eaf6675e887fc77a1",
       "value": "100%"
      }
     },
     "2bc166eda7b94e88a56a17434535f93d": {
      "model_module": "@jupyter-widgets/controls",
      "model_module_version": "1.5.0",
      "model_name": "HTMLModel",
      "state": {
       "_dom_classes": [],
       "_model_module": "@jupyter-widgets/controls",
       "_model_module_version": "1.5.0",
       "_model_name": "HTMLModel",
       "_view_count": null,
       "_view_module": "@jupyter-widgets/controls",
       "_view_module_version": "1.5.0",
       "_view_name": "HTMLView",
       "description": "",
       "description_tooltip": null,
       "layout": "IPY_MODEL_adb2d6e39fd34278ae6a48dbdff6f7dc",
       "placeholder": "​",
       "style": "IPY_MODEL_bb89fc1d64df4428bfcc85251a8fe3a4",
       "value": " 5/5 [00:00&lt;00:00, 170.88it/s]"
      }
     },
     "306ee9c425214aa984ac0cdef9c69c67": {
      "model_module": "@jupyter-widgets/controls",
      "model_module_version": "1.5.0",
      "model_name": "ProgressStyleModel",
      "state": {
       "_model_module": "@jupyter-widgets/controls",
       "_model_module_version": "1.5.0",
       "_model_name": "ProgressStyleModel",
       "_view_count": null,
       "_view_module": "@jupyter-widgets/base",
       "_view_module_version": "1.2.0",
       "_view_name": "StyleView",
       "bar_color": null,
       "description_width": ""
      }
     },
     "369bf6391023403bb12418d60a245b67": {
      "model_module": "@jupyter-widgets/controls",
      "model_module_version": "1.5.0",
      "model_name": "ProgressStyleModel",
      "state": {
       "_model_module": "@jupyter-widgets/controls",
       "_model_module_version": "1.5.0",
       "_model_name": "ProgressStyleModel",
       "_view_count": null,
       "_view_module": "@jupyter-widgets/base",
       "_view_module_version": "1.2.0",
       "_view_name": "StyleView",
       "bar_color": null,
       "description_width": ""
      }
     },
     "3905a9b9809341969210e38e53314f10": {
      "model_module": "@jupyter-widgets/controls",
      "model_module_version": "1.5.0",
      "model_name": "HTMLModel",
      "state": {
       "_dom_classes": [],
       "_model_module": "@jupyter-widgets/controls",
       "_model_module_version": "1.5.0",
       "_model_name": "HTMLModel",
       "_view_count": null,
       "_view_module": "@jupyter-widgets/controls",
       "_view_module_version": "1.5.0",
       "_view_name": "HTMLView",
       "description": "",
       "description_tooltip": null,
       "layout": "IPY_MODEL_2b9290386b1d42c1b49cd3ac78a74b06",
       "placeholder": "​",
       "style": "IPY_MODEL_faca2b48d7784ce1b487c192c59eb2ac",
       "value": " 1138812/1138812 [03:56&lt;00:00, 5136.20it/s]"
      }
     },
     "3932d936ba35477c9b362d64a63aae4e": {
      "model_module": "@jupyter-widgets/base",
      "model_module_version": "1.2.0",
      "model_name": "LayoutModel",
      "state": {
       "_model_module": "@jupyter-widgets/base",
       "_model_module_version": "1.2.0",
       "_model_name": "LayoutModel",
       "_view_count": null,
       "_view_module": "@jupyter-widgets/base",
       "_view_module_version": "1.2.0",
       "_view_name": "LayoutView",
       "align_content": null,
       "align_items": null,
       "align_self": null,
       "border": null,
       "bottom": null,
       "display": null,
       "flex": null,
       "flex_flow": null,
       "grid_area": null,
       "grid_auto_columns": null,
       "grid_auto_flow": null,
       "grid_auto_rows": null,
       "grid_column": null,
       "grid_gap": null,
       "grid_row": null,
       "grid_template_areas": null,
       "grid_template_columns": null,
       "grid_template_rows": null,
       "height": null,
       "justify_content": null,
       "justify_items": null,
       "left": null,
       "margin": null,
       "max_height": null,
       "max_width": null,
       "min_height": null,
       "min_width": null,
       "object_fit": null,
       "object_position": null,
       "order": null,
       "overflow": null,
       "overflow_x": null,
       "overflow_y": null,
       "padding": null,
       "right": null,
       "top": null,
       "visibility": null,
       "width": null
      }
     },
     "3d1d742195ac43bf93de2228f339bab7": {
      "model_module": "@jupyter-widgets/controls",
      "model_module_version": "1.5.0",
      "model_name": "FloatProgressModel",
      "state": {
       "_dom_classes": [],
       "_model_module": "@jupyter-widgets/controls",
       "_model_module_version": "1.5.0",
       "_model_name": "FloatProgressModel",
       "_view_count": null,
       "_view_module": "@jupyter-widgets/controls",
       "_view_module_version": "1.5.0",
       "_view_name": "ProgressView",
       "bar_style": "success",
       "description": "",
       "description_tooltip": null,
       "layout": "IPY_MODEL_cea58e3515d44983b293f78e649f9777",
       "max": 5.0,
       "min": 0.0,
       "orientation": "horizontal",
       "style": "IPY_MODEL_709301f53ced448bb8e9cff068eb2abd",
       "value": 5.0
      }
     },
     "406a04fc767846f7878fe35724a4d691": {
      "model_module": "@jupyter-widgets/controls",
      "model_module_version": "1.5.0",
      "model_name": "FloatProgressModel",
      "state": {
       "_dom_classes": [],
       "_model_module": "@jupyter-widgets/controls",
       "_model_module_version": "1.5.0",
       "_model_name": "FloatProgressModel",
       "_view_count": null,
       "_view_module": "@jupyter-widgets/controls",
       "_view_module_version": "1.5.0",
       "_view_name": "ProgressView",
       "bar_style": "success",
       "description": "",
       "description_tooltip": null,
       "layout": "IPY_MODEL_580641afcec145a6bc8cb5c9910b31d3",
       "max": 1138812.0,
       "min": 0.0,
       "orientation": "horizontal",
       "style": "IPY_MODEL_369bf6391023403bb12418d60a245b67",
       "value": 1138812.0
      }
     },
     "420a25bb8736435e81a3d1ec66bf2c38": {
      "model_module": "@jupyter-widgets/controls",
      "model_module_version": "1.5.0",
      "model_name": "HTMLModel",
      "state": {
       "_dom_classes": [],
       "_model_module": "@jupyter-widgets/controls",
       "_model_module_version": "1.5.0",
       "_model_name": "HTMLModel",
       "_view_count": null,
       "_view_module": "@jupyter-widgets/controls",
       "_view_module_version": "1.5.0",
       "_view_name": "HTMLView",
       "description": "",
       "description_tooltip": null,
       "layout": "IPY_MODEL_cf26a7ce1ce0449dac5c65f9abc60b4a",
       "placeholder": "​",
       "style": "IPY_MODEL_6cb450c0c681441eaf4bdbf0a50005b9",
       "value": "100%"
      }
     },
     "580641afcec145a6bc8cb5c9910b31d3": {
      "model_module": "@jupyter-widgets/base",
      "model_module_version": "1.2.0",
      "model_name": "LayoutModel",
      "state": {
       "_model_module": "@jupyter-widgets/base",
       "_model_module_version": "1.2.0",
       "_model_name": "LayoutModel",
       "_view_count": null,
       "_view_module": "@jupyter-widgets/base",
       "_view_module_version": "1.2.0",
       "_view_name": "LayoutView",
       "align_content": null,
       "align_items": null,
       "align_self": null,
       "border": null,
       "bottom": null,
       "display": null,
       "flex": null,
       "flex_flow": null,
       "grid_area": null,
       "grid_auto_columns": null,
       "grid_auto_flow": null,
       "grid_auto_rows": null,
       "grid_column": null,
       "grid_gap": null,
       "grid_row": null,
       "grid_template_areas": null,
       "grid_template_columns": null,
       "grid_template_rows": null,
       "height": null,
       "justify_content": null,
       "justify_items": null,
       "left": null,
       "margin": null,
       "max_height": null,
       "max_width": null,
       "min_height": null,
       "min_width": null,
       "object_fit": null,
       "object_position": null,
       "order": null,
       "overflow": null,
       "overflow_x": null,
       "overflow_y": null,
       "padding": null,
       "right": null,
       "top": null,
       "visibility": null,
       "width": null
      }
     },
     "6a82c71db5414b7bb3121108045a5d76": {
      "model_module": "@jupyter-widgets/base",
      "model_module_version": "1.2.0",
      "model_name": "LayoutModel",
      "state": {
       "_model_module": "@jupyter-widgets/base",
       "_model_module_version": "1.2.0",
       "_model_name": "LayoutModel",
       "_view_count": null,
       "_view_module": "@jupyter-widgets/base",
       "_view_module_version": "1.2.0",
       "_view_name": "LayoutView",
       "align_content": null,
       "align_items": null,
       "align_self": null,
       "border": null,
       "bottom": null,
       "display": null,
       "flex": null,
       "flex_flow": null,
       "grid_area": null,
       "grid_auto_columns": null,
       "grid_auto_flow": null,
       "grid_auto_rows": null,
       "grid_column": null,
       "grid_gap": null,
       "grid_row": null,
       "grid_template_areas": null,
       "grid_template_columns": null,
       "grid_template_rows": null,
       "height": null,
       "justify_content": null,
       "justify_items": null,
       "left": null,
       "margin": null,
       "max_height": null,
       "max_width": null,
       "min_height": null,
       "min_width": null,
       "object_fit": null,
       "object_position": null,
       "order": null,
       "overflow": null,
       "overflow_x": null,
       "overflow_y": null,
       "padding": null,
       "right": null,
       "top": null,
       "visibility": null,
       "width": null
      }
     },
     "6cb450c0c681441eaf4bdbf0a50005b9": {
      "model_module": "@jupyter-widgets/controls",
      "model_module_version": "1.5.0",
      "model_name": "DescriptionStyleModel",
      "state": {
       "_model_module": "@jupyter-widgets/controls",
       "_model_module_version": "1.5.0",
       "_model_name": "DescriptionStyleModel",
       "_view_count": null,
       "_view_module": "@jupyter-widgets/base",
       "_view_module_version": "1.2.0",
       "_view_name": "StyleView",
       "description_width": ""
      }
     },
     "709301f53ced448bb8e9cff068eb2abd": {
      "model_module": "@jupyter-widgets/controls",
      "model_module_version": "1.5.0",
      "model_name": "ProgressStyleModel",
      "state": {
       "_model_module": "@jupyter-widgets/controls",
       "_model_module_version": "1.5.0",
       "_model_name": "ProgressStyleModel",
       "_view_count": null,
       "_view_module": "@jupyter-widgets/base",
       "_view_module_version": "1.2.0",
       "_view_name": "StyleView",
       "bar_color": null,
       "description_width": ""
      }
     },
     "81ce3aba192d4c919491bba84726329d": {
      "model_module": "@jupyter-widgets/controls",
      "model_module_version": "1.5.0",
      "model_name": "HBoxModel",
      "state": {
       "_dom_classes": [],
       "_model_module": "@jupyter-widgets/controls",
       "_model_module_version": "1.5.0",
       "_model_name": "HBoxModel",
       "_view_count": null,
       "_view_module": "@jupyter-widgets/controls",
       "_view_module_version": "1.5.0",
       "_view_name": "HBoxView",
       "box_style": "",
       "children": [
        "IPY_MODEL_00687a06d63446dd9c4da8de12a57299",
        "IPY_MODEL_3d1d742195ac43bf93de2228f339bab7",
        "IPY_MODEL_2bc166eda7b94e88a56a17434535f93d"
       ],
       "layout": "IPY_MODEL_9ad1f30563f749b891619599387c9fa2"
      }
     },
     "95f1dece4ea4474d8a22b8edc7e5378a": {
      "model_module": "@jupyter-widgets/controls",
      "model_module_version": "1.5.0",
      "model_name": "HBoxModel",
      "state": {
       "_dom_classes": [],
       "_model_module": "@jupyter-widgets/controls",
       "_model_module_version": "1.5.0",
       "_model_name": "HBoxModel",
       "_view_count": null,
       "_view_module": "@jupyter-widgets/controls",
       "_view_module_version": "1.5.0",
       "_view_name": "HBoxView",
       "box_style": "",
       "children": [
        "IPY_MODEL_420a25bb8736435e81a3d1ec66bf2c38",
        "IPY_MODEL_f9290a8d9e9a40b8a9d75754ecb86ebb",
        "IPY_MODEL_11e2f2b0453345abbe2b7a33698d4b21"
       ],
       "layout": "IPY_MODEL_3932d936ba35477c9b362d64a63aae4e"
      }
     },
     "9ad1f30563f749b891619599387c9fa2": {
      "model_module": "@jupyter-widgets/base",
      "model_module_version": "1.2.0",
      "model_name": "LayoutModel",
      "state": {
       "_model_module": "@jupyter-widgets/base",
       "_model_module_version": "1.2.0",
       "_model_name": "LayoutModel",
       "_view_count": null,
       "_view_module": "@jupyter-widgets/base",
       "_view_module_version": "1.2.0",
       "_view_name": "LayoutView",
       "align_content": null,
       "align_items": null,
       "align_self": null,
       "border": null,
       "bottom": null,
       "display": null,
       "flex": null,
       "flex_flow": null,
       "grid_area": null,
       "grid_auto_columns": null,
       "grid_auto_flow": null,
       "grid_auto_rows": null,
       "grid_column": null,
       "grid_gap": null,
       "grid_row": null,
       "grid_template_areas": null,
       "grid_template_columns": null,
       "grid_template_rows": null,
       "height": null,
       "justify_content": null,
       "justify_items": null,
       "left": null,
       "margin": null,
       "max_height": null,
       "max_width": null,
       "min_height": null,
       "min_width": null,
       "object_fit": null,
       "object_position": null,
       "order": null,
       "overflow": null,
       "overflow_x": null,
       "overflow_y": null,
       "padding": null,
       "right": null,
       "top": null,
       "visibility": null,
       "width": null
      }
     },
     "adb2d6e39fd34278ae6a48dbdff6f7dc": {
      "model_module": "@jupyter-widgets/base",
      "model_module_version": "1.2.0",
      "model_name": "LayoutModel",
      "state": {
       "_model_module": "@jupyter-widgets/base",
       "_model_module_version": "1.2.0",
       "_model_name": "LayoutModel",
       "_view_count": null,
       "_view_module": "@jupyter-widgets/base",
       "_view_module_version": "1.2.0",
       "_view_name": "LayoutView",
       "align_content": null,
       "align_items": null,
       "align_self": null,
       "border": null,
       "bottom": null,
       "display": null,
       "flex": null,
       "flex_flow": null,
       "grid_area": null,
       "grid_auto_columns": null,
       "grid_auto_flow": null,
       "grid_auto_rows": null,
       "grid_column": null,
       "grid_gap": null,
       "grid_row": null,
       "grid_template_areas": null,
       "grid_template_columns": null,
       "grid_template_rows": null,
       "height": null,
       "justify_content": null,
       "justify_items": null,
       "left": null,
       "margin": null,
       "max_height": null,
       "max_width": null,
       "min_height": null,
       "min_width": null,
       "object_fit": null,
       "object_position": null,
       "order": null,
       "overflow": null,
       "overflow_x": null,
       "overflow_y": null,
       "padding": null,
       "right": null,
       "top": null,
       "visibility": null,
       "width": null
      }
     },
     "ba1d844cffcc41b0b9ea9347755ab099": {
      "model_module": "@jupyter-widgets/base",
      "model_module_version": "1.2.0",
      "model_name": "LayoutModel",
      "state": {
       "_model_module": "@jupyter-widgets/base",
       "_model_module_version": "1.2.0",
       "_model_name": "LayoutModel",
       "_view_count": null,
       "_view_module": "@jupyter-widgets/base",
       "_view_module_version": "1.2.0",
       "_view_name": "LayoutView",
       "align_content": null,
       "align_items": null,
       "align_self": null,
       "border": null,
       "bottom": null,
       "display": null,
       "flex": null,
       "flex_flow": null,
       "grid_area": null,
       "grid_auto_columns": null,
       "grid_auto_flow": null,
       "grid_auto_rows": null,
       "grid_column": null,
       "grid_gap": null,
       "grid_row": null,
       "grid_template_areas": null,
       "grid_template_columns": null,
       "grid_template_rows": null,
       "height": null,
       "justify_content": null,
       "justify_items": null,
       "left": null,
       "margin": null,
       "max_height": null,
       "max_width": null,
       "min_height": null,
       "min_width": null,
       "object_fit": null,
       "object_position": null,
       "order": null,
       "overflow": null,
       "overflow_x": null,
       "overflow_y": null,
       "padding": null,
       "right": null,
       "top": null,
       "visibility": null,
       "width": null
      }
     },
     "bb89fc1d64df4428bfcc85251a8fe3a4": {
      "model_module": "@jupyter-widgets/controls",
      "model_module_version": "1.5.0",
      "model_name": "DescriptionStyleModel",
      "state": {
       "_model_module": "@jupyter-widgets/controls",
       "_model_module_version": "1.5.0",
       "_model_name": "DescriptionStyleModel",
       "_view_count": null,
       "_view_module": "@jupyter-widgets/base",
       "_view_module_version": "1.2.0",
       "_view_name": "StyleView",
       "description_width": ""
      }
     },
     "cea58e3515d44983b293f78e649f9777": {
      "model_module": "@jupyter-widgets/base",
      "model_module_version": "1.2.0",
      "model_name": "LayoutModel",
      "state": {
       "_model_module": "@jupyter-widgets/base",
       "_model_module_version": "1.2.0",
       "_model_name": "LayoutModel",
       "_view_count": null,
       "_view_module": "@jupyter-widgets/base",
       "_view_module_version": "1.2.0",
       "_view_name": "LayoutView",
       "align_content": null,
       "align_items": null,
       "align_self": null,
       "border": null,
       "bottom": null,
       "display": null,
       "flex": null,
       "flex_flow": null,
       "grid_area": null,
       "grid_auto_columns": null,
       "grid_auto_flow": null,
       "grid_auto_rows": null,
       "grid_column": null,
       "grid_gap": null,
       "grid_row": null,
       "grid_template_areas": null,
       "grid_template_columns": null,
       "grid_template_rows": null,
       "height": null,
       "justify_content": null,
       "justify_items": null,
       "left": null,
       "margin": null,
       "max_height": null,
       "max_width": null,
       "min_height": null,
       "min_width": null,
       "object_fit": null,
       "object_position": null,
       "order": null,
       "overflow": null,
       "overflow_x": null,
       "overflow_y": null,
       "padding": null,
       "right": null,
       "top": null,
       "visibility": null,
       "width": null
      }
     },
     "cf26a7ce1ce0449dac5c65f9abc60b4a": {
      "model_module": "@jupyter-widgets/base",
      "model_module_version": "1.2.0",
      "model_name": "LayoutModel",
      "state": {
       "_model_module": "@jupyter-widgets/base",
       "_model_module_version": "1.2.0",
       "_model_name": "LayoutModel",
       "_view_count": null,
       "_view_module": "@jupyter-widgets/base",
       "_view_module_version": "1.2.0",
       "_view_name": "LayoutView",
       "align_content": null,
       "align_items": null,
       "align_self": null,
       "border": null,
       "bottom": null,
       "display": null,
       "flex": null,
       "flex_flow": null,
       "grid_area": null,
       "grid_auto_columns": null,
       "grid_auto_flow": null,
       "grid_auto_rows": null,
       "grid_column": null,
       "grid_gap": null,
       "grid_row": null,
       "grid_template_areas": null,
       "grid_template_columns": null,
       "grid_template_rows": null,
       "height": null,
       "justify_content": null,
       "justify_items": null,
       "left": null,
       "margin": null,
       "max_height": null,
       "max_width": null,
       "min_height": null,
       "min_width": null,
       "object_fit": null,
       "object_position": null,
       "order": null,
       "overflow": null,
       "overflow_x": null,
       "overflow_y": null,
       "padding": null,
       "right": null,
       "top": null,
       "visibility": null,
       "width": null
      }
     },
     "e14795cff3be4752bff101742d0ef3c9": {
      "model_module": "@jupyter-widgets/base",
      "model_module_version": "1.2.0",
      "model_name": "LayoutModel",
      "state": {
       "_model_module": "@jupyter-widgets/base",
       "_model_module_version": "1.2.0",
       "_model_name": "LayoutModel",
       "_view_count": null,
       "_view_module": "@jupyter-widgets/base",
       "_view_module_version": "1.2.0",
       "_view_name": "LayoutView",
       "align_content": null,
       "align_items": null,
       "align_self": null,
       "border": null,
       "bottom": null,
       "display": null,
       "flex": null,
       "flex_flow": null,
       "grid_area": null,
       "grid_auto_columns": null,
       "grid_auto_flow": null,
       "grid_auto_rows": null,
       "grid_column": null,
       "grid_gap": null,
       "grid_row": null,
       "grid_template_areas": null,
       "grid_template_columns": null,
       "grid_template_rows": null,
       "height": null,
       "justify_content": null,
       "justify_items": null,
       "left": null,
       "margin": null,
       "max_height": null,
       "max_width": null,
       "min_height": null,
       "min_width": null,
       "object_fit": null,
       "object_position": null,
       "order": null,
       "overflow": null,
       "overflow_x": null,
       "overflow_y": null,
       "padding": null,
       "right": null,
       "top": null,
       "visibility": null,
       "width": null
      }
     },
     "e2c64153b5cf40b99b1b288c5b2d5c2d": {
      "model_module": "@jupyter-widgets/controls",
      "model_module_version": "1.5.0",
      "model_name": "HBoxModel",
      "state": {
       "_dom_classes": [],
       "_model_module": "@jupyter-widgets/controls",
       "_model_module_version": "1.5.0",
       "_model_name": "HBoxModel",
       "_view_count": null,
       "_view_module": "@jupyter-widgets/controls",
       "_view_module_version": "1.5.0",
       "_view_name": "HBoxView",
       "box_style": "",
       "children": [
        "IPY_MODEL_2baa092cf9994bdabca4a5e8d8151315",
        "IPY_MODEL_406a04fc767846f7878fe35724a4d691",
        "IPY_MODEL_3905a9b9809341969210e38e53314f10"
       ],
       "layout": "IPY_MODEL_f13ff38954a64ff0bc8248d70b637083"
      }
     },
     "eaaa60950ed54192b84f08758db4cdda": {
      "model_module": "@jupyter-widgets/controls",
      "model_module_version": "1.5.0",
      "model_name": "DescriptionStyleModel",
      "state": {
       "_model_module": "@jupyter-widgets/controls",
       "_model_module_version": "1.5.0",
       "_model_name": "DescriptionStyleModel",
       "_view_count": null,
       "_view_module": "@jupyter-widgets/base",
       "_view_module_version": "1.2.0",
       "_view_name": "StyleView",
       "description_width": ""
      }
     },
     "eccbc28007ea499eaf6675e887fc77a1": {
      "model_module": "@jupyter-widgets/controls",
      "model_module_version": "1.5.0",
      "model_name": "DescriptionStyleModel",
      "state": {
       "_model_module": "@jupyter-widgets/controls",
       "_model_module_version": "1.5.0",
       "_model_name": "DescriptionStyleModel",
       "_view_count": null,
       "_view_module": "@jupyter-widgets/base",
       "_view_module_version": "1.2.0",
       "_view_name": "StyleView",
       "description_width": ""
      }
     },
     "f13ff38954a64ff0bc8248d70b637083": {
      "model_module": "@jupyter-widgets/base",
      "model_module_version": "1.2.0",
      "model_name": "LayoutModel",
      "state": {
       "_model_module": "@jupyter-widgets/base",
       "_model_module_version": "1.2.0",
       "_model_name": "LayoutModel",
       "_view_count": null,
       "_view_module": "@jupyter-widgets/base",
       "_view_module_version": "1.2.0",
       "_view_name": "LayoutView",
       "align_content": null,
       "align_items": null,
       "align_self": null,
       "border": null,
       "bottom": null,
       "display": null,
       "flex": null,
       "flex_flow": null,
       "grid_area": null,
       "grid_auto_columns": null,
       "grid_auto_flow": null,
       "grid_auto_rows": null,
       "grid_column": null,
       "grid_gap": null,
       "grid_row": null,
       "grid_template_areas": null,
       "grid_template_columns": null,
       "grid_template_rows": null,
       "height": null,
       "justify_content": null,
       "justify_items": null,
       "left": null,
       "margin": null,
       "max_height": null,
       "max_width": null,
       "min_height": null,
       "min_width": null,
       "object_fit": null,
       "object_position": null,
       "order": null,
       "overflow": null,
       "overflow_x": null,
       "overflow_y": null,
       "padding": null,
       "right": null,
       "top": null,
       "visibility": null,
       "width": null
      }
     },
     "f9290a8d9e9a40b8a9d75754ecb86ebb": {
      "model_module": "@jupyter-widgets/controls",
      "model_module_version": "1.5.0",
      "model_name": "FloatProgressModel",
      "state": {
       "_dom_classes": [],
       "_model_module": "@jupyter-widgets/controls",
       "_model_module_version": "1.5.0",
       "_model_name": "FloatProgressModel",
       "_view_count": null,
       "_view_module": "@jupyter-widgets/controls",
       "_view_module_version": "1.5.0",
       "_view_name": "ProgressView",
       "bar_style": "success",
       "description": "",
       "description_tooltip": null,
       "layout": "IPY_MODEL_6a82c71db5414b7bb3121108045a5d76",
       "max": 5.0,
       "min": 0.0,
       "orientation": "horizontal",
       "style": "IPY_MODEL_306ee9c425214aa984ac0cdef9c69c67",
       "value": 5.0
      }
     },
     "faca2b48d7784ce1b487c192c59eb2ac": {
      "model_module": "@jupyter-widgets/controls",
      "model_module_version": "1.5.0",
      "model_name": "DescriptionStyleModel",
      "state": {
       "_model_module": "@jupyter-widgets/controls",
       "_model_module_version": "1.5.0",
       "_model_name": "DescriptionStyleModel",
       "_view_count": null,
       "_view_module": "@jupyter-widgets/base",
       "_view_module_version": "1.2.0",
       "_view_name": "StyleView",
       "description_width": ""
      }
     }
    },
    "version_major": 2,
    "version_minor": 0
   }
  }
 },
 "nbformat": 4,
 "nbformat_minor": 5
}
