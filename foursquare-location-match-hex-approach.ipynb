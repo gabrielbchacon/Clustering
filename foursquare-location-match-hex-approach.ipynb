{
 "cells": [
  {
   "cell_type": "markdown",
   "id": "60c8896a",
   "metadata": {
    "papermill": {
     "duration": 0.035404,
     "end_time": "2022-05-17T11:29:37.285963",
     "exception": false,
     "start_time": "2022-05-17T11:29:37.250559",
     "status": "completed"
    },
    "tags": []
   },
   "source": [
    "# Installing h3 Lib"
   ]
  },
  {
   "cell_type": "code",
   "execution_count": 1,
   "id": "1eaf7348",
   "metadata": {
    "_kg_hide-input": false,
    "_kg_hide-output": false,
    "execution": {
     "iopub.execute_input": "2022-05-17T11:29:37.345402Z",
     "iopub.status.busy": "2022-05-17T11:29:37.345097Z",
     "iopub.status.idle": "2022-05-17T11:30:07.341675Z",
     "shell.execute_reply": "2022-05-17T11:30:07.340822Z"
    },
    "papermill": {
     "duration": 30.027734,
     "end_time": "2022-05-17T11:30:07.344229",
     "exception": false,
     "start_time": "2022-05-17T11:29:37.316495",
     "status": "completed"
    },
    "tags": []
   },
   "outputs": [
    {
     "name": "stdout",
     "output_type": "stream",
     "text": [
      "Processing /kaggle/input/h3lib/h3-3.7.4-cp37-cp37m-manylinux_2_17_x86_64.manylinux2014_x86_64.whl\r\n",
      "Installing collected packages: h3\r\n",
      "Successfully installed h3-3.7.4\r\n",
      "\u001b[33mWARNING: Running pip as the 'root' user can result in broken permissions and conflicting behaviour with the system package manager. It is recommended to use a virtual environment instead: https://pip.pypa.io/warnings/venv\u001b[0m\u001b[33m\r\n",
      "\u001b[0m"
     ]
    }
   ],
   "source": [
    "!pip install ../input/h3lib/h3-3.7.4-cp37-cp37m-manylinux_2_17_x86_64.manylinux2014_x86_64.whl"
   ]
  },
  {
   "cell_type": "markdown",
   "id": "4fae0837",
   "metadata": {
    "papermill": {
     "duration": 0.028043,
     "end_time": "2022-05-17T11:30:07.401238",
     "exception": false,
     "start_time": "2022-05-17T11:30:07.373195",
     "status": "completed"
    },
    "tags": []
   },
   "source": [
    "# Limporting lib"
   ]
  },
  {
   "cell_type": "code",
   "execution_count": 2,
   "id": "1862f192",
   "metadata": {
    "_cell_guid": "b1076dfc-b9ad-4769-8c92-a6c4dae69d19",
    "_kg_hide-output": true,
    "_uuid": "8f2839f25d086af736a60e9eeb907d3b93b6e0e5",
    "execution": {
     "iopub.execute_input": "2022-05-17T11:30:07.462100Z",
     "iopub.status.busy": "2022-05-17T11:30:07.461782Z",
     "iopub.status.idle": "2022-05-17T11:30:07.586491Z",
     "shell.execute_reply": "2022-05-17T11:30:07.585706Z"
    },
    "papermill": {
     "duration": 0.156776,
     "end_time": "2022-05-17T11:30:07.588421",
     "exception": false,
     "start_time": "2022-05-17T11:30:07.431645",
     "status": "completed"
    },
    "tags": []
   },
   "outputs": [
    {
     "name": "stdout",
     "output_type": "stream",
     "text": [
      "/kaggle/input/foursquare-location-matching/sample_submission.csv\n",
      "/kaggle/input/foursquare-location-matching/pairs.csv\n",
      "/kaggle/input/foursquare-location-matching/train.csv\n",
      "/kaggle/input/foursquare-location-matching/test.csv\n",
      "/kaggle/input/h3lib/h3-3.7.4-cp37-cp37m-manylinux_2_17_x86_64.manylinux2014_x86_64.whl\n"
     ]
    }
   ],
   "source": [
    "import difflib\n",
    "from h3 import h3\n",
    "import numpy as np # linear algebra\n",
    "import pandas as pd # data processing, CSV file I/O (e.g. pd.read_csv)\n",
    "from unidecode import unidecode\n",
    "from tqdm.notebook import tqdm\n",
    "\n",
    "tqdm.pandas()\n",
    "import os\n",
    "for dirname, _, filenames in os.walk('/kaggle/input'):\n",
    "    for filename in filenames:\n",
    "        print(os.path.join(dirname, filename))\n",
    "\n"
   ]
  },
  {
   "cell_type": "markdown",
   "id": "86b07843",
   "metadata": {
    "papermill": {
     "duration": 0.028506,
     "end_time": "2022-05-17T11:30:07.646224",
     "exception": false,
     "start_time": "2022-05-17T11:30:07.617718",
     "status": "completed"
    },
    "tags": []
   },
   "source": [
    "# Data importing (train and test sets)"
   ]
  },
  {
   "cell_type": "code",
   "execution_count": 3,
   "id": "081ef256",
   "metadata": {
    "execution": {
     "iopub.execute_input": "2022-05-17T11:30:07.705912Z",
     "iopub.status.busy": "2022-05-17T11:30:07.705298Z",
     "iopub.status.idle": "2022-05-17T11:30:16.948350Z",
     "shell.execute_reply": "2022-05-17T11:30:16.947326Z"
    },
    "papermill": {
     "duration": 9.276347,
     "end_time": "2022-05-17T11:30:16.951187",
     "exception": false,
     "start_time": "2022-05-17T11:30:07.674840",
     "status": "completed"
    },
    "tags": []
   },
   "outputs": [],
   "source": [
    "df_train = pd.read_csv('/kaggle/input/foursquare-location-matching/train.csv')\n",
    "training_set_ = df_train.copy()\n",
    "\n",
    "df_test = pd.read_csv('/kaggle/input/foursquare-location-matching/test.csv')\n",
    "test_set_ = df_test.copy()"
   ]
  },
  {
   "cell_type": "markdown",
   "id": "fd897894",
   "metadata": {
    "papermill": {
     "duration": 0.029564,
     "end_time": "2022-05-17T11:30:17.011511",
     "exception": false,
     "start_time": "2022-05-17T11:30:16.981947",
     "status": "completed"
    },
    "tags": []
   },
   "source": [
    "# Data first check"
   ]
  },
  {
   "cell_type": "code",
   "execution_count": 4,
   "id": "e6ac1c1c",
   "metadata": {
    "execution": {
     "iopub.execute_input": "2022-05-17T11:30:17.073698Z",
     "iopub.status.busy": "2022-05-17T11:30:17.073330Z",
     "iopub.status.idle": "2022-05-17T11:30:17.667542Z",
     "shell.execute_reply": "2022-05-17T11:30:17.666064Z"
    },
    "papermill": {
     "duration": 0.628277,
     "end_time": "2022-05-17T11:30:17.669629",
     "exception": false,
     "start_time": "2022-05-17T11:30:17.041352",
     "status": "completed"
    },
    "tags": []
   },
   "outputs": [
    {
     "name": "stdout",
     "output_type": "stream",
     "text": [
      "<class 'pandas.core.frame.DataFrame'>\n",
      "RangeIndex: 1138812 entries, 0 to 1138811\n",
      "Data columns (total 13 columns):\n",
      " #   Column             Non-Null Count    Dtype  \n",
      "---  ------             --------------    -----  \n",
      " 0   id                 1138812 non-null  object \n",
      " 1   name               1138811 non-null  object \n",
      " 2   latitude           1138812 non-null  float64\n",
      " 3   longitude          1138812 non-null  float64\n",
      " 4   address            742191 non-null   object \n",
      " 5   city               839623 non-null   object \n",
      " 6   state              718226 non-null   object \n",
      " 7   zip                543386 non-null   object \n",
      " 8   country            1138801 non-null  object \n",
      " 9   url                267724 non-null   object \n",
      " 10  phone              342855 non-null   object \n",
      " 11  categories         1040505 non-null  object \n",
      " 12  point_of_interest  1138812 non-null  object \n",
      "dtypes: float64(2), object(11)\n",
      "memory usage: 112.9+ MB\n"
     ]
    }
   ],
   "source": [
    "training_set_.info()"
   ]
  },
  {
   "cell_type": "code",
   "execution_count": 5,
   "id": "548ee80c",
   "metadata": {
    "execution": {
     "iopub.execute_input": "2022-05-17T11:30:17.730240Z",
     "iopub.status.busy": "2022-05-17T11:30:17.729965Z",
     "iopub.status.idle": "2022-05-17T11:30:18.278821Z",
     "shell.execute_reply": "2022-05-17T11:30:18.278081Z"
    },
    "papermill": {
     "duration": 0.582084,
     "end_time": "2022-05-17T11:30:18.281092",
     "exception": false,
     "start_time": "2022-05-17T11:30:17.699008",
     "status": "completed"
    },
    "tags": []
   },
   "outputs": [
    {
     "data": {
      "text/plain": [
       "id                        0\n",
       "name                      1\n",
       "latitude                  0\n",
       "longitude                 0\n",
       "address              396621\n",
       "city                 299189\n",
       "state                420586\n",
       "zip                  595426\n",
       "country                  11\n",
       "url                  871088\n",
       "phone                795957\n",
       "categories            98307\n",
       "point_of_interest         0\n",
       "dtype: int64"
      ]
     },
     "execution_count": 5,
     "metadata": {},
     "output_type": "execute_result"
    }
   ],
   "source": [
    "missing = training_set_.isna().sum()\n",
    "missing"
   ]
  },
  {
   "cell_type": "code",
   "execution_count": 6,
   "id": "f7e47712",
   "metadata": {
    "_kg_hide-output": true,
    "execution": {
     "iopub.execute_input": "2022-05-17T11:30:18.343237Z",
     "iopub.status.busy": "2022-05-17T11:30:18.342963Z",
     "iopub.status.idle": "2022-05-17T11:30:25.319281Z",
     "shell.execute_reply": "2022-05-17T11:30:25.318193Z"
    },
    "papermill": {
     "duration": 7.009907,
     "end_time": "2022-05-17T11:30:25.321348",
     "exception": false,
     "start_time": "2022-05-17T11:30:18.311441",
     "status": "completed"
    },
    "tags": []
   },
   "outputs": [
    {
     "name": "stderr",
     "output_type": "stream",
     "text": [
      "/opt/conda/lib/python3.7/site-packages/ipykernel_launcher.py:4: FutureWarning: The default value of regex will change from True to False in a future version.\n",
      "  after removing the cwd from sys.path.\n",
      "/opt/conda/lib/python3.7/site-packages/ipykernel_launcher.py:9: FutureWarning: The default value of regex will change from True to False in a future version.\n",
      "  if __name__ == '__main__':\n",
      "/opt/conda/lib/python3.7/site-packages/ipykernel_launcher.py:17: FutureWarning: The default value of regex will change from True to False in a future version.\n",
      "/opt/conda/lib/python3.7/site-packages/ipykernel_launcher.py:22: FutureWarning: The default value of regex will change from True to False in a future version.\n"
     ]
    }
   ],
   "source": [
    "# normalizing name to avoid mismatch due to accents or punctuations\n",
    "training_set_['name'] = training_set_['name'].astype(str)\n",
    "training_set_['name'] = training_set_['name'].apply(unidecode)\n",
    "training_set_['name'] = training_set_['name'].str.replace('[^\\w\\s]','')\n",
    "training_set_['name'] = training_set_['name'].str.lower()\n",
    "\n",
    "test_set_['name'] = test_set_['name'].astype(str)\n",
    "test_set_['name'] = test_set_['name'].apply(unidecode)\n",
    "test_set_['name'] = test_set_['name'].str.replace('[^\\w\\s]','')\n",
    "test_set_['name'] = test_set_['name'].str.lower()\n",
    "\n",
    "\n",
    "\n",
    "# normalizing categories to avoid mismatch due to accents or punctuations\n",
    "training_set_['categories'] = training_set_['categories'].astype(str)\n",
    "training_set_['categories'] = training_set_['categories'].apply(unidecode)\n",
    "training_set_['categories'] = training_set_['categories'].str.replace('[^\\w\\s]','')\n",
    "training_set_['categories'] = training_set_['categories'].str.lower()\n",
    "\n",
    "test_set_['categories'] = test_set_['categories'].astype(str)\n",
    "test_set_['categories'] = test_set_['categories'].apply(unidecode)\n",
    "test_set_['categories'] = test_set_['categories'].str.replace('[^\\w\\s]','')\n",
    "test_set_['categories'] = test_set_['categories'].str.lower()"
   ]
  },
  {
   "cell_type": "markdown",
   "id": "e228a042",
   "metadata": {
    "papermill": {
     "duration": 0.030766,
     "end_time": "2022-05-17T11:30:25.383391",
     "exception": false,
     "start_time": "2022-05-17T11:30:25.352625",
     "status": "completed"
    },
    "tags": []
   },
   "source": [
    "# Data Exploration"
   ]
  },
  {
   "cell_type": "code",
   "execution_count": 7,
   "id": "2b9e1b58",
   "metadata": {
    "execution": {
     "iopub.execute_input": "2022-05-17T11:30:25.445516Z",
     "iopub.status.busy": "2022-05-17T11:30:25.445253Z",
     "iopub.status.idle": "2022-05-17T11:30:33.202523Z",
     "shell.execute_reply": "2022-05-17T11:30:33.201521Z"
    },
    "papermill": {
     "duration": 7.791461,
     "end_time": "2022-05-17T11:30:33.205189",
     "exception": false,
     "start_time": "2022-05-17T11:30:25.413728",
     "status": "completed"
    },
    "tags": []
   },
   "outputs": [
    {
     "data": {
      "image/png": "[encoded data removed]",
      "text/plain": [
       "<PIL.Image.Image image mode=RGB size=400x200 at 0x7F7D9C9B3F90>"
      ]
     },
     "execution_count": 7,
     "metadata": {},
     "output_type": "execute_result"
    }
   ],
   "source": [
    "# Import the wordcloud library\n",
    "from wordcloud import WordCloud # Join the different processed titles together.\n",
    "\n",
    "long_string = ','.join(list(training_set_['categories'].values))# Create a WordCloud object\n",
    "wordcloud = WordCloud(background_color=\"white\", max_words=5000, contour_width=3, contour_color= 'steelblue')# Generate a word cloud\n",
    "wordcloud.generate(long_string)# Visualize the word cloud\n",
    "wordcloud.to_image()"
   ]
  },
  {
   "cell_type": "markdown",
   "id": "4b4be37b",
   "metadata": {
    "papermill": {
     "duration": 0.032118,
     "end_time": "2022-05-17T11:30:33.269820",
     "exception": false,
     "start_time": "2022-05-17T11:30:33.237702",
     "status": "completed"
    },
    "tags": []
   },
   "source": [
    "# Feature Engineer"
   ]
  },
  {
   "cell_type": "code",
   "execution_count": 8,
   "id": "e9778019",
   "metadata": {
    "execution": {
     "iopub.execute_input": "2022-05-17T11:30:33.336609Z",
     "iopub.status.busy": "2022-05-17T11:30:33.336338Z",
     "iopub.status.idle": "2022-05-17T11:30:33.435167Z",
     "shell.execute_reply": "2022-05-17T11:30:33.434500Z"
    },
    "papermill": {
     "duration": 0.134331,
     "end_time": "2022-05-17T11:30:33.436950",
     "exception": false,
     "start_time": "2022-05-17T11:30:33.302619",
     "status": "completed"
    },
    "tags": []
   },
   "outputs": [
    {
     "data": {
      "text/html": [
       "<div>\n",
       "<style scoped>\n",
       "    .dataframe tbody tr th:only-of-type {\n",
       "        vertical-align: middle;\n",
       "    }\n",
       "\n",
       "    .dataframe tbody tr th {\n",
       "        vertical-align: top;\n",
       "    }\n",
       "\n",
       "    .dataframe thead th {\n",
       "        text-align: right;\n",
       "    }\n",
       "</style>\n",
       "<table border=\"1\" class=\"dataframe\">\n",
       "  <thead>\n",
       "    <tr style=\"text-align: right;\">\n",
       "      <th></th>\n",
       "      <th>id</th>\n",
       "      <th>name</th>\n",
       "      <th>latitude</th>\n",
       "      <th>longitude</th>\n",
       "      <th>address</th>\n",
       "      <th>city</th>\n",
       "      <th>state</th>\n",
       "      <th>zip</th>\n",
       "      <th>country</th>\n",
       "      <th>url</th>\n",
       "      <th>phone</th>\n",
       "      <th>categories</th>\n",
       "      <th>point_of_interest</th>\n",
       "    </tr>\n",
       "  </thead>\n",
       "  <tbody>\n",
       "    <tr>\n",
       "      <th>1</th>\n",
       "      <td>E_000002eae2a589</td>\n",
       "      <td>carioca manero</td>\n",
       "      <td>-22.907225</td>\n",
       "      <td>-43.178244</td>\n",
       "      <td>NaN</td>\n",
       "      <td>NaN</td>\n",
       "      <td>NaN</td>\n",
       "      <td>NaN</td>\n",
       "      <td>BR</td>\n",
       "      <td>NaN</td>\n",
       "      <td>NaN</td>\n",
       "      <td>brazilian restaurants</td>\n",
       "      <td>P_d82910d8382a83</td>\n",
       "    </tr>\n",
       "    <tr>\n",
       "      <th>1032766</th>\n",
       "      <td>E_e80db432029aea</td>\n",
       "      <td>carioca manero</td>\n",
       "      <td>-22.907025</td>\n",
       "      <td>-43.178067</td>\n",
       "      <td>Shopping Avenida Central</td>\n",
       "      <td>Rio de Janeiro</td>\n",
       "      <td>RJ</td>\n",
       "      <td>20040-901</td>\n",
       "      <td>BR</td>\n",
       "      <td>NaN</td>\n",
       "      <td>NaN</td>\n",
       "      <td>bars snack places</td>\n",
       "      <td>P_d82910d8382a83</td>\n",
       "    </tr>\n",
       "  </tbody>\n",
       "</table>\n",
       "</div>"
      ],
      "text/plain": [
       "                       id            name   latitude  longitude  \\\n",
       "1        E_000002eae2a589  carioca manero -22.907225 -43.178244   \n",
       "1032766  E_e80db432029aea  carioca manero -22.907025 -43.178067   \n",
       "\n",
       "                          address            city state        zip country  \\\n",
       "1                             NaN             NaN   NaN        NaN      BR   \n",
       "1032766  Shopping Avenida Central  Rio de Janeiro    RJ  20040-901      BR   \n",
       "\n",
       "         url phone             categories point_of_interest  \n",
       "1        NaN   NaN  brazilian restaurants  P_d82910d8382a83  \n",
       "1032766  NaN   NaN      bars snack places  P_d82910d8382a83  "
      ]
     },
     "execution_count": 8,
     "metadata": {},
     "output_type": "execute_result"
    }
   ],
   "source": [
    "training_set_[training_set_['name'] == 'carioca manero']"
   ]
  },
  {
   "cell_type": "markdown",
   "id": "9496d14e",
   "metadata": {
    "papermill": {
     "duration": 0.032538,
     "end_time": "2022-05-17T11:30:33.502439",
     "exception": false,
     "start_time": "2022-05-17T11:30:33.469901",
     "status": "completed"
    },
    "tags": []
   },
   "source": [
    "## As we can see above, we have some duplicated entries that have different categories. As humans, we can see both of them are food places. So I need a way to reduce the number of categories to help the filter step. \n",
    "## So, considering the number of categories available, it was unviable to classify all of them by myself. After some research, I found the LDA method that allows to cluster of words into categories. (check: https://towardsdatascience.com/topic-modelling-in-python-with-nltk-and-gensim-4ef03213cd21).\n",
    "\n"
   ]
  },
  {
   "cell_type": "code",
   "execution_count": 9,
   "id": "cacf6a32",
   "metadata": {
    "execution": {
     "iopub.execute_input": "2022-05-17T11:30:33.569819Z",
     "iopub.status.busy": "2022-05-17T11:30:33.569402Z",
     "iopub.status.idle": "2022-05-17T11:30:36.263000Z",
     "shell.execute_reply": "2022-05-17T11:30:36.262215Z"
    },
    "papermill": {
     "duration": 2.73002,
     "end_time": "2022-05-17T11:30:36.265234",
     "exception": false,
     "start_time": "2022-05-17T11:30:33.535214",
     "status": "completed"
    },
    "tags": []
   },
   "outputs": [],
   "source": [
    "import re\n",
    "import unidecode\n",
    "\n",
    "def tokenization(text):\n",
    "    tokens = re.split(' ',text)\n",
    "    return tokens\n",
    "\n",
    "training_set_['category_tokenied']= training_set_['categories'].apply(lambda x: tokenization(x))\n",
    "test_set_['category_tokenied']= test_set_['categories'].apply(lambda x: tokenization(x))\n",
    "\n",
    "data = training_set_.category_tokenied.values.tolist()"
   ]
  },
  {
   "cell_type": "code",
   "execution_count": 10,
   "id": "f89d7df5",
   "metadata": {
    "execution": {
     "iopub.execute_input": "2022-05-17T11:30:36.333127Z",
     "iopub.status.busy": "2022-05-17T11:30:36.332629Z",
     "iopub.status.idle": "2022-05-17T11:30:49.211690Z",
     "shell.execute_reply": "2022-05-17T11:30:49.210786Z"
    },
    "papermill": {
     "duration": 12.915561,
     "end_time": "2022-05-17T11:30:49.213653",
     "exception": false,
     "start_time": "2022-05-17T11:30:36.298092",
     "status": "completed"
    },
    "tags": []
   },
   "outputs": [
    {
     "data": {
      "text/plain": [
       "<gensim.corpora.dictionary.Dictionary at 0x7f7d9c99cfd0>"
      ]
     },
     "execution_count": 10,
     "metadata": {},
     "output_type": "execute_result"
    }
   ],
   "source": [
    "import gensim.corpora as corpora # Create Dictionary\n",
    "\n",
    "id2word = corpora.Dictionary(data) # Create Corpus\n",
    "\n",
    "texts = data # Term Document Frequency\n",
    "\n",
    "corpus = [id2word.doc2bow(text) for text in texts]# View\n",
    "\n",
    "id2word"
   ]
  },
  {
   "cell_type": "code",
   "execution_count": 11,
   "id": "692ef23e",
   "metadata": {
    "execution": {
     "iopub.execute_input": "2022-05-17T11:30:49.286205Z",
     "iopub.status.busy": "2022-05-17T11:30:49.285652Z",
     "iopub.status.idle": "2022-05-17T11:30:50.897721Z",
     "shell.execute_reply": "2022-05-17T11:30:50.896984Z"
    },
    "papermill": {
     "duration": 1.650847,
     "end_time": "2022-05-17T11:30:50.899981",
     "exception": false,
     "start_time": "2022-05-17T11:30:49.249134",
     "status": "completed"
    },
    "tags": []
   },
   "outputs": [],
   "source": [
    "import pickle\n",
    "pickle.dump(corpus, open('corpus.pkl', 'wb'))\n",
    "id2word.save('dictionary.gensim')"
   ]
  },
  {
   "cell_type": "code",
   "execution_count": 12,
   "id": "77be1b20",
   "metadata": {
    "execution": {
     "iopub.execute_input": "2022-05-17T11:30:50.973220Z",
     "iopub.status.busy": "2022-05-17T11:30:50.972665Z",
     "iopub.status.idle": "2022-05-17T11:32:19.199834Z",
     "shell.execute_reply": "2022-05-17T11:32:19.198483Z"
    },
    "papermill": {
     "duration": 88.265923,
     "end_time": "2022-05-17T11:32:19.201994",
     "exception": false,
     "start_time": "2022-05-17T11:30:50.936071",
     "status": "completed"
    },
    "tags": []
   },
   "outputs": [
    {
     "name": "stdout",
     "output_type": "stream",
     "text": [
      "[(0,\n",
      "  '0.101*\"buildings\" + 0.089*\"college\" + 0.051*\"\" + 0.048*\"stations\" + '\n",
      "  '0.043*\"bars\" + 0.040*\"condos\" + 0.040*\"residential\" + 0.040*\"apartments\" + '\n",
      "  '0.035*\"banks\" + 0.035*\"classrooms\"'),\n",
      " (1,\n",
      "  '0.244*\"nan\" + 0.068*\"centers\" + 0.034*\"gyms\" + 0.029*\"universities\" + '\n",
      "  '0.027*\"bus\" + 0.025*\"pharmacies\" + 0.020*\"rooms\" + 0.020*\"beaches\" + '\n",
      "  '0.017*\"stops\" + 0.015*\"general\"'),\n",
      " (2,\n",
      "  '0.218*\"stores\" + 0.053*\"shops\" + 0.048*\"cafes\" + 0.036*\"schools\" + '\n",
      "  '0.031*\"convenience\" + 0.025*\"\" + 0.024*\"parks\" + 0.023*\"clothing\" + '\n",
      "  '0.020*\"grocery\" + 0.019*\"supermarkets\"'),\n",
      " (3,\n",
      "  '0.167*\"restaurants\" + 0.088*\"shops\" + 0.058*\"offices\" + 0.042*\"food\" + '\n",
      "  '0.036*\"\" + 0.029*\"coffee\" + 0.026*\"services\" + 0.022*\"fast\" + '\n",
      "  '0.021*\"salons\" + 0.021*\"joints\"')]\n",
      "0.4332416112870156\n"
     ]
    }
   ],
   "source": [
    "import gensim\n",
    "from gensim.utils import simple_preprocess\n",
    "from pprint import pprint# number of topics\n",
    "\n",
    "num_topics = 4 # from 3, 4, 5, 10 ,15 - 4 clusters was the one that was the best coherence\n",
    "\n",
    "lda_model = gensim.models.LdaMulticore(corpus=corpus,\n",
    "                                       id2word=id2word,\n",
    "                                       num_topics=num_topics)# Print the Keyword in the 10 topics\n",
    "pprint(lda_model.print_topics())\n",
    "doc_lda = lda_model[corpus]\n",
    "\n",
    "from gensim.models.coherencemodel import CoherenceModel\n",
    "coherence_model_lda = CoherenceModel(model=lda_model, texts=training_set_['category_tokenied'].tolist(), dictionary=lda_model.id2word, coherence='c_v')\n",
    "with np.errstate(invalid='ignore'):\n",
    "    lda_score = coherence_model_lda.get_coherence()\n",
    "\n",
    "print(lda_score)"
   ]
  },
  {
   "cell_type": "code",
   "execution_count": 13,
   "id": "b23516bc",
   "metadata": {
    "execution": {
     "iopub.execute_input": "2022-05-17T11:32:19.273073Z",
     "iopub.status.busy": "2022-05-17T11:32:19.272361Z",
     "iopub.status.idle": "2022-05-17T11:32:19.277247Z",
     "shell.execute_reply": "2022-05-17T11:32:19.276369Z"
    },
    "papermill": {
     "duration": 0.043339,
     "end_time": "2022-05-17T11:32:19.279985",
     "exception": false,
     "start_time": "2022-05-17T11:32:19.236646",
     "status": "completed"
    },
    "tags": []
   },
   "outputs": [
    {
     "name": "stdout",
     "output_type": "stream",
     "text": [
      "0.4332416112870156\n"
     ]
    }
   ],
   "source": [
    "print(lda_score)"
   ]
  },
  {
   "cell_type": "code",
   "execution_count": 14,
   "id": "5af32d3e",
   "metadata": {
    "execution": {
     "iopub.execute_input": "2022-05-17T11:32:19.351226Z",
     "iopub.status.busy": "2022-05-17T11:32:19.350811Z",
     "iopub.status.idle": "2022-05-17T11:33:21.251762Z",
     "shell.execute_reply": "2022-05-17T11:33:21.251082Z"
    },
    "papermill": {
     "duration": 61.938596,
     "end_time": "2022-05-17T11:33:21.253670",
     "exception": false,
     "start_time": "2022-05-17T11:32:19.315074",
     "status": "completed"
    },
    "tags": []
   },
   "outputs": [
    {
     "name": "stderr",
     "output_type": "stream",
     "text": [
      "/opt/conda/lib/python3.7/site-packages/past/types/oldstr.py:36: DeprecationWarning: invalid escape sequence \\d\n",
      "  \"\"\"\n",
      "/opt/conda/lib/python3.7/site-packages/pyLDAvis/_prepare.py:248: FutureWarning: In a future version of pandas all arguments of DataFrame.drop except for the argument 'labels' will be keyword-only\n",
      "  by='saliency', ascending=False).head(R).drop('saliency', 1)\n"
     ]
    },
    {
     "data": {
      "text/html": [
       "\n",
       "<link rel=\"stylesheet\" type=\"text/css\" href=\"https://cdn.jsdelivr.net/gh/bmabey/pyLDAvis@3.2.2/pyLDAvis/js/ldavis.v1.0.0.css\">\n",
       "\n",
       "\n",
       "<div id=\"ldavis_el19140175418299728341249829\"></div>\n",
       "<script type=\"text/javascript\">\n",
       "\n",
       "var ldavis_el19140175418299728341249829_data = {\"mdsDat\": {\"x\": [-0.21774146002932618, 0.0906168149747931, -0.2310593342783175, 0.3581839793328504], \"y\": [0.036302186132456546, -0.3838663444177677, 0.13882665255696597, 0.20873750572834515], \"topics\": [1, 2, 3, 4], \"cluster\": [1, 1, 1, 1], \"Freq\": [32.1030219226109, 27.05565814393275, 23.712212197333198, 17.129107736123153]}, \"tinfo\": {\"Term\": [\"stores\", \"nan\", \"restaurants\", \"buildings\", \"college\", \"shops\", \"offices\", \"centers\", \"stations\", \"bars\", \"food\", \"cafes\", \"apartments\", \"condos\", \"residential\", \"banks\", \"classrooms\", \"schools\", \"convenience\", \"hotels\", \"coffee\", \"gyms\", \"services\", \"universities\", \"bus\", \"parks\", \"fast\", \"salons\", \"clothing\", \"pharmacies\", \"restaurants\", \"food\", \"coffee\", \"fast\", \"salons\", \"joints\", \"barbershops\", \"offices\", \"automotive\", \"other\", \"hospitals\", \"asian\", \"doctors\", \"american\", \"auto\", \"chinese\", \"japanese\", \"italian\", \"burger\", \"cosmetics\", \"sandwich\", \"outdoors\", \"great\", \"dessert\", \"thai\", \"indonesian\", \"financial\", \"legal\", \"bbq\", \"trucks\", \"services\", \"business\", \"markets\", \"shops\", \"seafood\", \"places\", \"\", \"buildings\", \"college\", \"apartments\", \"residential\", \"condos\", \"bars\", \"classrooms\", \"banks\", \"shopping\", \"gas\", \"malls\", \"housing\", \"developments\", \"academic\", \"stations\", \"pizza\", \"houses\", \"government\", \"auditoriums\", \"metro\", \"coworking\", \"entertainment\", \"train\", \"gardens\", \"libraries\", \"hotels\", \"cafeterias\", \"nightclubs\", \"sports\", \"residence\", \"noodle\", \"music\", \"halls\", \"\", \"places\", \"spaces\", \"general\", \"stores\", \"convenience\", \"parks\", \"clothing\", \"grocery\", \"supermarkets\", \"electronics\", \"bakeries\", \"department\", \"mobile\", \"phone\", \"shoe\", \"miscellaneous\", \"theaters\", \"furniture\", \"dentists\", \"high\", \"parking\", \"womens\", \"hardware\", \"plazas\", \"movie\", \"video\", \"bookstores\", \"goods\", \"spots\", \"sporting\", \"lakes\", \"jewelry\", \"pubs\", \"schools\", \"event\", \"breakfast\", \"labs\", \"medical\", \"cafes\", \"shops\", \"home\", \"\", \"spaces\", \"nan\", \"gyms\", \"bus\", \"centers\", \"universities\", \"pharmacies\", \"rooms\", \"beaches\", \"stops\", \"churches\", \"fitness\", \"colleges\", \"ice\", \"cream\", \"studios\", \"resorts\", \"pools\", \"art\", \"factories\", \"travel\", \"sites\", \"historic\", \"spas\", \"student\", \"fields\", \"soccer\", \"airports\", \"washes\", \"galleries\", \"agencies\", \"museums\", \"arcades\", \"stadiums\", \"general\", \"or\", \"\"], \"Freq\": [134013.0, 108560.0, 138918.0, 70838.0, 62798.0, 105653.0, 48047.0, 30166.0, 33762.0, 30400.0, 34810.0, 33903.0, 28305.0, 28305.0, 28305.0, 24869.0, 24469.0, 21930.0, 19344.0, 21130.0, 23946.0, 15153.0, 21775.0, 12999.0, 12124.0, 14735.0, 18182.0, 17878.0, 14073.0, 11338.0, 138917.35713959878, 34809.71751966971, 23945.959866422854, 18182.095293196136, 17877.21677858128, 17381.999821014626, 14135.772706799537, 48044.83033249514, 11978.587897616608, 11187.99847642488, 11590.349344947894, 10189.757516964555, 10048.484491746092, 9265.111966314784, 8894.406261652797, 7931.606829661492, 7729.948405388905, 6902.358222094316, 6531.511968892127, 6244.572805934802, 5980.999643658216, 5829.7135055894605, 5646.092661650291, 5392.0201147845855, 5061.06208084957, 5016.705815724267, 4997.571413219384, 4997.571413219384, 4851.057325171681, 4673.117049441609, 21758.575757367053, 7262.636156886853, 6279.178419019693, 73217.78206092516, 5529.793791956533, 16103.624655127687, 30076.92169643135, 70838.06756502745, 62797.70124353605, 28304.655426312253, 28304.655426312253, 28304.655426312253, 30399.46233662055, 24468.352631771744, 24869.12256651464, 14061.743498872582, 13880.403610927795, 13660.410758538765, 8009.093963389467, 8009.093963389467, 7876.426288257495, 33758.80964331066, 11293.427137911327, 7998.1408503950315, 6143.155218753973, 6012.644528770455, 5241.327319517016, 5215.429100383255, 6180.546451594389, 5003.705890842654, 5126.192347392388, 5032.828789684851, 21126.799143706154, 4403.500886769259, 4098.995576227554, 4070.3752758665505, 3881.300737597259, 5717.12054837965, 4148.180203898149, 7428.054780174739, 35745.47673144937, 11350.92230999946, 5978.2845930197345, 5568.007170340936, 134012.68018207035, 19343.412417567724, 14735.085685826074, 14073.000780944027, 12434.388303655427, 11588.110138900827, 10180.7418079419, 10861.132245800098, 9633.57407899359, 8270.201315085718, 8270.201315085718, 7831.171933450861, 9475.373115881695, 7120.794972373619, 6924.305299370484, 6511.483297052557, 6247.644106261344, 5771.212728420582, 5130.886148484742, 4965.505442867663, 4966.864764623318, 4667.378364508658, 4589.887274027126, 4608.20370451946, 4504.733795784131, 7130.302768467917, 4349.229967927918, 3793.02360963473, 3653.638928875949, 4353.571481020503, 21923.946544288538, 6419.49621583161, 5648.663276283258, 5835.159353391656, 10966.04435476943, 29693.256146126994, 32429.583458436395, 7204.84579404478, 15641.542229165821, 5344.606515236137, 108559.98778510076, 15152.969388508069, 12124.02351266399, 30164.234482138116, 12998.586477505225, 11337.857517933524, 9106.295783012245, 8851.010451021135, 7652.740411741811, 6607.392399212181, 5923.345674854344, 5834.223643588433, 6149.883367845783, 6149.829091839312, 5737.515815357113, 5669.395698350672, 5336.954744398091, 4788.392533169149, 4727.729773723494, 4635.897256699338, 4504.9263528413585, 4347.382579128469, 5025.175133122394, 4239.007895429948, 5396.65545127104, 3981.72305193329, 3575.18416249063, 3224.5313296035592, 2999.6345535863684, 2617.87659714377, 4047.2673373960115, 3161.148555024477, 4572.299864018334, 6733.042182832749, 6230.73514441583, 5546.377679562934], \"Total\": [134013.0, 108560.0, 138918.0, 70838.0, 62798.0, 105653.0, 48047.0, 30166.0, 33762.0, 30400.0, 34810.0, 33903.0, 28305.0, 28305.0, 28305.0, 24869.0, 24469.0, 21930.0, 19344.0, 21130.0, 23946.0, 15153.0, 21775.0, 12999.0, 12124.0, 14735.0, 18182.0, 17878.0, 14073.0, 11338.0, 138918.46647093375, 34810.504085459695, 23946.74600601178, 18182.876238880777, 17878.000896771373, 17382.78484958564, 14136.554077826144, 48047.70869384088, 11979.373988481131, 11188.788405536427, 11591.172274353372, 10190.53972035239, 10049.275172070815, 9265.898198874609, 8895.205083668525, 7932.392152325582, 7730.739080728276, 6903.149238082983, 6532.29381982284, 6245.360809192157, 5981.7869969256, 5830.500473063446, 5646.878578008224, 5392.849469268214, 5061.844400970805, 5017.487550048649, 4998.35428603477, 4998.354306627016, 4851.840088998226, 4673.900251220456, 21775.994299481743, 7264.418711222633, 6296.619670350072, 105653.97825467547, 5734.099115152359, 27455.09361323452, 87010.31833660947, 70838.86559262133, 62798.55082999444, 28305.431891594966, 28305.431900190168, 28305.431900364427, 30400.3319907599, 24469.126252704144, 24869.917000952242, 14062.52333467303, 13881.19323712102, 13661.189043418059, 8009.867521415296, 8009.867540204528, 7877.203781024666, 33762.19046840153, 11294.561115540313, 7999.010805828779, 6143.928842559625, 6013.421809016942, 5242.098926497904, 5216.217584307088, 6181.493534944078, 5004.479279583971, 5126.988388412875, 5033.614499480759, 21130.26207592291, 4404.284043170821, 4099.772346041372, 4071.174913821906, 3882.0735764083647, 5718.302265247213, 4149.0200954732245, 9195.97646923044, 87010.31833660947, 27455.09361323452, 11326.185154383911, 12301.553341042276, 134013.48089747454, 19344.177037540627, 14735.866182237205, 14073.761420762941, 12435.153559605038, 11588.878692305952, 10181.501395337018, 10861.989201655013, 9634.33628992296, 8270.96152159188, 8270.961527607418, 7831.9315385256805, 9476.342984565363, 7121.584242042823, 6925.073945990229, 6512.261641540602, 6248.4168313444015, 5771.975144025475, 5131.645758933339, 4966.26965231518, 4967.636517437143, 4668.137957625442, 4590.6468538889785, 4608.967907828629, 4505.493775107696, 7131.548950188726, 4349.990641944084, 3793.786638229869, 3654.3984847734064, 4354.557336330279, 21930.87623145047, 6421.788779478033, 5650.353494675594, 5847.509825076244, 11142.235336757236, 33903.303699151584, 105653.97825467547, 9470.070450317744, 87010.31833660947, 11326.185154383911, 108560.72980950378, 15153.720041613366, 12124.76579170631, 30166.215432877463, 12999.443409780202, 11338.630805376384, 9107.039973658211, 8851.755346774054, 7653.479272845568, 6608.132933895097, 5924.084834687245, 5834.9698724284, 6150.690042710425, 6150.637327942321, 5738.276502766401, 5670.164071173908, 5337.697290437805, 4789.135497626354, 4728.472993853336, 4636.645563530753, 4505.66956029926, 4348.125720149475, 5026.040616411468, 4239.750720952905, 5397.642409428499, 3982.465369552799, 3575.925869206566, 3225.2757403832866, 3000.3760871030545, 2618.623942621377, 4051.8705065866666, 3162.068804972111, 4595.322948188219, 12301.553341042276, 13162.628332998185, 87010.31833660947], \"Category\": [\"Default\", \"Default\", \"Default\", \"Default\", \"Default\", \"Default\", \"Default\", \"Default\", \"Default\", \"Default\", \"Default\", \"Default\", \"Default\", \"Default\", \"Default\", \"Default\", \"Default\", \"Default\", \"Default\", \"Default\", \"Default\", \"Default\", \"Default\", \"Default\", \"Default\", \"Default\", \"Default\", \"Default\", \"Default\", \"Default\", \"Topic1\", \"Topic1\", \"Topic1\", \"Topic1\", \"Topic1\", \"Topic1\", \"Topic1\", \"Topic1\", \"Topic1\", \"Topic1\", \"Topic1\", \"Topic1\", \"Topic1\", \"Topic1\", \"Topic1\", \"Topic1\", \"Topic1\", \"Topic1\", \"Topic1\", \"Topic1\", \"Topic1\", \"Topic1\", \"Topic1\", \"Topic1\", \"Topic1\", \"Topic1\", \"Topic1\", \"Topic1\", \"Topic1\", \"Topic1\", \"Topic1\", \"Topic1\", \"Topic1\", \"Topic1\", \"Topic1\", \"Topic1\", \"Topic1\", \"Topic2\", \"Topic2\", \"Topic2\", \"Topic2\", \"Topic2\", \"Topic2\", \"Topic2\", \"Topic2\", \"Topic2\", \"Topic2\", \"Topic2\", \"Topic2\", \"Topic2\", \"Topic2\", \"Topic2\", \"Topic2\", \"Topic2\", \"Topic2\", \"Topic2\", \"Topic2\", \"Topic2\", \"Topic2\", \"Topic2\", \"Topic2\", \"Topic2\", \"Topic2\", \"Topic2\", \"Topic2\", \"Topic2\", \"Topic2\", \"Topic2\", \"Topic2\", \"Topic2\", \"Topic2\", \"Topic2\", \"Topic2\", \"Topic2\", \"Topic3\", \"Topic3\", \"Topic3\", \"Topic3\", \"Topic3\", \"Topic3\", \"Topic3\", \"Topic3\", \"Topic3\", \"Topic3\", \"Topic3\", \"Topic3\", \"Topic3\", \"Topic3\", \"Topic3\", \"Topic3\", \"Topic3\", \"Topic3\", \"Topic3\", \"Topic3\", \"Topic3\", \"Topic3\", \"Topic3\", \"Topic3\", \"Topic3\", \"Topic3\", \"Topic3\", \"Topic3\", \"Topic3\", \"Topic3\", \"Topic3\", \"Topic3\", \"Topic3\", \"Topic3\", \"Topic3\", \"Topic3\", \"Topic3\", \"Topic3\", \"Topic3\", \"Topic3\", \"Topic4\", \"Topic4\", \"Topic4\", \"Topic4\", \"Topic4\", \"Topic4\", \"Topic4\", \"Topic4\", \"Topic4\", \"Topic4\", \"Topic4\", \"Topic4\", \"Topic4\", \"Topic4\", \"Topic4\", \"Topic4\", \"Topic4\", \"Topic4\", \"Topic4\", \"Topic4\", \"Topic4\", \"Topic4\", \"Topic4\", \"Topic4\", \"Topic4\", \"Topic4\", \"Topic4\", \"Topic4\", \"Topic4\", \"Topic4\", \"Topic4\", \"Topic4\", \"Topic4\", \"Topic4\", \"Topic4\", \"Topic4\"], \"logprob\": [30.0, 29.0, 28.0, 27.0, 26.0, 25.0, 24.0, 23.0, 22.0, 21.0, 20.0, 19.0, 18.0, 17.0, 16.0, 15.0, 14.0, 13.0, 12.0, 11.0, 10.0, 9.0, 8.0, 7.0, 6.0, 5.0, 4.0, 3.0, 2.0, 1.0, -1.7921, -3.1761, -3.5502, -3.8255, -3.8424, -3.8705, -4.0773, -2.8538, -4.2428, -4.3111, -4.2758, -4.4046, -4.4185, -4.4997, -4.5405, -4.6551, -4.6809, -4.7941, -4.8493, -4.8942, -4.9374, -4.963, -4.995, -5.041, -5.1044, -5.1132, -5.117, -5.117, -5.1468, -5.1841, -3.646, -4.7432, -4.8887, -2.4325, -5.0158, -3.9469, -3.3222, -2.2945, -2.415, -3.2119, -3.2119, -3.2119, -3.1405, -3.3575, -3.3413, -3.9114, -3.9244, -3.9404, -4.4743, -4.4743, -4.491, -3.0357, -4.1307, -4.4757, -4.7396, -4.761, -4.8983, -4.9033, -4.7335, -4.9447, -4.9205, -4.9389, -3.5044, -5.0725, -5.1442, -5.1512, -5.1987, -4.8114, -5.1322, -4.5496, -2.9785, -4.1256, -4.7668, -4.8379, -1.5251, -3.4606, -3.7328, -3.7787, -3.9025, -3.973, -4.1025, -4.0378, -4.1577, -4.3103, -4.3103, -4.3649, -4.1743, -4.46, -4.488, -4.5494, -4.5908, -4.6701, -4.7877, -4.8205, -4.8202, -4.8824, -4.8991, -4.8952, -4.9179, -4.4586, -4.953, -5.0898, -5.1273, -4.952, -3.3354, -4.5637, -4.6916, -4.6591, -4.0282, -3.0321, -2.9439, -4.4482, -3.6731, -4.7469, -1.4105, -3.3796, -3.6026, -2.6911, -3.5329, -3.6696, -3.8888, -3.9173, -4.0627, -4.2096, -4.3189, -4.334, -4.2814, -4.2814, -4.3508, -4.3627, -4.4231, -4.5316, -4.5443, -4.564, -4.5926, -4.6282, -4.4833, -4.6535, -4.412, -4.7161, -4.8238, -4.927, -4.9993, -5.1354, -4.6997, -4.9469, -4.5778, -4.1908, -4.2683, -4.3846], \"loglift\": [30.0, 29.0, 28.0, 27.0, 26.0, 25.0, 24.0, 23.0, 22.0, 21.0, 20.0, 19.0, 18.0, 17.0, 16.0, 15.0, 14.0, 13.0, 12.0, 11.0, 10.0, 9.0, 8.0, 7.0, 6.0, 5.0, 4.0, 3.0, 2.0, 1.0, 1.1362, 1.1362, 1.1362, 1.1362, 1.1362, 1.1362, 1.1362, 1.1362, 1.1362, 1.1361, 1.1361, 1.1361, 1.1361, 1.1361, 1.1361, 1.1361, 1.1361, 1.1361, 1.1361, 1.1361, 1.1361, 1.1361, 1.1361, 1.1361, 1.1361, 1.1361, 1.1361, 1.1361, 1.1361, 1.1361, 1.1354, 1.136, 1.1334, 0.7695, 1.0999, 0.6027, 0.074, 1.3073, 1.3073, 1.3072, 1.3072, 1.3072, 1.3072, 1.3072, 1.3072, 1.3072, 1.3072, 1.3072, 1.3072, 1.3072, 1.3072, 1.3072, 1.3072, 1.3072, 1.3071, 1.3071, 1.3071, 1.3071, 1.3071, 1.3071, 1.3071, 1.3071, 1.3071, 1.3071, 1.3071, 1.3071, 1.3071, 1.3071, 1.3071, 1.0938, 0.4177, 0.424, 0.6683, 0.5146, 1.4392, 1.4391, 1.4391, 1.4391, 1.4391, 1.4391, 1.4391, 1.4391, 1.4391, 1.4391, 1.4391, 1.4391, 1.4391, 1.4391, 1.4391, 1.4391, 1.4391, 1.439, 1.439, 1.439, 1.439, 1.439, 1.439, 1.439, 1.439, 1.439, 1.439, 1.439, 1.439, 1.439, 1.4389, 1.4388, 1.4389, 1.4371, 1.4232, 1.3066, 0.2581, 1.1658, -0.2769, 0.6882, 1.7644, 1.7643, 1.7643, 1.7643, 1.7643, 1.7643, 1.7643, 1.7643, 1.7643, 1.7643, 1.7643, 1.7643, 1.7643, 1.7643, 1.7643, 1.7643, 1.7643, 1.7642, 1.7642, 1.7642, 1.7642, 1.7642, 1.7642, 1.7642, 1.7642, 1.7642, 1.7642, 1.7642, 1.7641, 1.7641, 1.7633, 1.7641, 1.7594, 1.1617, 1.0165, -0.9885]}, \"token.table\": {\"Topic\": [1, 2, 3, 4, 2, 4, 4, 1, 2, 4, 4, 1, 2, 1, 1, 3, 2, 1, 2, 1, 4, 3, 1, 3, 2, 1, 4, 1, 4, 1, 3, 2, 3, 4, 1, 4, 2, 3, 1, 2, 4, 2, 3, 1, 2, 4, 3, 3, 1, 2, 1, 3, 2, 3, 4, 4, 1, 4, 1, 4, 1, 3, 4, 2, 2, 2, 4, 3, 2, 1, 3, 4, 2, 4, 3, 3, 4, 1, 3, 1, 2, 4, 2, 2, 4, 1, 1, 1, 3, 1, 2, 3, 3, 1, 2, 2, 1, 3, 3, 4, 2, 3, 3, 3, 1, 4, 2, 4, 2, 1, 2, 1, 3, 1, 2, 4, 1, 1, 3, 3, 4, 3, 1, 2, 1, 2, 3, 4, 3, 2, 2, 4, 1, 4, 4, 1, 1, 2, 3, 1, 4, 1, 3, 3, 2, 1, 3, 4, 4, 4, 2, 3, 4, 4, 3, 2, 1, 3, 2, 4, 2, 4, 4, 3, 4, 4, 3, 1, 3, 2, 4, 1, 4, 3, 4, 3], \"Freq\": [0.3456716464781068, 0.41081334585762963, 0.17977178223262114, 0.06373956682407089, 0.9998471816829767, 0.9997617288182463, 0.9997410826621047, 0.9999030640251673, 0.9999847417415633, 0.99966199186734, 0.999762901336386, 0.9999470371180329, 0.9999298554083951, 0.999864524352481, 0.9999687806323193, 0.9999089299725263, 0.9999631281056464, 0.9999608053120235, 0.9999561849929697, 0.9998268514660796, 0.9999146670073378, 0.9997899946695257, 0.00017698007760794324, 0.9997604584072713, 0.9999877808232235, 0.9999550204214714, 0.9999368407011348, 0.9998047040955333, 0.00013765726340293725, 0.12414719336349893, 0.8758143531818421, 0.9999355075267542, 3.314966712430632e-05, 0.9999265591375759, 0.9999505631695897, 0.9998285546149827, 0.999953972500182, 0.9999458978491835, 0.9999688472909182, 0.9999912286193365, 0.9998337827872972, 0.9999847414317525, 0.9999391528759097, 0.9999422276465395, 0.9997665771629712, 0.9998963801784532, 0.9998062667610659, 0.9999650946455636, 0.9998424822956666, 0.9998916910672775, 0.9998731080551602, 0.9999507542829343, 0.9999201592719804, 0.9995657316716886, 0.0003114397045245953, 0.999899969006072, 0.999951809665904, 0.9998809833294297, 0.9999291194632282, 0.999816877253193, 0.999985519156561, 0.999844919202509, 0.9998746533460685, 0.9998072185193342, 0.999914039297585, 0.45262576567653523, 0.5473292529274626, 0.9998904059949159, 0.9998488194470628, 0.9998444135116265, 0.9999072339879432, 0.9999524841681522, 0.8077445635984329, 0.1921492520030198, 0.9999457032472946, 0.9999332900868088, 0.9997411022077265, 0.23917456706185367, 0.7608179936779936, 0.999898864901183, 0.9998456206595455, 0.00014197646906700603, 0.9998736336462951, 0.999891693412784, 0.9998878105211557, 0.999902829843864, 0.9998335197395642, 0.9999043971448838, 0.9998909574927127, 0.9999548490306684, 0.0020521555942564895, 0.997860657707218, 0.999792650903996, 0.999929115343715, 0.9998779208298882, 0.9999129619380656, 0.9972017254856538, 0.002699861336718604, 0.9841831256089295, 0.01579575324705194, 0.9997903651736999, 0.9998582802915059, 0.9998837473020071, 0.9997562287927709, 0.0009871983799821966, 0.9987979609469876, 0.999754135808034, 0.9999932774079074, 0.9998116124564532, 0.0001748770795271642, 0.9997722636567977, 0.9999436249112701, 4.162529399151921e-05, 0.36656812590414917, 0.1600744127005269, 0.4733856979292754, 0.9999295361116994, 0.999914162932366, 0.9998310554011162, 0.9999412194555451, 0.9999443667064206, 0.9998837465747835, 8.85381901758085e-05, 0.9998617816554054, 0.5865578251839283, 0.4134387651305744, 0.9998718671475039, 0.9998693649340036, 0.9998720107953042, 0.9997234528436326, 0.9999847414379088, 0.9997947023826301, 0.9999894436573409, 7.198467024607073e-06, 0.9998858055239442, 0.9999440151738915, 0.9998684344785255, 0.00027358687982542, 0.9996864588820847, 0.9644060712844974, 0.03557664349765596, 0.9992195856020155, 0.0007806761779141626, 0.999881058903401, 0.9999627851516706, 0.6929980414321021, 0.3069453752307229, 5.678915360420405e-05, 0.9998513960488448, 0.9998831453610728, 0.5278034853320543, 0.4719152942622667, 0.0002648729434587091, 0.9997929550334173, 0.9997722657298312, 0.9997114066954192, 0.00014022199202229924, 0.9997828031189935, 0.005005088926136981, 0.9949246334912295, 0.9999055017356022, 8.885679389812514e-05, 0.9999373784355479, 0.9999964115738855, 0.9998229327613072, 0.9999518143180679, 0.9999241779701659, 0.9998331831435509, 0.9999179617872982, 0.999904229879435, 0.9998607692734095, 0.9998073875838019, 0.9999658900949661, 0.999859093084359, 0.9999145064157355, 0.9998741614359848], \"Term\": [\"\", \"\", \"\", \"\", \"academic\", \"agencies\", \"airports\", \"american\", \"apartments\", \"arcades\", \"art\", \"asian\", \"auditoriums\", \"auto\", \"automotive\", \"bakeries\", \"banks\", \"barbershops\", \"bars\", \"bbq\", \"beaches\", \"bookstores\", \"breakfast\", \"breakfast\", \"buildings\", \"burger\", \"bus\", \"business\", \"business\", \"cafes\", \"cafes\", \"cafeterias\", \"centers\", \"centers\", \"chinese\", \"churches\", \"classrooms\", \"clothing\", \"coffee\", \"college\", \"colleges\", \"condos\", \"convenience\", \"cosmetics\", \"coworking\", \"cream\", \"dentists\", \"department\", \"dessert\", \"developments\", \"doctors\", \"electronics\", \"entertainment\", \"event\", \"event\", \"factories\", \"fast\", \"fields\", \"financial\", \"fitness\", \"food\", \"furniture\", \"galleries\", \"gardens\", \"gas\", \"general\", \"general\", \"goods\", \"government\", \"great\", \"grocery\", \"gyms\", \"halls\", \"halls\", \"hardware\", \"high\", \"historic\", \"home\", \"home\", \"hospitals\", \"hotels\", \"hotels\", \"houses\", \"housing\", \"ice\", \"indonesian\", \"italian\", \"japanese\", \"jewelry\", \"joints\", \"labs\", \"labs\", \"lakes\", \"legal\", \"libraries\", \"malls\", \"markets\", \"markets\", \"medical\", \"medical\", \"metro\", \"miscellaneous\", \"mobile\", \"movie\", \"museums\", \"museums\", \"music\", \"nan\", \"nightclubs\", \"noodle\", \"noodle\", \"offices\", \"offices\", \"or\", \"or\", \"or\", \"other\", \"outdoors\", \"parking\", \"parks\", \"pharmacies\", \"phone\", \"pizza\", \"pizza\", \"places\", \"places\", \"plazas\", \"pools\", \"pubs\", \"residence\", \"residential\", \"resorts\", \"restaurants\", \"restaurants\", \"rooms\", \"salons\", \"sandwich\", \"schools\", \"schools\", \"seafood\", \"seafood\", \"services\", \"services\", \"shoe\", \"shopping\", \"shops\", \"shops\", \"shops\", \"sites\", \"soccer\", \"spaces\", \"spaces\", \"spaces\", \"spas\", \"sporting\", \"sports\", \"spots\", \"spots\", \"stadiums\", \"stadiums\", \"stations\", \"stations\", \"stops\", \"stores\", \"student\", \"studios\", \"supermarkets\", \"thai\", \"theaters\", \"train\", \"travel\", \"trucks\", \"universities\", \"video\", \"washes\", \"womens\"]}, \"R\": 30, \"lambda.step\": 0.01, \"plot.opts\": {\"xlab\": \"PC1\", \"ylab\": \"PC2\"}, \"topic.order\": [4, 1, 3, 2]};\n",
       "\n",
       "function LDAvis_load_lib(url, callback){\n",
       "  var s = document.createElement('script');\n",
       "  s.src = url;\n",
       "  s.async = true;\n",
       "  s.onreadystatechange = s.onload = callback;\n",
       "  s.onerror = function(){console.warn(\"failed to load library \" + url);};\n",
       "  document.getElementsByTagName(\"head\")[0].appendChild(s);\n",
       "}\n",
       "\n",
       "if(typeof(LDAvis) !== \"undefined\"){\n",
       "   // already loaded: just create the visualization\n",
       "   !function(LDAvis){\n",
       "       new LDAvis(\"#\" + \"ldavis_el19140175418299728341249829\", ldavis_el19140175418299728341249829_data);\n",
       "   }(LDAvis);\n",
       "}else if(typeof define === \"function\" && define.amd){\n",
       "   // require.js is available: use it to load d3/LDAvis\n",
       "   require.config({paths: {d3: \"https://d3js.org/d3.v5\"}});\n",
       "   require([\"d3\"], function(d3){\n",
       "      window.d3 = d3;\n",
       "      LDAvis_load_lib(\"https://cdn.jsdelivr.net/gh/bmabey/pyLDAvis@3.2.2/pyLDAvis/js/ldavis.v3.0.0.js\", function(){\n",
       "        new LDAvis(\"#\" + \"ldavis_el19140175418299728341249829\", ldavis_el19140175418299728341249829_data);\n",
       "      });\n",
       "    });\n",
       "}else{\n",
       "    // require.js not available: dynamically load d3 & LDAvis\n",
       "    LDAvis_load_lib(\"https://d3js.org/d3.v5.js\", function(){\n",
       "         LDAvis_load_lib(\"https://cdn.jsdelivr.net/gh/bmabey/pyLDAvis@3.2.2/pyLDAvis/js/ldavis.v3.0.0.js\", function(){\n",
       "                 new LDAvis(\"#\" + \"ldavis_el19140175418299728341249829\", ldavis_el19140175418299728341249829_data);\n",
       "            })\n",
       "         });\n",
       "}\n",
       "</script>"
      ],
      "text/plain": [
       "PreparedData(topic_coordinates=              x         y  topics  cluster       Freq\n",
       "topic                                                \n",
       "3     -0.217741  0.036302       1        1  32.103022\n",
       "0      0.090617 -0.383866       2        1  27.055658\n",
       "2     -0.231059  0.138827       3        1  23.712212\n",
       "1      0.358184  0.208738       4        1  17.129108, topic_info=            Term           Freq          Total Category  logprob  loglift\n",
       "30        stores  134013.000000  134013.000000  Default  30.0000  30.0000\n",
       "31           nan  108560.000000  108560.000000  Default  29.0000  29.0000\n",
       "2    restaurants  138918.000000  138918.000000  Default  28.0000  28.0000\n",
       "11     buildings   70838.000000   70838.000000  Default  27.0000  27.0000\n",
       "75       college   62798.000000   62798.000000  Default  26.0000  26.0000\n",
       "..           ...            ...            ...      ...      ...      ...\n",
       "242      arcades    3161.148555    3162.068805   Topic4  -4.9469   1.7641\n",
       "120     stadiums    4572.299864    4595.322948   Topic4  -4.5778   1.7594\n",
       "156      general    6733.042183   12301.553341   Topic4  -4.1908   1.1617\n",
       "161           or    6230.735144   13162.628333   Topic4  -4.2683   1.0165\n",
       "3                   5546.377680   87010.318337   Topic4  -4.3846  -0.9885\n",
       "\n",
       "[180 rows x 6 columns], token_table=      Topic      Freq          Term\n",
       "term                               \n",
       "3         1  0.345672              \n",
       "3         2  0.410813              \n",
       "3         3  0.179772              \n",
       "3         4  0.063740              \n",
       "230       2  0.999847      academic\n",
       "...     ...       ...           ...\n",
       "249       1  0.999807        trucks\n",
       "167       4  0.999966  universities\n",
       "255       3  0.999859         video\n",
       "91        4  0.999915        washes\n",
       "110       3  0.999874        womens\n",
       "\n",
       "[176 rows x 3 columns], R=30, lambda_step=0.01, plot_opts={'xlab': 'PC1', 'ylab': 'PC2'}, topic_order=[4, 1, 3, 2])"
      ]
     },
     "execution_count": 14,
     "metadata": {},
     "output_type": "execute_result"
    }
   ],
   "source": [
    "import pyLDAvis.gensim\n",
    "pyLDAvis.enable_notebook()\n",
    "vis = pyLDAvis.gensim.prepare(lda_model, corpus, dictionary=lda_model.id2word)\n",
    "vis"
   ]
  },
  {
   "cell_type": "markdown",
   "id": "c2461c1a",
   "metadata": {
    "papermill": {
     "duration": 0.035476,
     "end_time": "2022-05-17T11:33:21.324924",
     "exception": false,
     "start_time": "2022-05-17T11:33:21.289448",
     "status": "completed"
    },
    "tags": []
   },
   "source": [
    "## Let's check how to get the cluster from this model"
   ]
  },
  {
   "cell_type": "code",
   "execution_count": 15,
   "id": "df7caae9",
   "metadata": {
    "execution": {
     "iopub.execute_input": "2022-05-17T11:33:21.398305Z",
     "iopub.status.busy": "2022-05-17T11:33:21.397723Z",
     "iopub.status.idle": "2022-05-17T11:33:28.699607Z",
     "shell.execute_reply": "2022-05-17T11:33:28.698560Z"
    },
    "papermill": {
     "duration": 7.341654,
     "end_time": "2022-05-17T11:33:28.702129",
     "exception": false,
     "start_time": "2022-05-17T11:33:21.360475",
     "status": "completed"
    },
    "tags": []
   },
   "outputs": [
    {
     "name": "stdout",
     "output_type": "stream",
     "text": [
      "[(189, 1), (368, 1)]\n",
      "[(0, 0.0833345), (1, 0.08333451), (2, 0.08333734), (3, 0.7499937)]\n"
     ]
    }
   ],
   "source": [
    "dictionary = corpora.Dictionary(data)\n",
    "new_doc = 'airport services'\n",
    "\n",
    "def prepare_text_for_lda(text):\n",
    "    tokens = tokenization(text)\n",
    "    tokens = [token for token in tokens if len(token) > 4]\n",
    "    return tokens\n",
    "\n",
    "new_doc = prepare_text_for_lda(new_doc)\n",
    "new_doc_bow = dictionary.doc2bow(new_doc)\n",
    "\n",
    "\n",
    "print(new_doc_bow)\n",
    "print(lda_model.get_document_topics(new_doc_bow))"
   ]
  },
  {
   "cell_type": "markdown",
   "id": "66281557",
   "metadata": {
    "papermill": {
     "duration": 0.035411,
     "end_time": "2022-05-17T11:33:28.774243",
     "exception": false,
     "start_time": "2022-05-17T11:33:28.738832",
     "status": "completed"
    },
    "tags": []
   },
   "source": [
    "## So get_document_topics returns a list of tuples with the percent of similarity with each cluster. Let's use it to apply for all the row by definig a function and them apply it. "
   ]
  },
  {
   "cell_type": "code",
   "execution_count": 16,
   "id": "7b842093",
   "metadata": {
    "execution": {
     "iopub.execute_input": "2022-05-17T11:33:28.848704Z",
     "iopub.status.busy": "2022-05-17T11:33:28.848433Z",
     "iopub.status.idle": "2022-05-17T11:33:28.853436Z",
     "shell.execute_reply": "2022-05-17T11:33:28.852557Z"
    },
    "papermill": {
     "duration": 0.043702,
     "end_time": "2022-05-17T11:33:28.855416",
     "exception": false,
     "start_time": "2022-05-17T11:33:28.811714",
     "status": "completed"
    },
    "tags": []
   },
   "outputs": [],
   "source": [
    "def get_lda_cluster(category):\n",
    "    new_doc = prepare_text_for_lda(category)\n",
    "    new_doc_bow = dictionary.doc2bow(new_doc)\n",
    "    clusters = lda_model.get_document_topics(new_doc_bow)\n",
    "    \n",
    "    scores = []\n",
    "    for i in clusters:\n",
    "        scores.append(i[1])\n",
    "\n",
    "    max_index = scores.index(max(scores))\n",
    "    return clusters[max_index][0]\n",
    "    "
   ]
  },
  {
   "cell_type": "code",
   "execution_count": 17,
   "id": "86957b7d",
   "metadata": {
    "execution": {
     "iopub.execute_input": "2022-05-17T11:33:28.928594Z",
     "iopub.status.busy": "2022-05-17T11:33:28.928055Z",
     "iopub.status.idle": "2022-05-17T11:36:27.695884Z",
     "shell.execute_reply": "2022-05-17T11:36:27.695046Z"
    },
    "papermill": {
     "duration": 178.807221,
     "end_time": "2022-05-17T11:36:27.698153",
     "exception": false,
     "start_time": "2022-05-17T11:33:28.890932",
     "status": "completed"
    },
    "tags": []
   },
   "outputs": [
    {
     "data": {
      "application/vnd.jupyter.widget-view+json": {
       "model_id": "bf59ed82bc89401c8462f0f17e4ecbc7",
       "version_major": 2,
       "version_minor": 0
      },
      "text/plain": [
       "  0%|          | 0/1138812 [00:00<?, ?it/s]"
      ]
     },
     "metadata": {},
     "output_type": "display_data"
    }
   ],
   "source": [
    "training_set_['category_cluster'] = training_set_.progress_apply(lambda x: get_lda_cluster(x['categories']),axis=1)"
   ]
  },
  {
   "cell_type": "code",
   "execution_count": 18,
   "id": "701ceed5",
   "metadata": {
    "execution": {
     "iopub.execute_input": "2022-05-17T11:36:27.773714Z",
     "iopub.status.busy": "2022-05-17T11:36:27.772878Z",
     "iopub.status.idle": "2022-05-17T11:36:27.808335Z",
     "shell.execute_reply": "2022-05-17T11:36:27.807779Z"
    },
    "papermill": {
     "duration": 0.074669,
     "end_time": "2022-05-17T11:36:27.810078",
     "exception": false,
     "start_time": "2022-05-17T11:36:27.735409",
     "status": "completed"
    },
    "tags": []
   },
   "outputs": [
    {
     "data": {
      "application/vnd.jupyter.widget-view+json": {
       "model_id": "1a47b181f0b54859ae9b58bf1d7cf043",
       "version_major": 2,
       "version_minor": 0
      },
      "text/plain": [
       "  0%|          | 0/5 [00:00<?, ?it/s]"
      ]
     },
     "metadata": {},
     "output_type": "display_data"
    }
   ],
   "source": [
    "test_set_['category_cluster'] = test_set_.progress_apply(lambda x: get_lda_cluster(x['categories']),axis=1)\n"
   ]
  },
  {
   "cell_type": "markdown",
   "id": "a133b31b",
   "metadata": {
    "papermill": {
     "duration": 0.037359,
     "end_time": "2022-05-17T11:36:27.884513",
     "exception": false,
     "start_time": "2022-05-17T11:36:27.847154",
     "status": "completed"
    },
    "tags": []
   },
   "source": [
    "### My approach was using the h3 lib created by Uber (check documentation here: https://github.com/uber/h3) to cluster POIs into hex using the method h3.geo_to_h3 first. It will help us to check in a certain hex all the places.  \n",
    "### It allows to search new POIs according the hex_cell id which combined to others features to solve eventually conflits, can solve this bussiness problem. "
   ]
  },
  {
   "cell_type": "code",
   "execution_count": 19,
   "id": "098b3b39",
   "metadata": {
    "execution": {
     "iopub.execute_input": "2022-05-17T11:36:27.960040Z",
     "iopub.status.busy": "2022-05-17T11:36:27.959303Z",
     "iopub.status.idle": "2022-05-17T11:36:27.964327Z",
     "shell.execute_reply": "2022-05-17T11:36:27.963791Z"
    },
    "papermill": {
     "duration": 0.044782,
     "end_time": "2022-05-17T11:36:27.966072",
     "exception": false,
     "start_time": "2022-05-17T11:36:27.921290",
     "status": "completed"
    },
    "tags": []
   },
   "outputs": [],
   "source": [
    "training_set_.rename(columns = {'longitude': 'lng', 'latitude': 'lat'}, inplace = True)\n",
    "test_set_.rename(columns = {'longitude': 'lng', 'latitude': 'lat'}, inplace = True)"
   ]
  },
  {
   "cell_type": "markdown",
   "id": "cb0f3bae",
   "metadata": {
    "papermill": {
     "duration": 0.036375,
     "end_time": "2022-05-17T11:36:28.039109",
     "exception": false,
     "start_time": "2022-05-17T11:36:28.002734",
     "status": "completed"
    },
    "tags": []
   },
   "source": [
    "## Creating the Hex_cell ids"
   ]
  },
  {
   "cell_type": "code",
   "execution_count": 20,
   "id": "04a60a9d",
   "metadata": {
    "execution": {
     "iopub.execute_input": "2022-05-17T11:36:28.114747Z",
     "iopub.status.busy": "2022-05-17T11:36:28.114327Z",
     "iopub.status.idle": "2022-05-17T11:36:28.117720Z",
     "shell.execute_reply": "2022-05-17T11:36:28.117190Z"
    },
    "papermill": {
     "duration": 0.042786,
     "end_time": "2022-05-17T11:36:28.119334",
     "exception": false,
     "start_time": "2022-05-17T11:36:28.076548",
     "status": "completed"
    },
    "tags": []
   },
   "outputs": [],
   "source": [
    "H3_res = 9\n",
    "def geo_to_h3(row):\n",
    "  return h3.geo_to_h3(lat=row.lat,lng=row.lng,resolution = H3_res)"
   ]
  },
  {
   "cell_type": "code",
   "execution_count": 21,
   "id": "43c86644",
   "metadata": {
    "execution": {
     "iopub.execute_input": "2022-05-17T11:36:28.194398Z",
     "iopub.status.busy": "2022-05-17T11:36:28.193984Z",
     "iopub.status.idle": "2022-05-17T11:36:53.703190Z",
     "shell.execute_reply": "2022-05-17T11:36:53.702221Z"
    },
    "papermill": {
     "duration": 25.551843,
     "end_time": "2022-05-17T11:36:53.707745",
     "exception": false,
     "start_time": "2022-05-17T11:36:28.155902",
     "status": "completed"
    },
    "tags": []
   },
   "outputs": [
    {
     "data": {
      "application/vnd.jupyter.widget-view+json": {
       "model_id": "fc7926dd84424388ba946049a6bb7fdb",
       "version_major": 2,
       "version_minor": 0
      },
      "text/plain": [
       "  0%|          | 0/5 [00:00<?, ?it/s]"
      ]
     },
     "metadata": {},
     "output_type": "display_data"
    }
   ],
   "source": [
    "training_set_['h3_cell'] = training_set_.apply(geo_to_h3,axis=1)\n",
    "test_set_['h3_cell'] = test_set_.progress_apply(geo_to_h3,axis=1)"
   ]
  },
  {
   "cell_type": "markdown",
   "id": "96add3ca",
   "metadata": {
    "papermill": {
     "duration": 0.036545,
     "end_time": "2022-05-17T11:36:53.781271",
     "exception": false,
     "start_time": "2022-05-17T11:36:53.744726",
     "status": "completed"
    },
    "tags": []
   },
   "source": [
    "# Defining the search engine "
   ]
  },
  {
   "cell_type": "markdown",
   "id": "63594e63",
   "metadata": {
    "papermill": {
     "duration": 0.036504,
     "end_time": "2022-05-17T11:36:53.855276",
     "exception": false,
     "start_time": "2022-05-17T11:36:53.818772",
     "status": "completed"
    },
    "tags": []
   },
   "source": [
    "### Here I'm going to use all the features that I created to build a engine search. First i'm going to use the hex id to filter all the places of a certain area, than I will filter all of them by the category cluster. Than, to solve eventually conflits, I'm using the difflib.get_close_matches to get the most similar name str. "
   ]
  },
  {
   "cell_type": "code",
   "execution_count": 22,
   "id": "855ed39b",
   "metadata": {
    "execution": {
     "iopub.execute_input": "2022-05-17T11:36:53.930657Z",
     "iopub.status.busy": "2022-05-17T11:36:53.930128Z",
     "iopub.status.idle": "2022-05-17T11:36:53.935901Z",
     "shell.execute_reply": "2022-05-17T11:36:53.935308Z"
    },
    "papermill": {
     "duration": 0.045522,
     "end_time": "2022-05-17T11:36:53.937732",
     "exception": false,
     "start_time": "2022-05-17T11:36:53.892210",
     "status": "completed"
    },
    "tags": []
   },
   "outputs": [],
   "source": [
    "def search_engine(id, name, h3_cell, cluster):\n",
    "    first_step = training_set_[training_set_['h3_cell'] == h3_cell]\n",
    "    second_step = first_step[training_set_['category_cluster'] == cluster]\n",
    "    \n",
    "    kw = difflib.get_close_matches(name, second_step['name'], n=3)\n",
    "    \n",
    "    result = second_step[second_step['name'].isin(kw)]\n",
    "    if result['id'].empty:\n",
    "        return id\n",
    "    else:\n",
    "        sep = ' '\n",
    "        match_formated = id\n",
    "        for match in result['id']:\n",
    "            match_formated += sep \n",
    "            match_formated += match\n",
    "        return match_formated"
   ]
  },
  {
   "cell_type": "code",
   "execution_count": 23,
   "id": "c0914da5",
   "metadata": {
    "execution": {
     "iopub.execute_input": "2022-05-17T11:36:54.013257Z",
     "iopub.status.busy": "2022-05-17T11:36:54.012968Z",
     "iopub.status.idle": "2022-05-17T11:36:55.037169Z",
     "shell.execute_reply": "2022-05-17T11:36:55.036349Z"
    },
    "papermill": {
     "duration": 1.06475,
     "end_time": "2022-05-17T11:36:55.039298",
     "exception": false,
     "start_time": "2022-05-17T11:36:53.974548",
     "status": "completed"
    },
    "tags": []
   },
   "outputs": [
    {
     "name": "stderr",
     "output_type": "stream",
     "text": [
      "/opt/conda/lib/python3.7/site-packages/ipykernel_launcher.py:3: UserWarning: Boolean Series key will be reindexed to match DataFrame index.\n",
      "  This is separate from the ipykernel package so we can avoid doing imports until\n"
     ]
    }
   ],
   "source": [
    "test_set_['matches'] = test_set_.apply(lambda x: search_engine(x['id'], x['name'], x['h3_cell'], x['category_cluster']),axis=1)"
   ]
  },
  {
   "cell_type": "code",
   "execution_count": 24,
   "id": "f561bcfd",
   "metadata": {
    "execution": {
     "iopub.execute_input": "2022-05-17T11:36:55.115415Z",
     "iopub.status.busy": "2022-05-17T11:36:55.114941Z",
     "iopub.status.idle": "2022-05-17T11:36:55.134416Z",
     "shell.execute_reply": "2022-05-17T11:36:55.133540Z"
    },
    "papermill": {
     "duration": 0.059655,
     "end_time": "2022-05-17T11:36:55.136300",
     "exception": false,
     "start_time": "2022-05-17T11:36:55.076645",
     "status": "completed"
    },
    "tags": []
   },
   "outputs": [
    {
     "data": {
      "text/html": [
       "<div>\n",
       "<style scoped>\n",
       "    .dataframe tbody tr th:only-of-type {\n",
       "        vertical-align: middle;\n",
       "    }\n",
       "\n",
       "    .dataframe tbody tr th {\n",
       "        vertical-align: top;\n",
       "    }\n",
       "\n",
       "    .dataframe thead th {\n",
       "        text-align: right;\n",
       "    }\n",
       "</style>\n",
       "<table border=\"1\" class=\"dataframe\">\n",
       "  <thead>\n",
       "    <tr style=\"text-align: right;\">\n",
       "      <th></th>\n",
       "      <th>id</th>\n",
       "      <th>name</th>\n",
       "      <th>lat</th>\n",
       "      <th>lng</th>\n",
       "      <th>address</th>\n",
       "      <th>city</th>\n",
       "      <th>state</th>\n",
       "      <th>zip</th>\n",
       "      <th>country</th>\n",
       "      <th>url</th>\n",
       "      <th>phone</th>\n",
       "      <th>categories</th>\n",
       "      <th>category_tokenied</th>\n",
       "      <th>category_cluster</th>\n",
       "      <th>h3_cell</th>\n",
       "      <th>matches</th>\n",
       "    </tr>\n",
       "  </thead>\n",
       "  <tbody>\n",
       "    <tr>\n",
       "      <th>0</th>\n",
       "      <td>E_00001118ad0191</td>\n",
       "      <td>jamu petani bagan serai</td>\n",
       "      <td>5.012169</td>\n",
       "      <td>100.535805</td>\n",
       "      <td>NaN</td>\n",
       "      <td>NaN</td>\n",
       "      <td>NaN</td>\n",
       "      <td>NaN</td>\n",
       "      <td>MY</td>\n",
       "      <td>NaN</td>\n",
       "      <td>NaN</td>\n",
       "      <td>cafes</td>\n",
       "      <td>[cafes]</td>\n",
       "      <td>2</td>\n",
       "      <td>8965032cc53ffff</td>\n",
       "      <td>E_00001118ad0191 E_5be051889de601</td>\n",
       "    </tr>\n",
       "    <tr>\n",
       "      <th>1</th>\n",
       "      <td>E_000020eb6fed40</td>\n",
       "      <td>johnnys bar</td>\n",
       "      <td>40.434209</td>\n",
       "      <td>-80.564160</td>\n",
       "      <td>497 N 12th St</td>\n",
       "      <td>Weirton</td>\n",
       "      <td>WV</td>\n",
       "      <td>26062.0</td>\n",
       "      <td>US</td>\n",
       "      <td>NaN</td>\n",
       "      <td>NaN</td>\n",
       "      <td>bars</td>\n",
       "      <td>[bars]</td>\n",
       "      <td>0</td>\n",
       "      <td>892a86a3457ffff</td>\n",
       "      <td>E_000020eb6fed40</td>\n",
       "    </tr>\n",
       "    <tr>\n",
       "      <th>2</th>\n",
       "      <td>E_00002f98667edf</td>\n",
       "      <td>qiwi</td>\n",
       "      <td>47.215134</td>\n",
       "      <td>39.686088</td>\n",
       "      <td>Межевая улица, 60</td>\n",
       "      <td>Ростов-на-Дону</td>\n",
       "      <td>NaN</td>\n",
       "      <td>NaN</td>\n",
       "      <td>RU</td>\n",
       "      <td>https://qiwi.com</td>\n",
       "      <td>7.800301e+10</td>\n",
       "      <td>atms</td>\n",
       "      <td>[atms]</td>\n",
       "      <td>0</td>\n",
       "      <td>892d440ee4bffff</td>\n",
       "      <td>E_00002f98667edf</td>\n",
       "    </tr>\n",
       "    <tr>\n",
       "      <th>3</th>\n",
       "      <td>E_001b6bad66eb98</td>\n",
       "      <td>gelora sriwijaya jaka baring sport city</td>\n",
       "      <td>-3.014675</td>\n",
       "      <td>104.794374</td>\n",
       "      <td>NaN</td>\n",
       "      <td>NaN</td>\n",
       "      <td>NaN</td>\n",
       "      <td>NaN</td>\n",
       "      <td>ID</td>\n",
       "      <td>NaN</td>\n",
       "      <td>NaN</td>\n",
       "      <td>stadiums</td>\n",
       "      <td>[stadiums]</td>\n",
       "      <td>1</td>\n",
       "      <td>898cab70a37ffff</td>\n",
       "      <td>E_001b6bad66eb98 E_161706a74b5308</td>\n",
       "    </tr>\n",
       "    <tr>\n",
       "      <th>4</th>\n",
       "      <td>E_0283d9f61e569d</td>\n",
       "      <td>stadion gelora sriwijaya</td>\n",
       "      <td>-3.021727</td>\n",
       "      <td>104.788628</td>\n",
       "      <td>Jalan Gubernur Hasan Bastari</td>\n",
       "      <td>Palembang</td>\n",
       "      <td>South Sumatra</td>\n",
       "      <td>11480.0</td>\n",
       "      <td>ID</td>\n",
       "      <td>NaN</td>\n",
       "      <td>NaN</td>\n",
       "      <td>soccer stadiums</td>\n",
       "      <td>[soccer, stadiums]</td>\n",
       "      <td>1</td>\n",
       "      <td>898cab70bd7ffff</td>\n",
       "      <td>E_0283d9f61e569d E_6e477dd29c2dc2</td>\n",
       "    </tr>\n",
       "  </tbody>\n",
       "</table>\n",
       "</div>"
      ],
      "text/plain": [
       "                 id                                     name        lat  \\\n",
       "0  E_00001118ad0191                  jamu petani bagan serai   5.012169   \n",
       "1  E_000020eb6fed40                              johnnys bar  40.434209   \n",
       "2  E_00002f98667edf                                     qiwi  47.215134   \n",
       "3  E_001b6bad66eb98  gelora sriwijaya jaka baring sport city  -3.014675   \n",
       "4  E_0283d9f61e569d                 stadion gelora sriwijaya  -3.021727   \n",
       "\n",
       "          lng                       address            city          state  \\\n",
       "0  100.535805                           NaN             NaN            NaN   \n",
       "1  -80.564160                 497 N 12th St         Weirton             WV   \n",
       "2   39.686088             Межевая улица, 60  Ростов-на-Дону            NaN   \n",
       "3  104.794374                           NaN             NaN            NaN   \n",
       "4  104.788628  Jalan Gubernur Hasan Bastari       Palembang  South Sumatra   \n",
       "\n",
       "       zip country               url         phone       categories  \\\n",
       "0      NaN      MY               NaN           NaN            cafes   \n",
       "1  26062.0      US               NaN           NaN             bars   \n",
       "2      NaN      RU  https://qiwi.com  7.800301e+10             atms   \n",
       "3      NaN      ID               NaN           NaN         stadiums   \n",
       "4  11480.0      ID               NaN           NaN  soccer stadiums   \n",
       "\n",
       "    category_tokenied  category_cluster          h3_cell  \\\n",
       "0             [cafes]                 2  8965032cc53ffff   \n",
       "1              [bars]                 0  892a86a3457ffff   \n",
       "2              [atms]                 0  892d440ee4bffff   \n",
       "3          [stadiums]                 1  898cab70a37ffff   \n",
       "4  [soccer, stadiums]                 1  898cab70bd7ffff   \n",
       "\n",
       "                             matches  \n",
       "0  E_00001118ad0191 E_5be051889de601  \n",
       "1                   E_000020eb6fed40  \n",
       "2                   E_00002f98667edf  \n",
       "3  E_001b6bad66eb98 E_161706a74b5308  \n",
       "4  E_0283d9f61e569d E_6e477dd29c2dc2  "
      ]
     },
     "execution_count": 24,
     "metadata": {},
     "output_type": "execute_result"
    }
   ],
   "source": [
    "test_set_"
   ]
  },
  {
   "cell_type": "code",
   "execution_count": 25,
   "id": "257d6cd9",
   "metadata": {
    "execution": {
     "iopub.execute_input": "2022-05-17T11:36:55.214074Z",
     "iopub.status.busy": "2022-05-17T11:36:55.213769Z",
     "iopub.status.idle": "2022-05-17T11:36:55.300524Z",
     "shell.execute_reply": "2022-05-17T11:36:55.299727Z"
    },
    "papermill": {
     "duration": 0.127556,
     "end_time": "2022-05-17T11:36:55.302240",
     "exception": false,
     "start_time": "2022-05-17T11:36:55.174684",
     "status": "completed"
    },
    "tags": []
   },
   "outputs": [
    {
     "data": {
      "text/html": [
       "<div>\n",
       "<style scoped>\n",
       "    .dataframe tbody tr th:only-of-type {\n",
       "        vertical-align: middle;\n",
       "    }\n",
       "\n",
       "    .dataframe tbody tr th {\n",
       "        vertical-align: top;\n",
       "    }\n",
       "\n",
       "    .dataframe thead th {\n",
       "        text-align: right;\n",
       "    }\n",
       "</style>\n",
       "<table border=\"1\" class=\"dataframe\">\n",
       "  <thead>\n",
       "    <tr style=\"text-align: right;\">\n",
       "      <th></th>\n",
       "      <th>id</th>\n",
       "      <th>name</th>\n",
       "      <th>lat</th>\n",
       "      <th>lng</th>\n",
       "      <th>address</th>\n",
       "      <th>city</th>\n",
       "      <th>state</th>\n",
       "      <th>zip</th>\n",
       "      <th>country</th>\n",
       "      <th>url</th>\n",
       "      <th>phone</th>\n",
       "      <th>categories</th>\n",
       "      <th>point_of_interest</th>\n",
       "      <th>category_tokenied</th>\n",
       "      <th>category_cluster</th>\n",
       "      <th>h3_cell</th>\n",
       "    </tr>\n",
       "  </thead>\n",
       "  <tbody>\n",
       "    <tr>\n",
       "      <th>98575</th>\n",
       "      <td>E_161706a74b5308</td>\n",
       "      <td>gelora sriwijaya jaka baring sport city</td>\n",
       "      <td>-3.014675</td>\n",
       "      <td>104.794374</td>\n",
       "      <td>NaN</td>\n",
       "      <td>NaN</td>\n",
       "      <td>NaN</td>\n",
       "      <td>NaN</td>\n",
       "      <td>ID</td>\n",
       "      <td>NaN</td>\n",
       "      <td>NaN</td>\n",
       "      <td>stadiums</td>\n",
       "      <td>P_3a29d96ec6eb0c</td>\n",
       "      <td>[stadiums]</td>\n",
       "      <td>1</td>\n",
       "      <td>898cab70a37ffff</td>\n",
       "    </tr>\n",
       "  </tbody>\n",
       "</table>\n",
       "</div>"
      ],
      "text/plain": [
       "                     id                                     name       lat  \\\n",
       "98575  E_161706a74b5308  gelora sriwijaya jaka baring sport city -3.014675   \n",
       "\n",
       "              lng address city state  zip country  url phone categories  \\\n",
       "98575  104.794374     NaN  NaN   NaN  NaN      ID  NaN   NaN   stadiums   \n",
       "\n",
       "      point_of_interest category_tokenied  category_cluster          h3_cell  \n",
       "98575  P_3a29d96ec6eb0c        [stadiums]                 1  898cab70a37ffff  "
      ]
     },
     "execution_count": 25,
     "metadata": {},
     "output_type": "execute_result"
    }
   ],
   "source": [
    "training_set_[training_set_['id'] == 'E_161706a74b5308']"
   ]
  },
  {
   "cell_type": "code",
   "execution_count": 26,
   "id": "8f09defd",
   "metadata": {
    "execution": {
     "iopub.execute_input": "2022-05-17T11:36:55.380456Z",
     "iopub.status.busy": "2022-05-17T11:36:55.380140Z",
     "iopub.status.idle": "2022-05-17T11:36:55.465121Z",
     "shell.execute_reply": "2022-05-17T11:36:55.464526Z"
    },
    "papermill": {
     "duration": 0.126327,
     "end_time": "2022-05-17T11:36:55.466858",
     "exception": false,
     "start_time": "2022-05-17T11:36:55.340531",
     "status": "completed"
    },
    "tags": []
   },
   "outputs": [
    {
     "data": {
      "text/html": [
       "<div>\n",
       "<style scoped>\n",
       "    .dataframe tbody tr th:only-of-type {\n",
       "        vertical-align: middle;\n",
       "    }\n",
       "\n",
       "    .dataframe tbody tr th {\n",
       "        vertical-align: top;\n",
       "    }\n",
       "\n",
       "    .dataframe thead th {\n",
       "        text-align: right;\n",
       "    }\n",
       "</style>\n",
       "<table border=\"1\" class=\"dataframe\">\n",
       "  <thead>\n",
       "    <tr style=\"text-align: right;\">\n",
       "      <th></th>\n",
       "      <th>id</th>\n",
       "      <th>name</th>\n",
       "      <th>lat</th>\n",
       "      <th>lng</th>\n",
       "      <th>address</th>\n",
       "      <th>city</th>\n",
       "      <th>state</th>\n",
       "      <th>zip</th>\n",
       "      <th>country</th>\n",
       "      <th>url</th>\n",
       "      <th>phone</th>\n",
       "      <th>categories</th>\n",
       "      <th>point_of_interest</th>\n",
       "      <th>category_tokenied</th>\n",
       "      <th>category_cluster</th>\n",
       "      <th>h3_cell</th>\n",
       "    </tr>\n",
       "  </thead>\n",
       "  <tbody>\n",
       "    <tr>\n",
       "      <th>490551</th>\n",
       "      <td>E_6e477dd29c2dc2</td>\n",
       "      <td>stadion gelora sriwijaya</td>\n",
       "      <td>-3.021727</td>\n",
       "      <td>104.788628</td>\n",
       "      <td>Jalan Gubernur Hasan Bastari</td>\n",
       "      <td>Palembang</td>\n",
       "      <td>South Sumatra</td>\n",
       "      <td>11480</td>\n",
       "      <td>ID</td>\n",
       "      <td>NaN</td>\n",
       "      <td>NaN</td>\n",
       "      <td>soccer stadiums</td>\n",
       "      <td>P_3a29d96ec6eb0c</td>\n",
       "      <td>[soccer, stadiums]</td>\n",
       "      <td>1</td>\n",
       "      <td>898cab70bd7ffff</td>\n",
       "    </tr>\n",
       "  </tbody>\n",
       "</table>\n",
       "</div>"
      ],
      "text/plain": [
       "                      id                      name       lat         lng  \\\n",
       "490551  E_6e477dd29c2dc2  stadion gelora sriwijaya -3.021727  104.788628   \n",
       "\n",
       "                             address       city          state    zip country  \\\n",
       "490551  Jalan Gubernur Hasan Bastari  Palembang  South Sumatra  11480      ID   \n",
       "\n",
       "        url phone       categories point_of_interest   category_tokenied  \\\n",
       "490551  NaN   NaN  soccer stadiums  P_3a29d96ec6eb0c  [soccer, stadiums]   \n",
       "\n",
       "        category_cluster          h3_cell  \n",
       "490551                 1  898cab70bd7ffff  "
      ]
     },
     "execution_count": 26,
     "metadata": {},
     "output_type": "execute_result"
    }
   ],
   "source": [
    "training_set_[training_set_['id'] == 'E_6e477dd29c2dc2']"
   ]
  },
  {
   "cell_type": "markdown",
   "id": "a6510781",
   "metadata": {
    "papermill": {
     "duration": 0.039671,
     "end_time": "2022-05-17T11:36:55.545081",
     "exception": false,
     "start_time": "2022-05-17T11:36:55.505410",
     "status": "completed"
    },
    "tags": []
   },
   "source": [
    "## As we can see, it was enough to find a pretty good match for two of 5 rows of the sample"
   ]
  },
  {
   "cell_type": "code",
   "execution_count": 27,
   "id": "8ff423e8",
   "metadata": {
    "execution": {
     "iopub.execute_input": "2022-05-17T11:36:55.624454Z",
     "iopub.status.busy": "2022-05-17T11:36:55.623506Z",
     "iopub.status.idle": "2022-05-17T11:36:55.628448Z",
     "shell.execute_reply": "2022-05-17T11:36:55.627889Z"
    },
    "papermill": {
     "duration": 0.046399,
     "end_time": "2022-05-17T11:36:55.629988",
     "exception": false,
     "start_time": "2022-05-17T11:36:55.583589",
     "status": "completed"
    },
    "tags": []
   },
   "outputs": [],
   "source": [
    "submission_sample = test_set_[['id','matches']]\n"
   ]
  },
  {
   "cell_type": "code",
   "execution_count": 28,
   "id": "7d0cc60b",
   "metadata": {
    "execution": {
     "iopub.execute_input": "2022-05-17T11:36:55.709141Z",
     "iopub.status.busy": "2022-05-17T11:36:55.708393Z",
     "iopub.status.idle": "2022-05-17T11:36:55.716532Z",
     "shell.execute_reply": "2022-05-17T11:36:55.715929Z"
    },
    "papermill": {
     "duration": 0.049242,
     "end_time": "2022-05-17T11:36:55.718169",
     "exception": false,
     "start_time": "2022-05-17T11:36:55.668927",
     "status": "completed"
    },
    "tags": []
   },
   "outputs": [
    {
     "data": {
      "text/html": [
       "<div>\n",
       "<style scoped>\n",
       "    .dataframe tbody tr th:only-of-type {\n",
       "        vertical-align: middle;\n",
       "    }\n",
       "\n",
       "    .dataframe tbody tr th {\n",
       "        vertical-align: top;\n",
       "    }\n",
       "\n",
       "    .dataframe thead th {\n",
       "        text-align: right;\n",
       "    }\n",
       "</style>\n",
       "<table border=\"1\" class=\"dataframe\">\n",
       "  <thead>\n",
       "    <tr style=\"text-align: right;\">\n",
       "      <th></th>\n",
       "      <th>id</th>\n",
       "      <th>matches</th>\n",
       "    </tr>\n",
       "  </thead>\n",
       "  <tbody>\n",
       "    <tr>\n",
       "      <th>0</th>\n",
       "      <td>E_00001118ad0191</td>\n",
       "      <td>E_00001118ad0191 E_5be051889de601</td>\n",
       "    </tr>\n",
       "    <tr>\n",
       "      <th>1</th>\n",
       "      <td>E_000020eb6fed40</td>\n",
       "      <td>E_000020eb6fed40</td>\n",
       "    </tr>\n",
       "    <tr>\n",
       "      <th>2</th>\n",
       "      <td>E_00002f98667edf</td>\n",
       "      <td>E_00002f98667edf</td>\n",
       "    </tr>\n",
       "    <tr>\n",
       "      <th>3</th>\n",
       "      <td>E_001b6bad66eb98</td>\n",
       "      <td>E_001b6bad66eb98 E_161706a74b5308</td>\n",
       "    </tr>\n",
       "    <tr>\n",
       "      <th>4</th>\n",
       "      <td>E_0283d9f61e569d</td>\n",
       "      <td>E_0283d9f61e569d E_6e477dd29c2dc2</td>\n",
       "    </tr>\n",
       "  </tbody>\n",
       "</table>\n",
       "</div>"
      ],
      "text/plain": [
       "                 id                            matches\n",
       "0  E_00001118ad0191  E_00001118ad0191 E_5be051889de601\n",
       "1  E_000020eb6fed40                   E_000020eb6fed40\n",
       "2  E_00002f98667edf                   E_00002f98667edf\n",
       "3  E_001b6bad66eb98  E_001b6bad66eb98 E_161706a74b5308\n",
       "4  E_0283d9f61e569d  E_0283d9f61e569d E_6e477dd29c2dc2"
      ]
     },
     "execution_count": 28,
     "metadata": {},
     "output_type": "execute_result"
    }
   ],
   "source": [
    "submission_sample"
   ]
  },
  {
   "cell_type": "markdown",
   "id": "75ad463b",
   "metadata": {
    "papermill": {
     "duration": 0.038596,
     "end_time": "2022-05-17T11:36:55.795701",
     "exception": false,
     "start_time": "2022-05-17T11:36:55.757105",
     "status": "completed"
    },
    "tags": []
   },
   "source": [
    "# Sample Submittion"
   ]
  },
  {
   "cell_type": "code",
   "execution_count": 29,
   "id": "336e6fd1",
   "metadata": {
    "execution": {
     "iopub.execute_input": "2022-05-17T11:36:55.874836Z",
     "iopub.status.busy": "2022-05-17T11:36:55.874551Z",
     "iopub.status.idle": "2022-05-17T11:36:55.881548Z",
     "shell.execute_reply": "2022-05-17T11:36:55.880995Z"
    },
    "papermill": {
     "duration": 0.048661,
     "end_time": "2022-05-17T11:36:55.883216",
     "exception": false,
     "start_time": "2022-05-17T11:36:55.834555",
     "status": "completed"
    },
    "tags": []
   },
   "outputs": [],
   "source": [
    "submission_sample.to_csv('/kaggle/working/submission.csv')"
   ]
  }
 ],
 "metadata": {
  "kernelspec": {
   "display_name": "Python 3",
   "language": "python",
   "name": "python3"
  },
  "language_info": {
   "codemirror_mode": {
    "name": "ipython",
    "version": 3
   },
   "file_extension": ".py",
   "mimetype": "text/x-python",
   "name": "python",
   "nbconvert_exporter": "python",
   "pygments_lexer": "ipython3",
   "version": "3.7.12"
  },
  "papermill": {
   "default_parameters": {},
   "duration": 449.68848,
   "end_time": "2022-05-17T11:36:58.543248",
   "environment_variables": {},
   "exception": null,
   "input_path": "__notebook__.ipynb",
   "output_path": "__notebook__.ipynb",
   "parameters": {},
   "start_time": "2022-05-17T11:29:28.854768",
   "version": "2.3.4"
  },
  "widgets": {
   "application/vnd.jupyter.widget-state+json": {
    "state": {
     "1a47b181f0b54859ae9b58bf1d7cf043": {
      "model_module": "@jupyter-widgets/controls",
      "model_module_version": "1.5.0",
      "model_name": "HBoxModel",
      "state": {
       "_dom_classes": [],
       "_model_module": "@jupyter-widgets/controls",
       "_model_module_version": "1.5.0",
       "_model_name": "HBoxModel",
       "_view_count": null,
       "_view_module": "@jupyter-widgets/controls",
       "_view_module_version": "1.5.0",
       "_view_name": "HBoxView",
       "box_style": "",
       "children": [
        "IPY_MODEL_9df13f0f3bd34117b4cfa5b629304571",
        "IPY_MODEL_7df0749c1f63478dafe651c92bbe4fc2",
        "IPY_MODEL_67edfc81b3a34971ae18c35a17c3f2fd"
       ],
       "layout": "IPY_MODEL_5011a5ac9b32412e86cc2b49d781a952"
      }
     },
     "1b842046155a4663bba6f0b468e6c6b5": {
      "model_module": "@jupyter-widgets/controls",
      "model_module_version": "1.5.0",
      "model_name": "ProgressStyleModel",
      "state": {
       "_model_module": "@jupyter-widgets/controls",
       "_model_module_version": "1.5.0",
       "_model_name": "ProgressStyleModel",
       "_view_count": null,
       "_view_module": "@jupyter-widgets/base",
       "_view_module_version": "1.2.0",
       "_view_name": "StyleView",
       "bar_color": null,
       "description_width": ""
      }
     },
     "23c41055315347f0b31f62c9fddd159c": {
      "model_module": "@jupyter-widgets/base",
      "model_module_version": "1.2.0",
      "model_name": "LayoutModel",
      "state": {
       "_model_module": "@jupyter-widgets/base",
       "_model_module_version": "1.2.0",
       "_model_name": "LayoutModel",
       "_view_count": null,
       "_view_module": "@jupyter-widgets/base",
       "_view_module_version": "1.2.0",
       "_view_name": "LayoutView",
       "align_content": null,
       "align_items": null,
       "align_self": null,
       "border": null,
       "bottom": null,
       "display": null,
       "flex": null,
       "flex_flow": null,
       "grid_area": null,
       "grid_auto_columns": null,
       "grid_auto_flow": null,
       "grid_auto_rows": null,
       "grid_column": null,
       "grid_gap": null,
       "grid_row": null,
       "grid_template_areas": null,
       "grid_template_columns": null,
       "grid_template_rows": null,
       "height": null,
       "justify_content": null,
       "justify_items": null,
       "left": null,
       "margin": null,
       "max_height": null,
       "max_width": null,
       "min_height": null,
       "min_width": null,
       "object_fit": null,
       "object_position": null,
       "order": null,
       "overflow": null,
       "overflow_x": null,
       "overflow_y": null,
       "padding": null,
       "right": null,
       "top": null,
       "visibility": null,
       "width": null
      }
     },
     "2502c1ba2f804b8196226a75f8fbf328": {
      "model_module": "@jupyter-widgets/base",
      "model_module_version": "1.2.0",
      "model_name": "LayoutModel",
      "state": {
       "_model_module": "@jupyter-widgets/base",
       "_model_module_version": "1.2.0",
       "_model_name": "LayoutModel",
       "_view_count": null,
       "_view_module": "@jupyter-widgets/base",
       "_view_module_version": "1.2.0",
       "_view_name": "LayoutView",
       "align_content": null,
       "align_items": null,
       "align_self": null,
       "border": null,
       "bottom": null,
       "display": null,
       "flex": null,
       "flex_flow": null,
       "grid_area": null,
       "grid_auto_columns": null,
       "grid_auto_flow": null,
       "grid_auto_rows": null,
       "grid_column": null,
       "grid_gap": null,
       "grid_row": null,
       "grid_template_areas": null,
       "grid_template_columns": null,
       "grid_template_rows": null,
       "height": null,
       "justify_content": null,
       "justify_items": null,
       "left": null,
       "margin": null,
       "max_height": null,
       "max_width": null,
       "min_height": null,
       "min_width": null,
       "object_fit": null,
       "object_position": null,
       "order": null,
       "overflow": null,
       "overflow_x": null,
       "overflow_y": null,
       "padding": null,
       "right": null,
       "top": null,
       "visibility": null,
       "width": null
      }
     },
     "361085fc07ec45b69c271b5e610aa033": {
      "model_module": "@jupyter-widgets/controls",
      "model_module_version": "1.5.0",
      "model_name": "HTMLModel",
      "state": {
       "_dom_classes": [],
       "_model_module": "@jupyter-widgets/controls",
       "_model_module_version": "1.5.0",
       "_model_name": "HTMLModel",
       "_view_count": null,
       "_view_module": "@jupyter-widgets/controls",
       "_view_module_version": "1.5.0",
       "_view_name": "HTMLView",
       "description": "",
       "description_tooltip": null,
       "layout": "IPY_MODEL_c772055d7128417e8a981bc335beba09",
       "placeholder": "​",
       "style": "IPY_MODEL_f5d55c5a7b2c444e93506771f01dea22",
       "value": "100%"
      }
     },
     "3f2fbf15b6244208a8af977095fadbdd": {
      "model_module": "@jupyter-widgets/controls",
      "model_module_version": "1.5.0",
      "model_name": "DescriptionStyleModel",
      "state": {
       "_model_module": "@jupyter-widgets/controls",
       "_model_module_version": "1.5.0",
       "_model_name": "DescriptionStyleModel",
       "_view_count": null,
       "_view_module": "@jupyter-widgets/base",
       "_view_module_version": "1.2.0",
       "_view_name": "StyleView",
       "description_width": ""
      }
     },
     "406b91c874094a74b968ee9b18c03138": {
      "model_module": "@jupyter-widgets/controls",
      "model_module_version": "1.5.0",
      "model_name": "ProgressStyleModel",
      "state": {
       "_model_module": "@jupyter-widgets/controls",
       "_model_module_version": "1.5.0",
       "_model_name": "ProgressStyleModel",
       "_view_count": null,
       "_view_module": "@jupyter-widgets/base",
       "_view_module_version": "1.2.0",
       "_view_name": "StyleView",
       "bar_color": null,
       "description_width": ""
      }
     },
     "435dad0e63144df59453cfa007c774da": {
      "model_module": "@jupyter-widgets/base",
      "model_module_version": "1.2.0",
      "model_name": "LayoutModel",
      "state": {
       "_model_module": "@jupyter-widgets/base",
       "_model_module_version": "1.2.0",
       "_model_name": "LayoutModel",
       "_view_count": null,
       "_view_module": "@jupyter-widgets/base",
       "_view_module_version": "1.2.0",
       "_view_name": "LayoutView",
       "align_content": null,
       "align_items": null,
       "align_self": null,
       "border": null,
       "bottom": null,
       "display": null,
       "flex": null,
       "flex_flow": null,
       "grid_area": null,
       "grid_auto_columns": null,
       "grid_auto_flow": null,
       "grid_auto_rows": null,
       "grid_column": null,
       "grid_gap": null,
       "grid_row": null,
       "grid_template_areas": null,
       "grid_template_columns": null,
       "grid_template_rows": null,
       "height": null,
       "justify_content": null,
       "justify_items": null,
       "left": null,
       "margin": null,
       "max_height": null,
       "max_width": null,
       "min_height": null,
       "min_width": null,
       "object_fit": null,
       "object_position": null,
       "order": null,
       "overflow": null,
       "overflow_x": null,
       "overflow_y": null,
       "padding": null,
       "right": null,
       "top": null,
       "visibility": null,
       "width": null
      }
     },
     "5011a5ac9b32412e86cc2b49d781a952": {
      "model_module": "@jupyter-widgets/base",
      "model_module_version": "1.2.0",
      "model_name": "LayoutModel",
      "state": {
       "_model_module": "@jupyter-widgets/base",
       "_model_module_version": "1.2.0",
       "_model_name": "LayoutModel",
       "_view_count": null,
       "_view_module": "@jupyter-widgets/base",
       "_view_module_version": "1.2.0",
       "_view_name": "LayoutView",
       "align_content": null,
       "align_items": null,
       "align_self": null,
       "border": null,
       "bottom": null,
       "display": null,
       "flex": null,
       "flex_flow": null,
       "grid_area": null,
       "grid_auto_columns": null,
       "grid_auto_flow": null,
       "grid_auto_rows": null,
       "grid_column": null,
       "grid_gap": null,
       "grid_row": null,
       "grid_template_areas": null,
       "grid_template_columns": null,
       "grid_template_rows": null,
       "height": null,
       "justify_content": null,
       "justify_items": null,
       "left": null,
       "margin": null,
       "max_height": null,
       "max_width": null,
       "min_height": null,
       "min_width": null,
       "object_fit": null,
       "object_position": null,
       "order": null,
       "overflow": null,
       "overflow_x": null,
       "overflow_y": null,
       "padding": null,
       "right": null,
       "top": null,
       "visibility": null,
       "width": null
      }
     },
     "5d8503e145764b99b0ca451bc1e15033": {
      "model_module": "@jupyter-widgets/base",
      "model_module_version": "1.2.0",
      "model_name": "LayoutModel",
      "state": {
       "_model_module": "@jupyter-widgets/base",
       "_model_module_version": "1.2.0",
       "_model_name": "LayoutModel",
       "_view_count": null,
       "_view_module": "@jupyter-widgets/base",
       "_view_module_version": "1.2.0",
       "_view_name": "LayoutView",
       "align_content": null,
       "align_items": null,
       "align_self": null,
       "border": null,
       "bottom": null,
       "display": null,
       "flex": null,
       "flex_flow": null,
       "grid_area": null,
       "grid_auto_columns": null,
       "grid_auto_flow": null,
       "grid_auto_rows": null,
       "grid_column": null,
       "grid_gap": null,
       "grid_row": null,
       "grid_template_areas": null,
       "grid_template_columns": null,
       "grid_template_rows": null,
       "height": null,
       "justify_content": null,
       "justify_items": null,
       "left": null,
       "margin": null,
       "max_height": null,
       "max_width": null,
       "min_height": null,
       "min_width": null,
       "object_fit": null,
       "object_position": null,
       "order": null,
       "overflow": null,
       "overflow_x": null,
       "overflow_y": null,
       "padding": null,
       "right": null,
       "top": null,
       "visibility": null,
       "width": null
      }
     },
     "643682baa53342b099efd1be3136c8ef": {
      "model_module": "@jupyter-widgets/controls",
      "model_module_version": "1.5.0",
      "model_name": "HTMLModel",
      "state": {
       "_dom_classes": [],
       "_model_module": "@jupyter-widgets/controls",
       "_model_module_version": "1.5.0",
       "_model_name": "HTMLModel",
       "_view_count": null,
       "_view_module": "@jupyter-widgets/controls",
       "_view_module_version": "1.5.0",
       "_view_name": "HTMLView",
       "description": "",
       "description_tooltip": null,
       "layout": "IPY_MODEL_ee57d9bbc90447cb8835e4207ae2e77c",
       "placeholder": "​",
       "style": "IPY_MODEL_3f2fbf15b6244208a8af977095fadbdd",
       "value": "100%"
      }
     },
     "67edfc81b3a34971ae18c35a17c3f2fd": {
      "model_module": "@jupyter-widgets/controls",
      "model_module_version": "1.5.0",
      "model_name": "HTMLModel",
      "state": {
       "_dom_classes": [],
       "_model_module": "@jupyter-widgets/controls",
       "_model_module_version": "1.5.0",
       "_model_name": "HTMLModel",
       "_view_count": null,
       "_view_module": "@jupyter-widgets/controls",
       "_view_module_version": "1.5.0",
       "_view_name": "HTMLView",
       "description": "",
       "description_tooltip": null,
       "layout": "IPY_MODEL_bbc08c8d605e47c59bcb40da035e7732",
       "placeholder": "​",
       "style": "IPY_MODEL_b4116740be774176bc87a8e0616a5609",
       "value": " 5/5 [00:00&lt;00:00, 186.75it/s]"
      }
     },
     "6c7678883aa84eb797b7f5e41766159d": {
      "model_module": "@jupyter-widgets/base",
      "model_module_version": "1.2.0",
      "model_name": "LayoutModel",
      "state": {
       "_model_module": "@jupyter-widgets/base",
       "_model_module_version": "1.2.0",
       "_model_name": "LayoutModel",
       "_view_count": null,
       "_view_module": "@jupyter-widgets/base",
       "_view_module_version": "1.2.0",
       "_view_name": "LayoutView",
       "align_content": null,
       "align_items": null,
       "align_self": null,
       "border": null,
       "bottom": null,
       "display": null,
       "flex": null,
       "flex_flow": null,
       "grid_area": null,
       "grid_auto_columns": null,
       "grid_auto_flow": null,
       "grid_auto_rows": null,
       "grid_column": null,
       "grid_gap": null,
       "grid_row": null,
       "grid_template_areas": null,
       "grid_template_columns": null,
       "grid_template_rows": null,
       "height": null,
       "justify_content": null,
       "justify_items": null,
       "left": null,
       "margin": null,
       "max_height": null,
       "max_width": null,
       "min_height": null,
       "min_width": null,
       "object_fit": null,
       "object_position": null,
       "order": null,
       "overflow": null,
       "overflow_x": null,
       "overflow_y": null,
       "padding": null,
       "right": null,
       "top": null,
       "visibility": null,
       "width": null
      }
     },
     "74ee95adeea2469e898754ccd85f4e1c": {
      "model_module": "@jupyter-widgets/controls",
      "model_module_version": "1.5.0",
      "model_name": "HTMLModel",
      "state": {
       "_dom_classes": [],
       "_model_module": "@jupyter-widgets/controls",
       "_model_module_version": "1.5.0",
       "_model_name": "HTMLModel",
       "_view_count": null,
       "_view_module": "@jupyter-widgets/controls",
       "_view_module_version": "1.5.0",
       "_view_name": "HTMLView",
       "description": "",
       "description_tooltip": null,
       "layout": "IPY_MODEL_a0a5757a126b457a9b39a062ab35a7e0",
       "placeholder": "​",
       "style": "IPY_MODEL_8e3fa5d0cd5e4dc98d3ddf90d95d9573",
       "value": " 5/5 [00:00&lt;00:00, 207.24it/s]"
      }
     },
     "76bf86229ee545ab94541d0d3ac66605": {
      "model_module": "@jupyter-widgets/base",
      "model_module_version": "1.2.0",
      "model_name": "LayoutModel",
      "state": {
       "_model_module": "@jupyter-widgets/base",
       "_model_module_version": "1.2.0",
       "_model_name": "LayoutModel",
       "_view_count": null,
       "_view_module": "@jupyter-widgets/base",
       "_view_module_version": "1.2.0",
       "_view_name": "LayoutView",
       "align_content": null,
       "align_items": null,
       "align_self": null,
       "border": null,
       "bottom": null,
       "display": null,
       "flex": null,
       "flex_flow": null,
       "grid_area": null,
       "grid_auto_columns": null,
       "grid_auto_flow": null,
       "grid_auto_rows": null,
       "grid_column": null,
       "grid_gap": null,
       "grid_row": null,
       "grid_template_areas": null,
       "grid_template_columns": null,
       "grid_template_rows": null,
       "height": null,
       "justify_content": null,
       "justify_items": null,
       "left": null,
       "margin": null,
       "max_height": null,
       "max_width": null,
       "min_height": null,
       "min_width": null,
       "object_fit": null,
       "object_position": null,
       "order": null,
       "overflow": null,
       "overflow_x": null,
       "overflow_y": null,
       "padding": null,
       "right": null,
       "top": null,
       "visibility": null,
       "width": null
      }
     },
     "7df0749c1f63478dafe651c92bbe4fc2": {
      "model_module": "@jupyter-widgets/controls",
      "model_module_version": "1.5.0",
      "model_name": "FloatProgressModel",
      "state": {
       "_dom_classes": [],
       "_model_module": "@jupyter-widgets/controls",
       "_model_module_version": "1.5.0",
       "_model_name": "FloatProgressModel",
       "_view_count": null,
       "_view_module": "@jupyter-widgets/controls",
       "_view_module_version": "1.5.0",
       "_view_name": "ProgressView",
       "bar_style": "success",
       "description": "",
       "description_tooltip": null,
       "layout": "IPY_MODEL_76bf86229ee545ab94541d0d3ac66605",
       "max": 5.0,
       "min": 0.0,
       "orientation": "horizontal",
       "style": "IPY_MODEL_1b842046155a4663bba6f0b468e6c6b5",
       "value": 5.0
      }
     },
     "8e3fa5d0cd5e4dc98d3ddf90d95d9573": {
      "model_module": "@jupyter-widgets/controls",
      "model_module_version": "1.5.0",
      "model_name": "DescriptionStyleModel",
      "state": {
       "_model_module": "@jupyter-widgets/controls",
       "_model_module_version": "1.5.0",
       "_model_name": "DescriptionStyleModel",
       "_view_count": null,
       "_view_module": "@jupyter-widgets/base",
       "_view_module_version": "1.2.0",
       "_view_name": "StyleView",
       "description_width": ""
      }
     },
     "9df13f0f3bd34117b4cfa5b629304571": {
      "model_module": "@jupyter-widgets/controls",
      "model_module_version": "1.5.0",
      "model_name": "HTMLModel",
      "state": {
       "_dom_classes": [],
       "_model_module": "@jupyter-widgets/controls",
       "_model_module_version": "1.5.0",
       "_model_name": "HTMLModel",
       "_view_count": null,
       "_view_module": "@jupyter-widgets/controls",
       "_view_module_version": "1.5.0",
       "_view_name": "HTMLView",
       "description": "",
       "description_tooltip": null,
       "layout": "IPY_MODEL_435dad0e63144df59453cfa007c774da",
       "placeholder": "​",
       "style": "IPY_MODEL_c25a0984a81d4d058b82f1eb2887b989",
       "value": "100%"
      }
     },
     "a0a5757a126b457a9b39a062ab35a7e0": {
      "model_module": "@jupyter-widgets/base",
      "model_module_version": "1.2.0",
      "model_name": "LayoutModel",
      "state": {
       "_model_module": "@jupyter-widgets/base",
       "_model_module_version": "1.2.0",
       "_model_name": "LayoutModel",
       "_view_count": null,
       "_view_module": "@jupyter-widgets/base",
       "_view_module_version": "1.2.0",
       "_view_name": "LayoutView",
       "align_content": null,
       "align_items": null,
       "align_self": null,
       "border": null,
       "bottom": null,
       "display": null,
       "flex": null,
       "flex_flow": null,
       "grid_area": null,
       "grid_auto_columns": null,
       "grid_auto_flow": null,
       "grid_auto_rows": null,
       "grid_column": null,
       "grid_gap": null,
       "grid_row": null,
       "grid_template_areas": null,
       "grid_template_columns": null,
       "grid_template_rows": null,
       "height": null,
       "justify_content": null,
       "justify_items": null,
       "left": null,
       "margin": null,
       "max_height": null,
       "max_width": null,
       "min_height": null,
       "min_width": null,
       "object_fit": null,
       "object_position": null,
       "order": null,
       "overflow": null,
       "overflow_x": null,
       "overflow_y": null,
       "padding": null,
       "right": null,
       "top": null,
       "visibility": null,
       "width": null
      }
     },
     "b0982a2c86254567818dc1edae0dbce1": {
      "model_module": "@jupyter-widgets/controls",
      "model_module_version": "1.5.0",
      "model_name": "DescriptionStyleModel",
      "state": {
       "_model_module": "@jupyter-widgets/controls",
       "_model_module_version": "1.5.0",
       "_model_name": "DescriptionStyleModel",
       "_view_count": null,
       "_view_module": "@jupyter-widgets/base",
       "_view_module_version": "1.2.0",
       "_view_name": "StyleView",
       "description_width": ""
      }
     },
     "b4116740be774176bc87a8e0616a5609": {
      "model_module": "@jupyter-widgets/controls",
      "model_module_version": "1.5.0",
      "model_name": "DescriptionStyleModel",
      "state": {
       "_model_module": "@jupyter-widgets/controls",
       "_model_module_version": "1.5.0",
       "_model_name": "DescriptionStyleModel",
       "_view_count": null,
       "_view_module": "@jupyter-widgets/base",
       "_view_module_version": "1.2.0",
       "_view_name": "StyleView",
       "description_width": ""
      }
     },
     "bbc08c8d605e47c59bcb40da035e7732": {
      "model_module": "@jupyter-widgets/base",
      "model_module_version": "1.2.0",
      "model_name": "LayoutModel",
      "state": {
       "_model_module": "@jupyter-widgets/base",
       "_model_module_version": "1.2.0",
       "_model_name": "LayoutModel",
       "_view_count": null,
       "_view_module": "@jupyter-widgets/base",
       "_view_module_version": "1.2.0",
       "_view_name": "LayoutView",
       "align_content": null,
       "align_items": null,
       "align_self": null,
       "border": null,
       "bottom": null,
       "display": null,
       "flex": null,
       "flex_flow": null,
       "grid_area": null,
       "grid_auto_columns": null,
       "grid_auto_flow": null,
       "grid_auto_rows": null,
       "grid_column": null,
       "grid_gap": null,
       "grid_row": null,
       "grid_template_areas": null,
       "grid_template_columns": null,
       "grid_template_rows": null,
       "height": null,
       "justify_content": null,
       "justify_items": null,
       "left": null,
       "margin": null,
       "max_height": null,
       "max_width": null,
       "min_height": null,
       "min_width": null,
       "object_fit": null,
       "object_position": null,
       "order": null,
       "overflow": null,
       "overflow_x": null,
       "overflow_y": null,
       "padding": null,
       "right": null,
       "top": null,
       "visibility": null,
       "width": null
      }
     },
     "bf59ed82bc89401c8462f0f17e4ecbc7": {
      "model_module": "@jupyter-widgets/controls",
      "model_module_version": "1.5.0",
      "model_name": "HBoxModel",
      "state": {
       "_dom_classes": [],
       "_model_module": "@jupyter-widgets/controls",
       "_model_module_version": "1.5.0",
       "_model_name": "HBoxModel",
       "_view_count": null,
       "_view_module": "@jupyter-widgets/controls",
       "_view_module_version": "1.5.0",
       "_view_name": "HBoxView",
       "box_style": "",
       "children": [
        "IPY_MODEL_361085fc07ec45b69c271b5e610aa033",
        "IPY_MODEL_fedd696caac344f794c5ad74e5565800",
        "IPY_MODEL_f34c7b179af8483e8f42d657f98e453a"
       ],
       "layout": "IPY_MODEL_23c41055315347f0b31f62c9fddd159c"
      }
     },
     "c25a0984a81d4d058b82f1eb2887b989": {
      "model_module": "@jupyter-widgets/controls",
      "model_module_version": "1.5.0",
      "model_name": "DescriptionStyleModel",
      "state": {
       "_model_module": "@jupyter-widgets/controls",
       "_model_module_version": "1.5.0",
       "_model_name": "DescriptionStyleModel",
       "_view_count": null,
       "_view_module": "@jupyter-widgets/base",
       "_view_module_version": "1.2.0",
       "_view_name": "StyleView",
       "description_width": ""
      }
     },
     "c772055d7128417e8a981bc335beba09": {
      "model_module": "@jupyter-widgets/base",
      "model_module_version": "1.2.0",
      "model_name": "LayoutModel",
      "state": {
       "_model_module": "@jupyter-widgets/base",
       "_model_module_version": "1.2.0",
       "_model_name": "LayoutModel",
       "_view_count": null,
       "_view_module": "@jupyter-widgets/base",
       "_view_module_version": "1.2.0",
       "_view_name": "LayoutView",
       "align_content": null,
       "align_items": null,
       "align_self": null,
       "border": null,
       "bottom": null,
       "display": null,
       "flex": null,
       "flex_flow": null,
       "grid_area": null,
       "grid_auto_columns": null,
       "grid_auto_flow": null,
       "grid_auto_rows": null,
       "grid_column": null,
       "grid_gap": null,
       "grid_row": null,
       "grid_template_areas": null,
       "grid_template_columns": null,
       "grid_template_rows": null,
       "height": null,
       "justify_content": null,
       "justify_items": null,
       "left": null,
       "margin": null,
       "max_height": null,
       "max_width": null,
       "min_height": null,
       "min_width": null,
       "object_fit": null,
       "object_position": null,
       "order": null,
       "overflow": null,
       "overflow_x": null,
       "overflow_y": null,
       "padding": null,
       "right": null,
       "top": null,
       "visibility": null,
       "width": null
      }
     },
     "d4ceb6613a7d44379351e2a43e1eea64": {
      "model_module": "@jupyter-widgets/controls",
      "model_module_version": "1.5.0",
      "model_name": "FloatProgressModel",
      "state": {
       "_dom_classes": [],
       "_model_module": "@jupyter-widgets/controls",
       "_model_module_version": "1.5.0",
       "_model_name": "FloatProgressModel",
       "_view_count": null,
       "_view_module": "@jupyter-widgets/controls",
       "_view_module_version": "1.5.0",
       "_view_name": "ProgressView",
       "bar_style": "success",
       "description": "",
       "description_tooltip": null,
       "layout": "IPY_MODEL_e13ad2389e3148548b44e60b075eba4a",
       "max": 5.0,
       "min": 0.0,
       "orientation": "horizontal",
       "style": "IPY_MODEL_eabb530ee0dd4fa1bf6147c826d1b852",
       "value": 5.0
      }
     },
     "e13ad2389e3148548b44e60b075eba4a": {
      "model_module": "@jupyter-widgets/base",
      "model_module_version": "1.2.0",
      "model_name": "LayoutModel",
      "state": {
       "_model_module": "@jupyter-widgets/base",
       "_model_module_version": "1.2.0",
       "_model_name": "LayoutModel",
       "_view_count": null,
       "_view_module": "@jupyter-widgets/base",
       "_view_module_version": "1.2.0",
       "_view_name": "LayoutView",
       "align_content": null,
       "align_items": null,
       "align_self": null,
       "border": null,
       "bottom": null,
       "display": null,
       "flex": null,
       "flex_flow": null,
       "grid_area": null,
       "grid_auto_columns": null,
       "grid_auto_flow": null,
       "grid_auto_rows": null,
       "grid_column": null,
       "grid_gap": null,
       "grid_row": null,
       "grid_template_areas": null,
       "grid_template_columns": null,
       "grid_template_rows": null,
       "height": null,
       "justify_content": null,
       "justify_items": null,
       "left": null,
       "margin": null,
       "max_height": null,
       "max_width": null,
       "min_height": null,
       "min_width": null,
       "object_fit": null,
       "object_position": null,
       "order": null,
       "overflow": null,
       "overflow_x": null,
       "overflow_y": null,
       "padding": null,
       "right": null,
       "top": null,
       "visibility": null,
       "width": null
      }
     },
     "eabb530ee0dd4fa1bf6147c826d1b852": {
      "model_module": "@jupyter-widgets/controls",
      "model_module_version": "1.5.0",
      "model_name": "ProgressStyleModel",
      "state": {
       "_model_module": "@jupyter-widgets/controls",
       "_model_module_version": "1.5.0",
       "_model_name": "ProgressStyleModel",
       "_view_count": null,
       "_view_module": "@jupyter-widgets/base",
       "_view_module_version": "1.2.0",
       "_view_name": "StyleView",
       "bar_color": null,
       "description_width": ""
      }
     },
     "ee57d9bbc90447cb8835e4207ae2e77c": {
      "model_module": "@jupyter-widgets/base",
      "model_module_version": "1.2.0",
      "model_name": "LayoutModel",
      "state": {
       "_model_module": "@jupyter-widgets/base",
       "_model_module_version": "1.2.0",
       "_model_name": "LayoutModel",
       "_view_count": null,
       "_view_module": "@jupyter-widgets/base",
       "_view_module_version": "1.2.0",
       "_view_name": "LayoutView",
       "align_content": null,
       "align_items": null,
       "align_self": null,
       "border": null,
       "bottom": null,
       "display": null,
       "flex": null,
       "flex_flow": null,
       "grid_area": null,
       "grid_auto_columns": null,
       "grid_auto_flow": null,
       "grid_auto_rows": null,
       "grid_column": null,
       "grid_gap": null,
       "grid_row": null,
       "grid_template_areas": null,
       "grid_template_columns": null,
       "grid_template_rows": null,
       "height": null,
       "justify_content": null,
       "justify_items": null,
       "left": null,
       "margin": null,
       "max_height": null,
       "max_width": null,
       "min_height": null,
       "min_width": null,
       "object_fit": null,
       "object_position": null,
       "order": null,
       "overflow": null,
       "overflow_x": null,
       "overflow_y": null,
       "padding": null,
       "right": null,
       "top": null,
       "visibility": null,
       "width": null
      }
     },
     "f34c7b179af8483e8f42d657f98e453a": {
      "model_module": "@jupyter-widgets/controls",
      "model_module_version": "1.5.0",
      "model_name": "HTMLModel",
      "state": {
       "_dom_classes": [],
       "_model_module": "@jupyter-widgets/controls",
       "_model_module_version": "1.5.0",
       "_model_name": "HTMLModel",
       "_view_count": null,
       "_view_module": "@jupyter-widgets/controls",
       "_view_module_version": "1.5.0",
       "_view_name": "HTMLView",
       "description": "",
       "description_tooltip": null,
       "layout": "IPY_MODEL_2502c1ba2f804b8196226a75f8fbf328",
       "placeholder": "​",
       "style": "IPY_MODEL_b0982a2c86254567818dc1edae0dbce1",
       "value": " 1138812/1138812 [02:58&lt;00:00, 4797.19it/s]"
      }
     },
     "f5d55c5a7b2c444e93506771f01dea22": {
      "model_module": "@jupyter-widgets/controls",
      "model_module_version": "1.5.0",
      "model_name": "DescriptionStyleModel",
      "state": {
       "_model_module": "@jupyter-widgets/controls",
       "_model_module_version": "1.5.0",
       "_model_name": "DescriptionStyleModel",
       "_view_count": null,
       "_view_module": "@jupyter-widgets/base",
       "_view_module_version": "1.2.0",
       "_view_name": "StyleView",
       "description_width": ""
      }
     },
     "fc7926dd84424388ba946049a6bb7fdb": {
      "model_module": "@jupyter-widgets/controls",
      "model_module_version": "1.5.0",
      "model_name": "HBoxModel",
      "state": {
       "_dom_classes": [],
       "_model_module": "@jupyter-widgets/controls",
       "_model_module_version": "1.5.0",
       "_model_name": "HBoxModel",
       "_view_count": null,
       "_view_module": "@jupyter-widgets/controls",
       "_view_module_version": "1.5.0",
       "_view_name": "HBoxView",
       "box_style": "",
       "children": [
        "IPY_MODEL_643682baa53342b099efd1be3136c8ef",
        "IPY_MODEL_d4ceb6613a7d44379351e2a43e1eea64",
        "IPY_MODEL_74ee95adeea2469e898754ccd85f4e1c"
       ],
       "layout": "IPY_MODEL_5d8503e145764b99b0ca451bc1e15033"
      }
     },
     "fedd696caac344f794c5ad74e5565800": {
      "model_module": "@jupyter-widgets/controls",
      "model_module_version": "1.5.0",
      "model_name": "FloatProgressModel",
      "state": {
       "_dom_classes": [],
       "_model_module": "@jupyter-widgets/controls",
       "_model_module_version": "1.5.0",
       "_model_name": "FloatProgressModel",
       "_view_count": null,
       "_view_module": "@jupyter-widgets/controls",
       "_view_module_version": "1.5.0",
       "_view_name": "ProgressView",
       "bar_style": "success",
       "description": "",
       "description_tooltip": null,
       "layout": "IPY_MODEL_6c7678883aa84eb797b7f5e41766159d",
       "max": 1138812.0,
       "min": 0.0,
       "orientation": "horizontal",
       "style": "IPY_MODEL_406b91c874094a74b968ee9b18c03138",
       "value": 1138812.0
      }
     }
    },
    "version_major": 2,
    "version_minor": 0
   }
  }
 },
 "nbformat": 4,
 "nbformat_minor": 5
}
